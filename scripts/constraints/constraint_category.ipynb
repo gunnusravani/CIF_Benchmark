{
 "cells": [
  {
   "cell_type": "code",
   "execution_count": 5,
   "id": "4d4708ee",
   "metadata": {},
   "outputs": [],
   "source": [
    "from utils.config_loader import load_yaml_config, load_path_registry\n",
    "import os\n",
    "import sys\n",
    "import pandas as pd\n",
    "\n",
    "project_root = \"/Users/sravanigunnu/Library/CloudStorage/OneDrive-IBM/Documents/VS_Projects/Complex_Instruction_Following\"\n",
    "sys.path.append(project_root)\n",
    "# Change the working directory so relative paths work\n",
    "os.chdir(project_root)\n",
    "path = load_path_registry()\n",
    "data_path = load_yaml_config(path[\"constraint_preprocess\"])\n",
    "final_path = data_path[\"output_path\"]\n",
    "default_output_path = os.path.join(\n",
    "    project_root, final_path\n",
    ")\n",
    "\n"
   ]
  },
  {
   "cell_type": "code",
   "execution_count": 6,
   "id": "1a7a57ce",
   "metadata": {},
   "outputs": [
    {
     "name": "stdout",
     "output_type": "stream",
     "text": [
      "<class 'pandas.core.frame.DataFrame'>\n",
      "RangeIndex: 60 entries, 0 to 59\n",
      "Data columns (total 7 columns):\n",
      " #   Column                Non-Null Count  Dtype \n",
      "---  ------                --------------  ----- \n",
      " 0   dataset               60 non-null     object\n",
      " 1   instruction           60 non-null     object\n",
      " 2   code                  60 non-null     object\n",
      " 3   test                  20 non-null     object\n",
      " 4   Characteristics       60 non-null     object\n",
      " 5   constraints           60 non-null     object\n",
      " 6   Characteristics_List  60 non-null     object\n",
      "dtypes: object(7)\n",
      "memory usage: 3.4+ KB\n"
     ]
    }
   ],
   "source": [
    "df = pd.read_csv(final_path)\n",
    "df.info()"
   ]
  },
  {
   "cell_type": "code",
   "execution_count": 2,
   "id": "2d0dc186",
   "metadata": {},
   "outputs": [],
   "source": [
    "import pandas as pd\n",
    "\n",
    "# Load CSV file\n",
    "df = pd.read_csv(\"../../data/processed/instruction_dataset_with_mapped_categories.csv\")\n",
    "\n",
    "# Convert to JSON and save\n",
    "df.to_json(\"instruction_dataset_with_mapped_categories.json\", orient=\"records\", indent=2)\n"
   ]
  },
  {
   "cell_type": "code",
   "execution_count": null,
   "id": "60311641",
   "metadata": {},
   "outputs": [],
   "source": []
  }
 ],
 "metadata": {
  "kernelspec": {
   "display_name": "internship",
   "language": "python",
   "name": "python3"
  },
  "language_info": {
   "codemirror_mode": {
    "name": "ipython",
    "version": 3
   },
   "file_extension": ".py",
   "mimetype": "text/x-python",
   "name": "python",
   "nbconvert_exporter": "python",
   "pygments_lexer": "ipython3",
   "version": "3.13.3"
  }
 },
 "nbformat": 4,
 "nbformat_minor": 5
}
