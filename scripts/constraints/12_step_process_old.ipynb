{
  "cells": [
    {
      "cell_type": "markdown",
      "metadata": {
        "id": "zKh3V9eq1qMR"
      },
      "source": [
        "# Step 1 - Get and Prepare Input Datasets\n",
        "\n"
      ]
    },
    {
      "cell_type": "markdown",
      "metadata": {
        "id": "ycdAG7Uj2OJf"
      },
      "source": [
        "## Loading MCEval-Instruct Dataset"
      ]
    },
    {
      "cell_type": "code",
      "execution_count": 2,
      "metadata": {
        "id": "79-oAX2y2Tg9"
      },
      "outputs": [
        {
          "name": "stderr",
          "output_type": "stream",
          "text": [
            "/Users/sravanigunnu/Library/CloudStorage/OneDrive-IBM/Documents/VS_Projects/Complex_Instruction_Following/internship/lib/python3.13/site-packages/tqdm/auto.py:21: TqdmWarning: IProgress not found. Please update jupyter and ipywidgets. See https://ipywidgets.readthedocs.io/en/stable/user_install.html\n",
            "  from .autonotebook import tqdm as notebook_tqdm\n"
          ]
        }
      ],
      "source": [
        "import pandas as pd\n",
        "\n",
        "Mceval = pd.read_json(\"hf://datasets/Multilingual-Multimodal-NLP/McEval-Instruct/McEval-Instruct.json\")"
      ]
    },
    {
      "cell_type": "code",
      "execution_count": 3,
      "metadata": {
        "colab": {
          "base_uri": "https://localhost:8080/"
        },
        "id": "KAzlmbVb2sSK",
        "outputId": "e010084f-3b5b-43d8-c4ca-0aa76b3ac326"
      },
      "outputs": [
        {
          "name": "stdout",
          "output_type": "stream",
          "text": [
            "<class 'pandas.core.frame.DataFrame'>\n",
            "RangeIndex: 35943 entries, 0 to 35942\n",
            "Data columns (total 4 columns):\n",
            " #   Column       Non-Null Count  Dtype \n",
            "---  ------       --------------  ----- \n",
            " 0   instruction  35943 non-null  object\n",
            " 1   output       35943 non-null  object\n",
            " 2   language     35943 non-null  object\n",
            " 3   source       35943 non-null  object\n",
            "dtypes: object(4)\n",
            "memory usage: 1.1+ MB\n"
          ]
        }
      ],
      "source": [
        "Mceval.info()"
      ]
    },
    {
      "cell_type": "code",
      "execution_count": 4,
      "metadata": {
        "colab": {
          "base_uri": "https://localhost:8080/",
          "height": 395
        },
        "id": "0W2n_24d2v_N",
        "outputId": "a478a58f-7075-445f-f270-d3a25d2dc307"
      },
      "outputs": [
        {
          "data": {
            "text/html": [
              "<div>\n",
              "<style scoped>\n",
              "    .dataframe tbody tr th:only-of-type {\n",
              "        vertical-align: middle;\n",
              "    }\n",
              "\n",
              "    .dataframe tbody tr th {\n",
              "        vertical-align: top;\n",
              "    }\n",
              "\n",
              "    .dataframe thead th {\n",
              "        text-align: right;\n",
              "    }\n",
              "</style>\n",
              "<table border=\"1\" class=\"dataframe\">\n",
              "  <thead>\n",
              "    <tr style=\"text-align: right;\">\n",
              "      <th></th>\n",
              "      <th>instruction</th>\n",
              "      <th>output</th>\n",
              "      <th>language</th>\n",
              "      <th>source</th>\n",
              "    </tr>\n",
              "  </thead>\n",
              "  <tbody>\n",
              "    <tr>\n",
              "      <th>0</th>\n",
              "      <td>\\n\\nWrite a Fortran subroutine that applies a ...</td>\n",
              "      <td>\\n\\n```fortran\\n! Import necessary modules\\nim...</td>\n",
              "      <td>FORTRAN</td>\n",
              "      <td>McEval-Instruct</td>\n",
              "    </tr>\n",
              "    <tr>\n",
              "      <th>1</th>\n",
              "      <td>\\nDesign a function that finds the shortest pa...</td>\n",
              "      <td>\\n```javascript\\nclass Maze {\\n  constructor(\\...</td>\n",
              "      <td>JavaScript</td>\n",
              "      <td>McEval-Instruct</td>\n",
              "    </tr>\n",
              "    <tr>\n",
              "      <th>2</th>\n",
              "      <td>\\n\\nCreate a React component called `DeviceDet...</td>\n",
              "      <td>\\n\\n```jsx\\nimport React from 'react';\\nimport...</td>\n",
              "      <td>JavaScript</td>\n",
              "      <td>McEval-Instruct</td>\n",
              "    </tr>\n",
              "    <tr>\n",
              "      <th>3</th>\n",
              "      <td>\\n\\nCreate a React component named `EditAvaila...</td>\n",
              "      <td>\\n\\n```jsx\\nimport React, { useState } from 'r...</td>\n",
              "      <td>JavaScript</td>\n",
              "      <td>McEval-Instruct</td>\n",
              "    </tr>\n",
              "    <tr>\n",
              "      <th>4</th>\n",
              "      <td>\\n\\nCreate a JavaScript class named `ItemsMana...</td>\n",
              "      <td>\\n\\n```javascript\\nimport axios from 'axios';\\...</td>\n",
              "      <td>JavaScript</td>\n",
              "      <td>McEval-Instruct</td>\n",
              "    </tr>\n",
              "  </tbody>\n",
              "</table>\n",
              "</div>"
            ],
            "text/plain": [
              "                                         instruction  \\\n",
              "0  \\n\\nWrite a Fortran subroutine that applies a ...   \n",
              "1  \\nDesign a function that finds the shortest pa...   \n",
              "2  \\n\\nCreate a React component called `DeviceDet...   \n",
              "3  \\n\\nCreate a React component named `EditAvaila...   \n",
              "4  \\n\\nCreate a JavaScript class named `ItemsMana...   \n",
              "\n",
              "                                              output    language  \\\n",
              "0  \\n\\n```fortran\\n! Import necessary modules\\nim...     FORTRAN   \n",
              "1  \\n```javascript\\nclass Maze {\\n  constructor(\\...  JavaScript   \n",
              "2  \\n\\n```jsx\\nimport React from 'react';\\nimport...  JavaScript   \n",
              "3  \\n\\n```jsx\\nimport React, { useState } from 'r...  JavaScript   \n",
              "4  \\n\\n```javascript\\nimport axios from 'axios';\\...  JavaScript   \n",
              "\n",
              "            source  \n",
              "0  McEval-Instruct  \n",
              "1  McEval-Instruct  \n",
              "2  McEval-Instruct  \n",
              "3  McEval-Instruct  \n",
              "4  McEval-Instruct  "
            ]
          },
          "execution_count": 4,
          "metadata": {},
          "output_type": "execute_result"
        }
      ],
      "source": [
        "Mceval.head()"
      ]
    },
    {
      "cell_type": "code",
      "execution_count": 5,
      "metadata": {
        "colab": {
          "base_uri": "https://localhost:8080/",
          "height": 467
        },
        "id": "tuakxSIbtFq2",
        "outputId": "20f37a54-e6ac-474c-f7af-6bbf0287684f"
      },
      "outputs": [
        {
          "data": {
            "text/html": [
              "<div>\n",
              "<style scoped>\n",
              "    .dataframe tbody tr th:only-of-type {\n",
              "        vertical-align: middle;\n",
              "    }\n",
              "\n",
              "    .dataframe tbody tr th {\n",
              "        vertical-align: top;\n",
              "    }\n",
              "\n",
              "    .dataframe thead th {\n",
              "        text-align: right;\n",
              "    }\n",
              "</style>\n",
              "<table border=\"1\" class=\"dataframe\">\n",
              "  <thead>\n",
              "    <tr style=\"text-align: right;\">\n",
              "      <th></th>\n",
              "      <th>instruction</th>\n",
              "      <th>output</th>\n",
              "      <th>language</th>\n",
              "      <th>source</th>\n",
              "    </tr>\n",
              "  </thead>\n",
              "  <tbody>\n",
              "    <tr>\n",
              "      <th>1610</th>\n",
              "      <td>\\n\\nIn the context of a medical imaging analys...</td>\n",
              "      <td>\\n\\n```python\\nimport itertools\\nimport torch\\...</td>\n",
              "      <td>Python</td>\n",
              "      <td>McEval-Instruct</td>\n",
              "    </tr>\n",
              "    <tr>\n",
              "      <th>1611</th>\n",
              "      <td>\\n\\nDesign a Python class that provides an Obj...</td>\n",
              "      <td>\\n\\n```python\\nimport sqlite3\\nimport pandas a...</td>\n",
              "      <td>Python</td>\n",
              "      <td>McEval-Instruct</td>\n",
              "    </tr>\n",
              "    <tr>\n",
              "      <th>1612</th>\n",
              "      <td>\\n\\nCreate a Python function named `display_sp...</td>\n",
              "      <td>\\n\\n```python\\nimport ephyviewer\\nfrom ephyvie...</td>\n",
              "      <td>Python</td>\n",
              "      <td>McEval-Instruct</td>\n",
              "    </tr>\n",
              "    <tr>\n",
              "      <th>1613</th>\n",
              "      <td>\\nDesign a search API for a municipal signals ...</td>\n",
              "      <td>\\n```python\\n# SPDX-License-Identifier: MPL-2....</td>\n",
              "      <td>Python</td>\n",
              "      <td>McEval-Instruct</td>\n",
              "    </tr>\n",
              "    <tr>\n",
              "      <th>1614</th>\n",
              "      <td>\\n\\nWrite a function `allocate_budget` that ta...</td>\n",
              "      <td>\\n\\n```python\\ndef allocate_budget(requests, b...</td>\n",
              "      <td>Python</td>\n",
              "      <td>McEval-Instruct</td>\n",
              "    </tr>\n",
              "  </tbody>\n",
              "</table>\n",
              "</div>"
            ],
            "text/plain": [
              "                                            instruction  \\\n",
              "1610  \\n\\nIn the context of a medical imaging analys...   \n",
              "1611  \\n\\nDesign a Python class that provides an Obj...   \n",
              "1612  \\n\\nCreate a Python function named `display_sp...   \n",
              "1613  \\nDesign a search API for a municipal signals ...   \n",
              "1614  \\n\\nWrite a function `allocate_budget` that ta...   \n",
              "\n",
              "                                                 output language  \\\n",
              "1610  \\n\\n```python\\nimport itertools\\nimport torch\\...   Python   \n",
              "1611  \\n\\n```python\\nimport sqlite3\\nimport pandas a...   Python   \n",
              "1612  \\n\\n```python\\nimport ephyviewer\\nfrom ephyvie...   Python   \n",
              "1613  \\n```python\\n# SPDX-License-Identifier: MPL-2....   Python   \n",
              "1614  \\n\\n```python\\ndef allocate_budget(requests, b...   Python   \n",
              "\n",
              "               source  \n",
              "1610  McEval-Instruct  \n",
              "1611  McEval-Instruct  \n",
              "1612  McEval-Instruct  \n",
              "1613  McEval-Instruct  \n",
              "1614  McEval-Instruct  "
            ]
          },
          "metadata": {},
          "output_type": "display_data"
        }
      ],
      "source": [
        "python_mceval = Mceval[Mceval['language'] == 'Python']\n",
        "display(python_mceval.head())"
      ]
    },
    {
      "cell_type": "code",
      "execution_count": 6,
      "metadata": {},
      "outputs": [],
      "source": [
        "python_mceval.to_csv(\"../../data/raw//McEval_Instruct.csv\")"
      ]
    },
    {
      "cell_type": "markdown",
      "metadata": {
        "id": "B6bOFHnf19R2"
      },
      "source": [
        "## Get the Test Dataset for constraint generation from github"
      ]
    },
    {
      "cell_type": "code",
      "execution_count": 7,
      "metadata": {
        "colab": {
          "base_uri": "https://localhost:8080/"
        },
        "id": "bD2RxdK3udCJ",
        "outputId": "b2434056-c550-4800-ecc6-b9cb7dd88725"
      },
      "outputs": [
        {
          "name": "stdout",
          "output_type": "stream",
          "text": [
            "zsh:1: no matches found: https://raw.github.ibm.com/shagutt1/sravani-internship-2025/refs/heads/main/data/outputs/constraint_category_data.csv?token=GHSAT0AAAAAAACSCL5HQAVP6M7WIKJYEZSC2C5M6CA\n"
          ]
        }
      ],
      "source": [
        "!wget https://raw.github.ibm.com/shagutt1/sravani-internship-2025/refs/heads/main/data/outputs/constraint_category_data.csv?token=GHSAT0AAAAAAACSCL5HQAVP6M7WIKJYEZSC2C5M6CA -O \"constraint_category_initial_data.csv\""
      ]
    },
    {
      "cell_type": "code",
      "execution_count": 8,
      "metadata": {
        "colab": {
          "base_uri": "https://localhost:8080/",
          "height": 539
        },
        "id": "idPxEght0JDE",
        "outputId": "6d16e34e-8045-4eeb-f778-8e1efc2749eb"
      },
      "outputs": [
        {
          "data": {
            "text/html": [
              "<div>\n",
              "<style scoped>\n",
              "    .dataframe tbody tr th:only-of-type {\n",
              "        vertical-align: middle;\n",
              "    }\n",
              "\n",
              "    .dataframe tbody tr th {\n",
              "        vertical-align: top;\n",
              "    }\n",
              "\n",
              "    .dataframe thead th {\n",
              "        text-align: right;\n",
              "    }\n",
              "</style>\n",
              "<table border=\"1\" class=\"dataframe\">\n",
              "  <thead>\n",
              "    <tr style=\"text-align: right;\">\n",
              "      <th></th>\n",
              "      <th>dataset</th>\n",
              "      <th>instruction</th>\n",
              "      <th>code</th>\n",
              "      <th>test</th>\n",
              "      <th>Characteristics</th>\n",
              "      <th>constraints</th>\n",
              "    </tr>\n",
              "  </thead>\n",
              "  <tbody>\n",
              "    <tr>\n",
              "      <th>0</th>\n",
              "      <td>ajibawa-2023/Python-Code-23k-ShareGPT</td>\n",
              "      <td>Calculate the distance between two points loca...</td>\n",
              "      <td>To calculate the distance between two points i...</td>\n",
              "      <td>NaN</td>\n",
              "      <td>1) Logic is modularized using calculate_distan...</td>\n",
              "      <td>['Implement the distance calculation in a sepa...</td>\n",
              "    </tr>\n",
              "    <tr>\n",
              "      <th>1</th>\n",
              "      <td>ajibawa-2023/Python-Code-23k-ShareGPT</td>\n",
              "      <td>Assuming that the given sentence is stored in ...</td>\n",
              "      <td>To achieve this, you can use Python's string m...</td>\n",
              "      <td>NaN</td>\n",
              "      <td>1) Embed the HTML tag using an f-string to dyn...</td>\n",
              "      <td>[\"Provide a concise solution using Python's st...</td>\n",
              "    </tr>\n",
              "    <tr>\n",
              "      <th>2</th>\n",
              "      <td>ajibawa-2023/Python-Code-23k-ShareGPT</td>\n",
              "      <td>Write a program in Python to find the factoria...</td>\n",
              "      <td>Here is a program in Python that finds the fac...</td>\n",
              "      <td>NaN</td>\n",
              "      <td>1) The function factorial is implemented recur...</td>\n",
              "      <td>['The program must use recursion to calculate ...</td>\n",
              "    </tr>\n",
              "    <tr>\n",
              "      <th>3</th>\n",
              "      <td>ajibawa-2023/Python-Code-23k-ShareGPT</td>\n",
              "      <td>Create a Python class for Animal with the foll...</td>\n",
              "      <td>```python\\nclass Animal:\\n    def __init__(sel...</td>\n",
              "      <td>NaN</td>\n",
              "      <td>The class defines six attributes: species, nam...</td>\n",
              "      <td>['Include detailed docstrings for each method,...</td>\n",
              "    </tr>\n",
              "    <tr>\n",
              "      <th>4</th>\n",
              "      <td>ajibawa-2023/Python-Code-23k-ShareGPT</td>\n",
              "      <td>How can I decrypt a set of jokes that are encr...</td>\n",
              "      <td>Sure, here's a Python function that decrypts t...</td>\n",
              "      <td>NaN</td>\n",
              "      <td>The function is named decryptJokes and accepts...</td>\n",
              "      <td>['Provide a complete Python function implement...</td>\n",
              "    </tr>\n",
              "  </tbody>\n",
              "</table>\n",
              "</div>"
            ],
            "text/plain": [
              "                                 dataset  \\\n",
              "0  ajibawa-2023/Python-Code-23k-ShareGPT   \n",
              "1  ajibawa-2023/Python-Code-23k-ShareGPT   \n",
              "2  ajibawa-2023/Python-Code-23k-ShareGPT   \n",
              "3  ajibawa-2023/Python-Code-23k-ShareGPT   \n",
              "4  ajibawa-2023/Python-Code-23k-ShareGPT   \n",
              "\n",
              "                                         instruction  \\\n",
              "0  Calculate the distance between two points loca...   \n",
              "1  Assuming that the given sentence is stored in ...   \n",
              "2  Write a program in Python to find the factoria...   \n",
              "3  Create a Python class for Animal with the foll...   \n",
              "4  How can I decrypt a set of jokes that are encr...   \n",
              "\n",
              "                                                code test  \\\n",
              "0  To calculate the distance between two points i...  NaN   \n",
              "1  To achieve this, you can use Python's string m...  NaN   \n",
              "2  Here is a program in Python that finds the fac...  NaN   \n",
              "3  ```python\\nclass Animal:\\n    def __init__(sel...  NaN   \n",
              "4  Sure, here's a Python function that decrypts t...  NaN   \n",
              "\n",
              "                                     Characteristics  \\\n",
              "0  1) Logic is modularized using calculate_distan...   \n",
              "1  1) Embed the HTML tag using an f-string to dyn...   \n",
              "2  1) The function factorial is implemented recur...   \n",
              "3  The class defines six attributes: species, nam...   \n",
              "4  The function is named decryptJokes and accepts...   \n",
              "\n",
              "                                         constraints  \n",
              "0  ['Implement the distance calculation in a sepa...  \n",
              "1  [\"Provide a concise solution using Python's st...  \n",
              "2  ['The program must use recursion to calculate ...  \n",
              "3  ['Include detailed docstrings for each method,...  \n",
              "4  ['Provide a complete Python function implement...  "
            ]
          },
          "execution_count": 8,
          "metadata": {},
          "output_type": "execute_result"
        }
      ],
      "source": [
        "df = pd.read_csv(\"../../data/raw/constraint_category.csv\")\n",
        "df.head()"
      ]
    },
    {
      "cell_type": "code",
      "execution_count": 9,
      "metadata": {
        "colab": {
          "base_uri": "https://localhost:8080/",
          "height": 206
        },
        "id": "XWTBOz040Y6p",
        "outputId": "3fc914e5-7e05-4444-ceda-001062ff2d4d"
      },
      "outputs": [
        {
          "data": {
            "text/html": [
              "<div>\n",
              "<style scoped>\n",
              "    .dataframe tbody tr th:only-of-type {\n",
              "        vertical-align: middle;\n",
              "    }\n",
              "\n",
              "    .dataframe tbody tr th {\n",
              "        vertical-align: top;\n",
              "    }\n",
              "\n",
              "    .dataframe thead th {\n",
              "        text-align: right;\n",
              "    }\n",
              "</style>\n",
              "<table border=\"1\" class=\"dataframe\">\n",
              "  <thead>\n",
              "    <tr style=\"text-align: right;\">\n",
              "      <th></th>\n",
              "      <th>dataset</th>\n",
              "      <th>instruction</th>\n",
              "      <th>code</th>\n",
              "    </tr>\n",
              "  </thead>\n",
              "  <tbody>\n",
              "    <tr>\n",
              "      <th>0</th>\n",
              "      <td>ajibawa-2023/Python-Code-23k-ShareGPT</td>\n",
              "      <td>Calculate the distance between two points loca...</td>\n",
              "      <td>To calculate the distance between two points i...</td>\n",
              "    </tr>\n",
              "    <tr>\n",
              "      <th>1</th>\n",
              "      <td>ajibawa-2023/Python-Code-23k-ShareGPT</td>\n",
              "      <td>Assuming that the given sentence is stored in ...</td>\n",
              "      <td>To achieve this, you can use Python's string m...</td>\n",
              "    </tr>\n",
              "    <tr>\n",
              "      <th>2</th>\n",
              "      <td>ajibawa-2023/Python-Code-23k-ShareGPT</td>\n",
              "      <td>Write a program in Python to find the factoria...</td>\n",
              "      <td>Here is a program in Python that finds the fac...</td>\n",
              "    </tr>\n",
              "    <tr>\n",
              "      <th>3</th>\n",
              "      <td>ajibawa-2023/Python-Code-23k-ShareGPT</td>\n",
              "      <td>Create a Python class for Animal with the foll...</td>\n",
              "      <td>```python\\nclass Animal:\\n    def __init__(sel...</td>\n",
              "    </tr>\n",
              "    <tr>\n",
              "      <th>4</th>\n",
              "      <td>ajibawa-2023/Python-Code-23k-ShareGPT</td>\n",
              "      <td>How can I decrypt a set of jokes that are encr...</td>\n",
              "      <td>Sure, here's a Python function that decrypts t...</td>\n",
              "    </tr>\n",
              "  </tbody>\n",
              "</table>\n",
              "</div>"
            ],
            "text/plain": [
              "                                 dataset  \\\n",
              "0  ajibawa-2023/Python-Code-23k-ShareGPT   \n",
              "1  ajibawa-2023/Python-Code-23k-ShareGPT   \n",
              "2  ajibawa-2023/Python-Code-23k-ShareGPT   \n",
              "3  ajibawa-2023/Python-Code-23k-ShareGPT   \n",
              "4  ajibawa-2023/Python-Code-23k-ShareGPT   \n",
              "\n",
              "                                         instruction  \\\n",
              "0  Calculate the distance between two points loca...   \n",
              "1  Assuming that the given sentence is stored in ...   \n",
              "2  Write a program in Python to find the factoria...   \n",
              "3  Create a Python class for Animal with the foll...   \n",
              "4  How can I decrypt a set of jokes that are encr...   \n",
              "\n",
              "                                                code  \n",
              "0  To calculate the distance between two points i...  \n",
              "1  To achieve this, you can use Python's string m...  \n",
              "2  Here is a program in Python that finds the fac...  \n",
              "3  ```python\\nclass Animal:\\n    def __init__(sel...  \n",
              "4  Sure, here's a Python function that decrypts t...  "
            ]
          },
          "execution_count": 9,
          "metadata": {},
          "output_type": "execute_result"
        }
      ],
      "source": [
        "df = df[[\"dataset\",\"instruction\",\"code\"]]\n",
        "df.head()"
      ]
    },
    {
      "cell_type": "markdown",
      "metadata": {},
      "source": [
        "## Decide Dataset Sampling Ratios Based on Real-World Complexity\n",
        "- Skipping for now"
      ]
    },
    {
      "cell_type": "markdown",
      "metadata": {},
      "source": [
        "## Write transformation scripts for each dataset format"
      ]
    },
    {
      "cell_type": "code",
      "execution_count": null,
      "metadata": {},
      "outputs": [],
      "source": []
    },
    {
      "cell_type": "markdown",
      "metadata": {},
      "source": [
        "## Create a benchmark dataset of 1000–1200 examples\n",
        "\n"
      ]
    },
    {
      "cell_type": "markdown",
      "metadata": {},
      "source": []
    },
    {
      "cell_type": "markdown",
      "metadata": {},
      "source": [
        "# Step 2 - Define Constraint Categories and clean it"
      ]
    },
    {
      "cell_type": "code",
      "execution_count": 10,
      "metadata": {},
      "outputs": [],
      "source": [
        "categories = [\n",
        "    \"Code Structure and Modularity\",\n",
        "    \"Input and Output Handling\",\n",
        "    \"Error Handling and Robustness\",\n",
        "    \"Data Processing and Transformation\",\n",
        "    \"Performance and Optimization\",\n",
        "    \"Library and API Usage\",\n",
        "    \"Testing and Debugging\",\n",
        "    \"Documentation and Readability\",\n",
        "    \"Security and Privacy\",\n",
        "    \"Reproducibility and Consistency\",\n",
        "    \"Mathematical Computation\",\n",
        "    \"File and Data Management\",\n",
        "    \"UI and Interaction\",\n",
        "]"
      ]
    },
    {
      "cell_type": "markdown",
      "metadata": {
        "id": "WC-NjoOU4sRn"
      },
      "source": [
        "# Step 3 Generating Constraints"
      ]
    },
    {
      "cell_type": "code",
      "execution_count": 11,
      "metadata": {
        "id": "bK083pfaBHqY"
      },
      "outputs": [],
      "source": [
        "import pandas as pd\n",
        "import time\n",
        "from openai import OpenAI\n",
        "import os\n",
        "\n",
        "\n",
        "openai_api_key = os.getenv(\"OPENAI_API_KEY\")  # Replace with your actual key\n",
        "client = OpenAI(api_key=openai_api_key)\n"
      ]
    },
    {
      "cell_type": "code",
      "execution_count": 12,
      "metadata": {
        "id": "YaCSMGRwpCNv"
      },
      "outputs": [],
      "source": [
        "SYSTEM_PROMPT = f\"\"\"\n",
        "You are a helpful assistant. You will be given a programming instruction and the corresponding code.\n",
        "\"\"\""
      ]
    },
    {
      "cell_type": "code",
      "execution_count": 77,
      "metadata": {
        "id": "NJHT1AtRor37"
      },
      "outputs": [],
      "source": [
        "def get_response(user_prompt,system_prompt=SYSTEM_PROMPT,max_retries=3):\n",
        "    for attempt in range(max_retries):\n",
        "        try:\n",
        "            response = client.chat.completions.create(\n",
        "            model=\"gpt-4o-mini\",\n",
        "            messages=[\n",
        "                {\"role\": \"system\", \"content\": system_prompt},\n",
        "                {\"role\": \"user\", \"content\": user_prompt}\n",
        "            ],\n",
        "            temperature=0.3\n",
        "            )\n",
        "            return response.choices[0].message.content\n",
        "        except Exception as e:\n",
        "            print(f\"Error on attempt {attempt+1}: {e}\")\n",
        "            time.sleep(2)\n",
        "    return \"[]\""
      ]
    },
    {
      "cell_type": "markdown",
      "metadata": {
        "id": "sHKGZzhisA3O"
      },
      "source": [
        "## Map Categories to the Instructions"
      ]
    },
    {
      "cell_type": "code",
      "execution_count": 14,
      "metadata": {
        "id": "IbeKh3Z7_OlU"
      },
      "outputs": [],
      "source": [
        "\n",
        "\n",
        "def get_relevant_categories(instruction, code, max_retries=3):\n",
        "    user_prompt = f\"\"\"You are a coding assistant designed to classify natural language code generation instructions into appropriate high-level constraint categories.\n",
        "\n",
        "You must choose all applicable categories from the following 13 supercategories based on the instruction and the type of code that is expected to be written:\n",
        "\n",
        "1. Code Structure and Modularity\n",
        "2. Input and Output Handling\n",
        "3. Error Handling and Robustness\n",
        "4. Data Processing and Transformation\n",
        "5. Performance and Optimization\n",
        "6. Library and API Usage\n",
        "7. Testing and Debugging\n",
        "8. Documentation and Readability\n",
        "9. Security and Privacy\n",
        "10. Reproducibility and Consistency\n",
        "11. Mathematical Computation\n",
        "12. File and Data Management\n",
        "13. UI and Interaction\n",
        "\n",
        "Task:\n",
        "Given the instruction, select all relevant supercategories that:\n",
        "- Help define the expected constraints.\n",
        "- Reflect either the code behavior or user expectation.\n",
        "- Include at least 2 relevant categories per instruction.\n",
        "- Understand the domain of the problem and if any code looks like might need privacy and security considerations include that category as well\n",
        "\n",
        "\n",
        "Output Format:\n",
        "Respond with only a list of strings as shown in the example output.\n",
        "Each string should be the exact name of the matching supercategory.\n",
        "\n",
        "Example Output:\n",
        "[\"Mathematical Computation\", \"Input and Output Handling\", \"Documentation and Readability\"]\n",
        "\n",
        "Instruction:\\n\n",
        "{instruction}\n",
        "\n",
        "Code:\\n\n",
        "{code}\n",
        "\n",
        "Relevant categories:\"\"\"\n",
        "\n",
        "    categories = get_response(user_prompt,max_retries)\n",
        "    return categories\n",
        "\n",
        "\n",
        "\n",
        "\n"
      ]
    },
    {
      "cell_type": "code",
      "execution_count": 15,
      "metadata": {
        "colab": {
          "base_uri": "https://localhost:8080/",
          "height": 35
        },
        "id": "2xR4uqpDqObl",
        "outputId": "a8cd1916-1614-4760-dfd5-a7ccfadc76f8"
      },
      "outputs": [
        {
          "data": {
            "text/plain": [
              "'[\"Mathematical Computation\", \"Input and Output Handling\", \"Documentation and Readability\"]'"
            ]
          },
          "execution_count": 15,
          "metadata": {},
          "output_type": "execute_result"
        }
      ],
      "source": [
        "get_relevant_categories(df.iloc[0][\"instruction\"],df.iloc[0][\"code\"])"
      ]
    },
    {
      "cell_type": "code",
      "execution_count": 16,
      "metadata": {
        "colab": {
          "base_uri": "https://localhost:8080/",
          "height": 53
        },
        "id": "5DKMDJtu6Od4",
        "outputId": "6cb7236e-ab46-4f7f-e3c9-6b5524a36568"
      },
      "outputs": [],
      "source": [
        "# get_relevant_categories(test_mceval.iloc[0][\"instruction\"],test_mceval.iloc[0][\"code\"])"
      ]
    },
    {
      "cell_type": "code",
      "execution_count": 17,
      "metadata": {
        "id": "eCrgLJ5VBPtc"
      },
      "outputs": [],
      "source": [
        "# Run on first 20 rows (you can change this limit)\n",
        "def map_categories(df,output_pth,input_col1,input_col2,output_col):\n",
        "    results = []\n",
        "    for i, row in df.iterrows():\n",
        "        print(f\"Processing row {i}\")\n",
        "        categories = get_relevant_categories(row[input_col1], row[input_col2])\n",
        "        results.append(categories)\n",
        "\n",
        "    df[output_col] = results\n",
        "    df.to_csv(output_pth, index=False)\n",
        "    print(\"Saved the file successfully\")"
      ]
    },
    {
      "cell_type": "code",
      "execution_count": 18,
      "metadata": {
        "colab": {
          "base_uri": "https://localhost:8080/"
        },
        "id": "8mRcfYnxfJX_",
        "outputId": "d80ee0a2-9f47-4c2b-b5ad-62e76463d03d"
      },
      "outputs": [
        {
          "name": "stdout",
          "output_type": "stream",
          "text": [
            "Processing row 0\n",
            "Processing row 1\n",
            "Processing row 2\n",
            "Processing row 3\n",
            "Processing row 4\n",
            "Processing row 5\n",
            "Processing row 6\n",
            "Processing row 7\n",
            "Processing row 8\n",
            "Processing row 9\n",
            "Processing row 10\n",
            "Processing row 11\n",
            "Processing row 12\n",
            "Processing row 13\n",
            "Processing row 14\n",
            "Processing row 15\n",
            "Processing row 16\n",
            "Processing row 17\n",
            "Processing row 18\n",
            "Processing row 19\n",
            "Processing row 20\n",
            "Processing row 21\n",
            "Processing row 22\n",
            "Processing row 23\n",
            "Processing row 24\n",
            "Processing row 25\n",
            "Processing row 26\n",
            "Processing row 27\n",
            "Processing row 28\n",
            "Processing row 29\n",
            "Processing row 30\n",
            "Processing row 31\n",
            "Processing row 32\n",
            "Processing row 33\n",
            "Processing row 34\n",
            "Processing row 35\n",
            "Processing row 36\n",
            "Processing row 37\n",
            "Processing row 38\n",
            "Processing row 39\n",
            "Processing row 40\n",
            "Processing row 41\n",
            "Processing row 42\n",
            "Processing row 43\n",
            "Processing row 44\n",
            "Processing row 45\n",
            "Processing row 46\n",
            "Processing row 47\n",
            "Processing row 48\n",
            "Processing row 49\n",
            "Processing row 50\n",
            "Processing row 51\n",
            "Processing row 52\n",
            "Processing row 53\n",
            "Processing row 54\n",
            "Processing row 55\n",
            "Processing row 56\n",
            "Processing row 57\n",
            "Processing row 58\n",
            "Processing row 59\n",
            "Saved the file successfully\n"
          ]
        }
      ],
      "source": [
        "map_categories(df,\"step3_with_relevant_categories.csv\",\"instruction\",\"code\",\"relevant_categories\")"
      ]
    },
    {
      "cell_type": "code",
      "execution_count": 19,
      "metadata": {
        "colab": {
          "base_uri": "https://localhost:8080/",
          "height": 1000
        },
        "id": "9Ald7GFkCadK",
        "outputId": "e831015b-4c95-4563-9251-7f7b82cc58b6"
      },
      "outputs": [
        {
          "data": {
            "text/html": [
              "<div>\n",
              "<style scoped>\n",
              "    .dataframe tbody tr th:only-of-type {\n",
              "        vertical-align: middle;\n",
              "    }\n",
              "\n",
              "    .dataframe tbody tr th {\n",
              "        vertical-align: top;\n",
              "    }\n",
              "\n",
              "    .dataframe thead th {\n",
              "        text-align: right;\n",
              "    }\n",
              "</style>\n",
              "<table border=\"1\" class=\"dataframe\">\n",
              "  <thead>\n",
              "    <tr style=\"text-align: right;\">\n",
              "      <th></th>\n",
              "      <th>dataset</th>\n",
              "      <th>instruction</th>\n",
              "      <th>code</th>\n",
              "      <th>relevant_categories</th>\n",
              "    </tr>\n",
              "  </thead>\n",
              "  <tbody>\n",
              "    <tr>\n",
              "      <th>0</th>\n",
              "      <td>ajibawa-2023/Python-Code-23k-ShareGPT</td>\n",
              "      <td>Calculate the distance between two points loca...</td>\n",
              "      <td>To calculate the distance between two points i...</td>\n",
              "      <td>[\"Mathematical Computation\", \"Input and Output...</td>\n",
              "    </tr>\n",
              "    <tr>\n",
              "      <th>1</th>\n",
              "      <td>ajibawa-2023/Python-Code-23k-ShareGPT</td>\n",
              "      <td>Assuming that the given sentence is stored in ...</td>\n",
              "      <td>To achieve this, you can use Python's string m...</td>\n",
              "      <td>[\"Code Structure and Modularity\", \"Input and O...</td>\n",
              "    </tr>\n",
              "    <tr>\n",
              "      <th>2</th>\n",
              "      <td>ajibawa-2023/Python-Code-23k-ShareGPT</td>\n",
              "      <td>Write a program in Python to find the factoria...</td>\n",
              "      <td>Here is a program in Python that finds the fac...</td>\n",
              "      <td>[\"Error Handling and Robustness\", \"Mathematica...</td>\n",
              "    </tr>\n",
              "    <tr>\n",
              "      <th>3</th>\n",
              "      <td>ajibawa-2023/Python-Code-23k-ShareGPT</td>\n",
              "      <td>Create a Python class for Animal with the foll...</td>\n",
              "      <td>```python\\nclass Animal:\\n    def __init__(sel...</td>\n",
              "      <td>[\"Code Structure and Modularity\", \"Documentati...</td>\n",
              "    </tr>\n",
              "    <tr>\n",
              "      <th>4</th>\n",
              "      <td>ajibawa-2023/Python-Code-23k-ShareGPT</td>\n",
              "      <td>How can I decrypt a set of jokes that are encr...</td>\n",
              "      <td>Sure, here's a Python function that decrypts t...</td>\n",
              "      <td>[\"Data Processing and Transformation\", \"Input ...</td>\n",
              "    </tr>\n",
              "    <tr>\n",
              "      <th>5</th>\n",
              "      <td>ajibawa-2023/Python-Code-23k-ShareGPT</td>\n",
              "      <td>What is the purpose of the 'enumerate' keyword...</td>\n",
              "      <td>The purpose of the 'enumerate' keyword in Pyth...</td>\n",
              "      <td>[\"Code Structure and Modularity\", \"Error Handl...</td>\n",
              "    </tr>\n",
              "    <tr>\n",
              "      <th>6</th>\n",
              "      <td>ajibawa-2023/Python-Code-23k-ShareGPT</td>\n",
              "      <td>Can you provide an example of mutation testing...</td>\n",
              "      <td>Sure, here's an example of mutation testing in...</td>\n",
              "      <td>[\"Testing and Debugging\", \"Code Structure and ...</td>\n",
              "    </tr>\n",
              "    <tr>\n",
              "      <th>7</th>\n",
              "      <td>ajibawa-2023/Python-Code-23k-ShareGPT</td>\n",
              "      <td>Edit the given code to fix the bug and increas...</td>\n",
              "      <td>```python\\ndef calculate_tax(price):\\n    tax_...</td>\n",
              "      <td>[\"Mathematical Computation\", \"Error Handling a...</td>\n",
              "    </tr>\n",
              "    <tr>\n",
              "      <th>8</th>\n",
              "      <td>ajibawa-2023/Python-Code-23k-ShareGPT</td>\n",
              "      <td>Generate a random password that meets the foll...</td>\n",
              "      <td>Here is a Python function that generates a ran...</td>\n",
              "      <td>[\"Input and Output Handling\", \"Error Handling ...</td>\n",
              "    </tr>\n",
              "    <tr>\n",
              "      <th>9</th>\n",
              "      <td>ajibawa-2023/Python-Code-23k-ShareGPT</td>\n",
              "      <td>Create a program to combine the elements of tw...</td>\n",
              "      <td>Here's a Python program that combines the elem...</td>\n",
              "      <td>[\"Code Structure and Modularity\", \"Data Proces...</td>\n",
              "    </tr>\n",
              "    <tr>\n",
              "      <th>10</th>\n",
              "      <td>xlangai/DS-1000</td>\n",
              "      <td>import numpy as np\\nimport pandas as pd\\nimpor...</td>\n",
              "      <td>plt.plot(*zip(*points))\\nplt.yscale(\"log\")</td>\n",
              "      <td>[\"Data Processing and Transformation\", \"UI and...</td>\n",
              "    </tr>\n",
              "    <tr>\n",
              "      <th>11</th>\n",
              "      <td>xlangai/DS-1000</td>\n",
              "      <td>Problem:\\n\\nI have a logistic regression model...</td>\n",
              "      <td>y = torch.argmax(softmax_output, dim=1).view(-...</td>\n",
              "      <td>[\"Data Processing and Transformation\", \"Input ...</td>\n",
              "    </tr>\n",
              "    <tr>\n",
              "      <th>12</th>\n",
              "      <td>xlangai/DS-1000</td>\n",
              "      <td>Problem:\\nHaving a pandas data frame as follow...</td>\n",
              "      <td>import numpy as np\\ndef g(df):\\n    softmax = ...</td>\n",
              "      <td>[\"Data Processing and Transformation\", \"Mathem...</td>\n",
              "    </tr>\n",
              "    <tr>\n",
              "      <th>13</th>\n",
              "      <td>xlangai/DS-1000</td>\n",
              "      <td>import matplotlib.pyplot as plt\\nimport numpy ...</td>\n",
              "      <td>sns.jointplot(\\n    x=\"total_bill\", y=\"tip\", d...</td>\n",
              "      <td>[\"Data Processing and Transformation\", \"UI and...</td>\n",
              "    </tr>\n",
              "    <tr>\n",
              "      <th>14</th>\n",
              "      <td>xlangai/DS-1000</td>\n",
              "      <td>Problem:\\nSay I have a 3 dimensional numpy arr...</td>\n",
              "      <td>result = a[:, np.array(second).reshape(-1,1), ...</td>\n",
              "      <td>[\"Data Processing and Transformation\", \"Input ...</td>\n",
              "    </tr>\n",
              "    <tr>\n",
              "      <th>15</th>\n",
              "      <td>xlangai/DS-1000</td>\n",
              "      <td>import matplotlib.pyplot as plt\\nimport numpy ...</td>\n",
              "      <td>plt.imshow(data)\\nplt.colorbar()</td>\n",
              "      <td>[\"Data Processing and Transformation\", \"UI and...</td>\n",
              "    </tr>\n",
              "    <tr>\n",
              "      <th>16</th>\n",
              "      <td>xlangai/DS-1000</td>\n",
              "      <td>Problem:\\nI have a list of numpy arrays, and w...</td>\n",
              "      <td>result = True\\nfor arr in a:\\n    if any(np.is...</td>\n",
              "      <td>[\"Data Processing and Transformation\", \"Perfor...</td>\n",
              "    </tr>\n",
              "    <tr>\n",
              "      <th>17</th>\n",
              "      <td>xlangai/DS-1000</td>\n",
              "      <td>import numpy as np\\nimport pandas as pd\\nimpor...</td>\n",
              "      <td>plt.plot(y, x)\\nplt.grid(color=\"blue\", linesty...</td>\n",
              "      <td>[\"Data Processing and Transformation\", \"UI and...</td>\n",
              "    </tr>\n",
              "    <tr>\n",
              "      <th>18</th>\n",
              "      <td>xlangai/DS-1000</td>\n",
              "      <td>Problem:\\nI have a 2-dimensional numpy array w...</td>\n",
              "      <td>bin_data_mean = data[:,:(data.shape[1] // bin_...</td>\n",
              "      <td>[\"Data Processing and Transformation\", \"Librar...</td>\n",
              "    </tr>\n",
              "    <tr>\n",
              "      <th>19</th>\n",
              "      <td>xlangai/DS-1000</td>\n",
              "      <td>Problem:\\nI have two csr_matrix, c1, c2.\\n\\nI ...</td>\n",
              "      <td>Feature = sparse.hstack((c1, c2)).tocsr()</td>\n",
              "      <td>[\"Data Processing and Transformation\", \"Librar...</td>\n",
              "    </tr>\n",
              "    <tr>\n",
              "      <th>20</th>\n",
              "      <td>bigcode/bigcodebench</td>\n",
              "      <td>Rollback the update of a directory by restorin...</td>\n",
              "      <td># Check if the backup directory exists\\n    if...</td>\n",
              "      <td>[\"Input and Output Handling\", \"Error Handling ...</td>\n",
              "    </tr>\n",
              "    <tr>\n",
              "      <th>21</th>\n",
              "      <td>bigcode/bigcodebench</td>\n",
              "      <td>Randomly generate a pandas DataFrame with spec...</td>\n",
              "      <td># Generate random data and create a DataFrame\\...</td>\n",
              "      <td>[\"Data Processing and Transformation\", \"Input ...</td>\n",
              "    </tr>\n",
              "    <tr>\n",
              "      <th>22</th>\n",
              "      <td>bigcode/bigcodebench</td>\n",
              "      <td>Extract all names from a string that is not en...</td>\n",
              "      <td>names = re.findall('(.*?)(?:\\\\[.*?\\\\]|$)', tex...</td>\n",
              "      <td>[\"Input and Output Handling\", \"Data Processing...</td>\n",
              "    </tr>\n",
              "    <tr>\n",
              "      <th>23</th>\n",
              "      <td>bigcode/bigcodebench</td>\n",
              "      <td>Replace a random substring (a sequence of char...</td>\n",
              "      <td>random.seed(seed)\\n\\n    df = pd.DataFrame(dat...</td>\n",
              "      <td>[\"Data Processing and Transformation\", \"Input ...</td>\n",
              "    </tr>\n",
              "    <tr>\n",
              "      <th>24</th>\n",
              "      <td>bigcode/bigcodebench</td>\n",
              "      <td>Load e-mail data from a JSON file, convert it ...</td>\n",
              "      <td>with open(json_file, 'r') as file:\\n        em...</td>\n",
              "      <td>[\"Input and Output Handling\", \"Data Processing...</td>\n",
              "    </tr>\n",
              "    <tr>\n",
              "      <th>25</th>\n",
              "      <td>bigcode/bigcodebench</td>\n",
              "      <td>Generate diagrams for the sine and cosine func...</td>\n",
              "      <td>x_values = np.linspace(0, 2 * np.pi, 400)\\n   ...</td>\n",
              "      <td>[\"Code Structure and Modularity\", \"Documentati...</td>\n",
              "    </tr>\n",
              "    <tr>\n",
              "      <th>26</th>\n",
              "      <td>bigcode/bigcodebench</td>\n",
              "      <td>Perform a chi-square test of independence of v...</td>\n",
              "      <td># Check if DataFrame is empty\\n    if data.emp...</td>\n",
              "      <td>[\"Data Processing and Transformation\", \"Error ...</td>\n",
              "    </tr>\n",
              "    <tr>\n",
              "      <th>27</th>\n",
              "      <td>bigcode/bigcodebench</td>\n",
              "      <td>Generates an RSA public and private key pair a...</td>\n",
              "      <td>(pub_key, priv_key) = rsa.newkeys(512)\\n    pa...</td>\n",
              "      <td>[\"Security and Privacy\", \"File and Data Manage...</td>\n",
              "    </tr>\n",
              "    <tr>\n",
              "      <th>28</th>\n",
              "      <td>bigcode/bigcodebench</td>\n",
              "      <td>Create a list of random numbers, sort them and...</td>\n",
              "      <td>if range_limit &lt;= 1:\\n        raise ValueError...</td>\n",
              "      <td>[\"Code Structure and Modularity\", \"Input and O...</td>\n",
              "    </tr>\n",
              "    <tr>\n",
              "      <th>29</th>\n",
              "      <td>bigcode/bigcodebench</td>\n",
              "      <td>Search for occurrences of the word \"error\" in ...</td>\n",
              "      <td>if not os.path.isdir(dir_path):\\n        raise...</td>\n",
              "      <td>[\"Input and Output Handling\", \"Error Handling ...</td>\n",
              "    </tr>\n",
              "    <tr>\n",
              "      <th>30</th>\n",
              "      <td>Multilingual-Multimodal-NLP/McEval-Instruct</td>\n",
              "      <td>Write a Python function `calculate_distinct_av...</td>\n",
              "      <td>```python\\nfrom __future__ import division\\n\\n...</td>\n",
              "      <td>[\"Code Structure and Modularity\", \"Input and O...</td>\n",
              "    </tr>\n",
              "    <tr>\n",
              "      <th>31</th>\n",
              "      <td>Multilingual-Multimodal-NLP/McEval-Instruct</td>\n",
              "      <td>Design a Python class `GroupDialogManager` tha...</td>\n",
              "      <td>```python\\nimport argparse\\nfrom termcolor imp...</td>\n",
              "      <td>[\"Code Structure and Modularity\", \"Input and O...</td>\n",
              "    </tr>\n",
              "    <tr>\n",
              "      <th>32</th>\n",
              "      <td>Multilingual-Multimodal-NLP/McEval-Instruct</td>\n",
              "      <td>You are tasked with creating an automated test...</td>\n",
              "      <td>```python\\nimport unittest\\nfrom selenium impo...</td>\n",
              "      <td>[\"Testing and Debugging\", \"Input and Output Ha...</td>\n",
              "    </tr>\n",
              "    <tr>\n",
              "      <th>33</th>\n",
              "      <td>Multilingual-Multimodal-NLP/McEval-Instruct</td>\n",
              "      <td>In a fictional universe, there are multiple sp...</td>\n",
              "      <td>```python\\nimport pandas as pd\\n\\nclass MockSD...</td>\n",
              "      <td>[\"Code Structure and Modularity\", \"Input and O...</td>\n",
              "    </tr>\n",
              "    <tr>\n",
              "      <th>34</th>\n",
              "      <td>Multilingual-Multimodal-NLP/McEval-Instruct</td>\n",
              "      <td>Write a Python function `rotate_text` that tak...</td>\n",
              "      <td>```python\\ndef rotate_text(text, rotation):\\n ...</td>\n",
              "      <td>[\"Code Structure and Modularity\", \"Input and O...</td>\n",
              "    </tr>\n",
              "    <tr>\n",
              "      <th>35</th>\n",
              "      <td>Multilingual-Multimodal-NLP/McEval-Instruct</td>\n",
              "      <td>Write a Python module named `motion_control` t...</td>\n",
              "      <td>```python\\n# motion_control.py\\n\\nimport drawp...</td>\n",
              "      <td>[\"Code Structure and Modularity\", \"Input and O...</td>\n",
              "    </tr>\n",
              "    <tr>\n",
              "      <th>36</th>\n",
              "      <td>Multilingual-Multimodal-NLP/McEval-Instruct</td>\n",
              "      <td>Create a Python function named `generate_mobil...</td>\n",
              "      <td>```python\\nimport pandas as pd\\nimport plotly....</td>\n",
              "      <td>[\"Data Processing and Transformation\", \"Input ...</td>\n",
              "    </tr>\n",
              "    <tr>\n",
              "      <th>37</th>\n",
              "      <td>Multilingual-Multimodal-NLP/McEval-Instruct</td>\n",
              "      <td>Design a Python Flask application that acts as...</td>\n",
              "      <td>```python\\nfrom flask import Flask\\nfrom flask...</td>\n",
              "      <td>[\"Code Structure and Modularity\", \"Input and O...</td>\n",
              "    </tr>\n",
              "    <tr>\n",
              "      <th>38</th>\n",
              "      <td>Multilingual-Multimodal-NLP/McEval-Instruct</td>\n",
              "      <td>Design a self-driving car simulation where the...</td>\n",
              "      <td>```python\\nimport pygame as pg\\nimport math\\nf...</td>\n",
              "      <td>[\"Code Structure and Modularity\", \"Data Proces...</td>\n",
              "    </tr>\n",
              "    <tr>\n",
              "      <th>39</th>\n",
              "      <td>Multilingual-Multimodal-NLP/McEval-Instruct</td>\n",
              "      <td>Write a Python function `send_email_with_attac...</td>\n",
              "      <td>```python\\nimport smtplib\\nfrom email.mime.mul...</td>\n",
              "      <td>[\"Input and Output Handling\", \"Error Handling ...</td>\n",
              "    </tr>\n",
              "    <tr>\n",
              "      <th>40</th>\n",
              "      <td>nuprl/EditPackFT</td>\n",
              "      <td>Fix python 3 support for exec\\nimport sys # Us...</td>\n",
              "      <td>import sys # Used to get rid of py2/3 differen...</td>\n",
              "      <td>[\"Code Structure and Modularity\", \"Library and...</td>\n",
              "    </tr>\n",
              "    <tr>\n",
              "      <th>41</th>\n",
              "      <td>nuprl/EditPackFT</td>\n",
              "      <td>Add auth protocol for keystone connection in v...</td>\n",
              "      <td>import string\\n\\ntemplate = string.Template(\"\"...</td>\n",
              "      <td>[\"Security and Privacy\", \"Library and API Usag...</td>\n",
              "    </tr>\n",
              "    <tr>\n",
              "      <th>42</th>\n",
              "      <td>nuprl/EditPackFT</td>\n",
              "      <td>Fix up import optional test to use temporary c...</td>\n",
              "      <td>import os\\nimport subprocess\\nimport sys\\n\\nne...</td>\n",
              "      <td>[\"Code Structure and Modularity\", \"Error Handl...</td>\n",
              "    </tr>\n",
              "    <tr>\n",
              "      <th>43</th>\n",
              "      <td>nuprl/EditPackFT</td>\n",
              "      <td>Add Unit-Test For Scanner Problem\\nimport os\\n...</td>\n",
              "      <td>import os\\n\\nfrom unittest import TestCase\\nfr...</td>\n",
              "      <td>[\"Testing and Debugging\", \"Documentation and R...</td>\n",
              "    </tr>\n",
              "    <tr>\n",
              "      <th>44</th>\n",
              "      <td>nuprl/EditPackFT</td>\n",
              "      <td>Update manager API for update.\\n\"\"\"Valve Manag...</td>\n",
              "      <td>\"\"\"Valve Manager base class\"\"\"\\n\\n# pylint: di...</td>\n",
              "      <td>[\"Code Structure and Modularity\", \"Documentati...</td>\n",
              "    </tr>\n",
              "    <tr>\n",
              "      <th>45</th>\n",
              "      <td>nuprl/EditPackFT</td>\n",
              "      <td>Change Node type a bit\\n\\nfrom typing import M...</td>\n",
              "      <td>from typing import Mapping, Set, Callable, Uni...</td>\n",
              "      <td>[\"Code Structure and Modularity\", \"Data Proces...</td>\n",
              "    </tr>\n",
              "    <tr>\n",
              "      <th>46</th>\n",
              "      <td>nuprl/EditPackFT</td>\n",
              "      <td>Make use of the return value of begin() and me...</td>\n",
              "      <td>import NDIR\\nimport time\\n\\nsensor = NDIR.Sens...</td>\n",
              "      <td>[\"Input and Output Handling\", \"Error Handling ...</td>\n",
              "    </tr>\n",
              "    <tr>\n",
              "      <th>47</th>\n",
              "      <td>nuprl/EditPackFT</td>\n",
              "      <td>Send a message back to client\\nimport webapp2\\...</td>\n",
              "      <td>import webapp2\\n\\nfrom google.appengine.api im...</td>\n",
              "      <td>[\"Input and Output Handling\", \"Security and Pr...</td>\n",
              "    </tr>\n",
              "    <tr>\n",
              "      <th>48</th>\n",
              "      <td>nuprl/EditPackFT</td>\n",
              "      <td>Use Tracking DB Service URL rather than localh...</td>\n",
              "      <td>import pandas as pd\\nimport sys\\n\\n\\ndf = pd.r...</td>\n",
              "      <td>[\"Input and Output Handling\", \"Library and API...</td>\n",
              "    </tr>\n",
              "    <tr>\n",
              "      <th>49</th>\n",
              "      <td>nuprl/EditPackFT</td>\n",
              "      <td>Set up data tabulation for gs\\n\\nimport os\\nfr...</td>\n",
              "      <td>import os\\nimport numpy as np\\nfrom whaler.dat...</td>\n",
              "      <td>[\"Data Processing and Transformation\", \"Input ...</td>\n",
              "    </tr>\n",
              "    <tr>\n",
              "      <th>50</th>\n",
              "      <td>nuprl/CanItEdit</td>\n",
              "      <td>Optimize the bm25 algorithm by avoiding freque...</td>\n",
              "      <td>import math\\nfrom typing import List, Dict\\n\\n...</td>\n",
              "      <td>[\"Performance and Optimization\", \"Data Process...</td>\n",
              "    </tr>\n",
              "    <tr>\n",
              "      <th>51</th>\n",
              "      <td>nuprl/CanItEdit</td>\n",
              "      <td>Fix how the alive neighbor count is calculated...</td>\n",
              "      <td>from typing import List\\n\\n\\nclass ConwaysGame...</td>\n",
              "      <td>[\"Code Structure and Modularity\", \"Error Handl...</td>\n",
              "    </tr>\n",
              "    <tr>\n",
              "      <th>52</th>\n",
              "      <td>nuprl/CanItEdit</td>\n",
              "      <td>Fix the methods in `Course` so that all of the...</td>\n",
              "      <td>import functools\\nimport numpy as np\\nclass St...</td>\n",
              "      <td>[\"Error Handling and Robustness\", \"Code Struct...</td>\n",
              "    </tr>\n",
              "    <tr>\n",
              "      <th>53</th>\n",
              "      <td>nuprl/CanItEdit</td>\n",
              "      <td>Make the `distances_to` function support negat...</td>\n",
              "      <td>class Graph:\\n    def __init__(self):\\n       ...</td>\n",
              "      <td>[\"Error Handling and Robustness\", \"Mathematica...</td>\n",
              "    </tr>\n",
              "    <tr>\n",
              "      <th>54</th>\n",
              "      <td>nuprl/CanItEdit</td>\n",
              "      <td>Write a function `sort_with_tiebreaker(items, ...</td>\n",
              "      <td>class Comparators:\\n    \"\"\"\\n    A class for t...</td>\n",
              "      <td>[\"Code Structure and Modularity\", \"Data Proces...</td>\n",
              "    </tr>\n",
              "    <tr>\n",
              "      <th>55</th>\n",
              "      <td>nuprl/CanItEdit</td>\n",
              "      <td>Change the code so that it supports a remove e...</td>\n",
              "      <td>from abc import ABC, abstractmethod\\n\\nclass L...</td>\n",
              "      <td>[\"Code Structure and Modularity\", \"Error Handl...</td>\n",
              "    </tr>\n",
              "    <tr>\n",
              "      <th>56</th>\n",
              "      <td>nuprl/CanItEdit</td>\n",
              "      <td>The distance is not updated correctly, fix the...</td>\n",
              "      <td>class StepCounter:\\n    def __init__(self):\\n ...</td>\n",
              "      <td>[\"Error Handling and Robustness\", \"Documentati...</td>\n",
              "    </tr>\n",
              "    <tr>\n",
              "      <th>57</th>\n",
              "      <td>nuprl/CanItEdit</td>\n",
              "      <td>Edit the code to include a method `powermod` t...</td>\n",
              "      <td>import math\\n\\ndef gcd(a : int, b : int) -&gt; in...</td>\n",
              "      <td>[\"Mathematical Computation\", \"Code Structure a...</td>\n",
              "    </tr>\n",
              "    <tr>\n",
              "      <th>58</th>\n",
              "      <td>nuprl/CanItEdit</td>\n",
              "      <td>Modify the function syllable_count so each 'co...</td>\n",
              "      <td>import string\\n\\ndef prepare_string(line):\\n  ...</td>\n",
              "      <td>[\"Code Structure and Modularity\", \"Data Proces...</td>\n",
              "    </tr>\n",
              "  </tbody>\n",
              "</table>\n",
              "</div>"
            ],
            "text/plain": [
              "                                        dataset  \\\n",
              "0         ajibawa-2023/Python-Code-23k-ShareGPT   \n",
              "1         ajibawa-2023/Python-Code-23k-ShareGPT   \n",
              "2         ajibawa-2023/Python-Code-23k-ShareGPT   \n",
              "3         ajibawa-2023/Python-Code-23k-ShareGPT   \n",
              "4         ajibawa-2023/Python-Code-23k-ShareGPT   \n",
              "5         ajibawa-2023/Python-Code-23k-ShareGPT   \n",
              "6         ajibawa-2023/Python-Code-23k-ShareGPT   \n",
              "7         ajibawa-2023/Python-Code-23k-ShareGPT   \n",
              "8         ajibawa-2023/Python-Code-23k-ShareGPT   \n",
              "9         ajibawa-2023/Python-Code-23k-ShareGPT   \n",
              "10                              xlangai/DS-1000   \n",
              "11                              xlangai/DS-1000   \n",
              "12                              xlangai/DS-1000   \n",
              "13                              xlangai/DS-1000   \n",
              "14                              xlangai/DS-1000   \n",
              "15                              xlangai/DS-1000   \n",
              "16                              xlangai/DS-1000   \n",
              "17                              xlangai/DS-1000   \n",
              "18                              xlangai/DS-1000   \n",
              "19                              xlangai/DS-1000   \n",
              "20                         bigcode/bigcodebench   \n",
              "21                         bigcode/bigcodebench   \n",
              "22                         bigcode/bigcodebench   \n",
              "23                         bigcode/bigcodebench   \n",
              "24                         bigcode/bigcodebench   \n",
              "25                         bigcode/bigcodebench   \n",
              "26                         bigcode/bigcodebench   \n",
              "27                         bigcode/bigcodebench   \n",
              "28                         bigcode/bigcodebench   \n",
              "29                         bigcode/bigcodebench   \n",
              "30  Multilingual-Multimodal-NLP/McEval-Instruct   \n",
              "31  Multilingual-Multimodal-NLP/McEval-Instruct   \n",
              "32  Multilingual-Multimodal-NLP/McEval-Instruct   \n",
              "33  Multilingual-Multimodal-NLP/McEval-Instruct   \n",
              "34  Multilingual-Multimodal-NLP/McEval-Instruct   \n",
              "35  Multilingual-Multimodal-NLP/McEval-Instruct   \n",
              "36  Multilingual-Multimodal-NLP/McEval-Instruct   \n",
              "37  Multilingual-Multimodal-NLP/McEval-Instruct   \n",
              "38  Multilingual-Multimodal-NLP/McEval-Instruct   \n",
              "39  Multilingual-Multimodal-NLP/McEval-Instruct   \n",
              "40                             nuprl/EditPackFT   \n",
              "41                             nuprl/EditPackFT   \n",
              "42                             nuprl/EditPackFT   \n",
              "43                             nuprl/EditPackFT   \n",
              "44                             nuprl/EditPackFT   \n",
              "45                             nuprl/EditPackFT   \n",
              "46                             nuprl/EditPackFT   \n",
              "47                             nuprl/EditPackFT   \n",
              "48                             nuprl/EditPackFT   \n",
              "49                             nuprl/EditPackFT   \n",
              "50                              nuprl/CanItEdit   \n",
              "51                              nuprl/CanItEdit   \n",
              "52                              nuprl/CanItEdit   \n",
              "53                              nuprl/CanItEdit   \n",
              "54                              nuprl/CanItEdit   \n",
              "55                              nuprl/CanItEdit   \n",
              "56                              nuprl/CanItEdit   \n",
              "57                              nuprl/CanItEdit   \n",
              "58                              nuprl/CanItEdit   \n",
              "\n",
              "                                          instruction  \\\n",
              "0   Calculate the distance between two points loca...   \n",
              "1   Assuming that the given sentence is stored in ...   \n",
              "2   Write a program in Python to find the factoria...   \n",
              "3   Create a Python class for Animal with the foll...   \n",
              "4   How can I decrypt a set of jokes that are encr...   \n",
              "5   What is the purpose of the 'enumerate' keyword...   \n",
              "6   Can you provide an example of mutation testing...   \n",
              "7   Edit the given code to fix the bug and increas...   \n",
              "8   Generate a random password that meets the foll...   \n",
              "9   Create a program to combine the elements of tw...   \n",
              "10  import numpy as np\\nimport pandas as pd\\nimpor...   \n",
              "11  Problem:\\n\\nI have a logistic regression model...   \n",
              "12  Problem:\\nHaving a pandas data frame as follow...   \n",
              "13  import matplotlib.pyplot as plt\\nimport numpy ...   \n",
              "14  Problem:\\nSay I have a 3 dimensional numpy arr...   \n",
              "15  import matplotlib.pyplot as plt\\nimport numpy ...   \n",
              "16  Problem:\\nI have a list of numpy arrays, and w...   \n",
              "17  import numpy as np\\nimport pandas as pd\\nimpor...   \n",
              "18  Problem:\\nI have a 2-dimensional numpy array w...   \n",
              "19  Problem:\\nI have two csr_matrix, c1, c2.\\n\\nI ...   \n",
              "20  Rollback the update of a directory by restorin...   \n",
              "21  Randomly generate a pandas DataFrame with spec...   \n",
              "22  Extract all names from a string that is not en...   \n",
              "23  Replace a random substring (a sequence of char...   \n",
              "24  Load e-mail data from a JSON file, convert it ...   \n",
              "25  Generate diagrams for the sine and cosine func...   \n",
              "26  Perform a chi-square test of independence of v...   \n",
              "27  Generates an RSA public and private key pair a...   \n",
              "28  Create a list of random numbers, sort them and...   \n",
              "29  Search for occurrences of the word \"error\" in ...   \n",
              "30  Write a Python function `calculate_distinct_av...   \n",
              "31  Design a Python class `GroupDialogManager` tha...   \n",
              "32  You are tasked with creating an automated test...   \n",
              "33  In a fictional universe, there are multiple sp...   \n",
              "34  Write a Python function `rotate_text` that tak...   \n",
              "35  Write a Python module named `motion_control` t...   \n",
              "36  Create a Python function named `generate_mobil...   \n",
              "37  Design a Python Flask application that acts as...   \n",
              "38  Design a self-driving car simulation where the...   \n",
              "39  Write a Python function `send_email_with_attac...   \n",
              "40  Fix python 3 support for exec\\nimport sys # Us...   \n",
              "41  Add auth protocol for keystone connection in v...   \n",
              "42  Fix up import optional test to use temporary c...   \n",
              "43  Add Unit-Test For Scanner Problem\\nimport os\\n...   \n",
              "44  Update manager API for update.\\n\"\"\"Valve Manag...   \n",
              "45  Change Node type a bit\\n\\nfrom typing import M...   \n",
              "46  Make use of the return value of begin() and me...   \n",
              "47  Send a message back to client\\nimport webapp2\\...   \n",
              "48  Use Tracking DB Service URL rather than localh...   \n",
              "49  Set up data tabulation for gs\\n\\nimport os\\nfr...   \n",
              "50  Optimize the bm25 algorithm by avoiding freque...   \n",
              "51  Fix how the alive neighbor count is calculated...   \n",
              "52  Fix the methods in `Course` so that all of the...   \n",
              "53  Make the `distances_to` function support negat...   \n",
              "54  Write a function `sort_with_tiebreaker(items, ...   \n",
              "55  Change the code so that it supports a remove e...   \n",
              "56  The distance is not updated correctly, fix the...   \n",
              "57  Edit the code to include a method `powermod` t...   \n",
              "58  Modify the function syllable_count so each 'co...   \n",
              "\n",
              "                                                 code  \\\n",
              "0   To calculate the distance between two points i...   \n",
              "1   To achieve this, you can use Python's string m...   \n",
              "2   Here is a program in Python that finds the fac...   \n",
              "3   ```python\\nclass Animal:\\n    def __init__(sel...   \n",
              "4   Sure, here's a Python function that decrypts t...   \n",
              "5   The purpose of the 'enumerate' keyword in Pyth...   \n",
              "6   Sure, here's an example of mutation testing in...   \n",
              "7   ```python\\ndef calculate_tax(price):\\n    tax_...   \n",
              "8   Here is a Python function that generates a ran...   \n",
              "9   Here's a Python program that combines the elem...   \n",
              "10         plt.plot(*zip(*points))\\nplt.yscale(\"log\")   \n",
              "11  y = torch.argmax(softmax_output, dim=1).view(-...   \n",
              "12  import numpy as np\\ndef g(df):\\n    softmax = ...   \n",
              "13  sns.jointplot(\\n    x=\"total_bill\", y=\"tip\", d...   \n",
              "14  result = a[:, np.array(second).reshape(-1,1), ...   \n",
              "15                   plt.imshow(data)\\nplt.colorbar()   \n",
              "16  result = True\\nfor arr in a:\\n    if any(np.is...   \n",
              "17  plt.plot(y, x)\\nplt.grid(color=\"blue\", linesty...   \n",
              "18  bin_data_mean = data[:,:(data.shape[1] // bin_...   \n",
              "19          Feature = sparse.hstack((c1, c2)).tocsr()   \n",
              "20  # Check if the backup directory exists\\n    if...   \n",
              "21  # Generate random data and create a DataFrame\\...   \n",
              "22  names = re.findall('(.*?)(?:\\\\[.*?\\\\]|$)', tex...   \n",
              "23  random.seed(seed)\\n\\n    df = pd.DataFrame(dat...   \n",
              "24  with open(json_file, 'r') as file:\\n        em...   \n",
              "25  x_values = np.linspace(0, 2 * np.pi, 400)\\n   ...   \n",
              "26  # Check if DataFrame is empty\\n    if data.emp...   \n",
              "27  (pub_key, priv_key) = rsa.newkeys(512)\\n    pa...   \n",
              "28  if range_limit <= 1:\\n        raise ValueError...   \n",
              "29  if not os.path.isdir(dir_path):\\n        raise...   \n",
              "30  ```python\\nfrom __future__ import division\\n\\n...   \n",
              "31  ```python\\nimport argparse\\nfrom termcolor imp...   \n",
              "32  ```python\\nimport unittest\\nfrom selenium impo...   \n",
              "33  ```python\\nimport pandas as pd\\n\\nclass MockSD...   \n",
              "34  ```python\\ndef rotate_text(text, rotation):\\n ...   \n",
              "35  ```python\\n# motion_control.py\\n\\nimport drawp...   \n",
              "36  ```python\\nimport pandas as pd\\nimport plotly....   \n",
              "37  ```python\\nfrom flask import Flask\\nfrom flask...   \n",
              "38  ```python\\nimport pygame as pg\\nimport math\\nf...   \n",
              "39  ```python\\nimport smtplib\\nfrom email.mime.mul...   \n",
              "40  import sys # Used to get rid of py2/3 differen...   \n",
              "41  import string\\n\\ntemplate = string.Template(\"\"...   \n",
              "42  import os\\nimport subprocess\\nimport sys\\n\\nne...   \n",
              "43  import os\\n\\nfrom unittest import TestCase\\nfr...   \n",
              "44  \"\"\"Valve Manager base class\"\"\"\\n\\n# pylint: di...   \n",
              "45  from typing import Mapping, Set, Callable, Uni...   \n",
              "46  import NDIR\\nimport time\\n\\nsensor = NDIR.Sens...   \n",
              "47  import webapp2\\n\\nfrom google.appengine.api im...   \n",
              "48  import pandas as pd\\nimport sys\\n\\n\\ndf = pd.r...   \n",
              "49  import os\\nimport numpy as np\\nfrom whaler.dat...   \n",
              "50  import math\\nfrom typing import List, Dict\\n\\n...   \n",
              "51  from typing import List\\n\\n\\nclass ConwaysGame...   \n",
              "52  import functools\\nimport numpy as np\\nclass St...   \n",
              "53  class Graph:\\n    def __init__(self):\\n       ...   \n",
              "54  class Comparators:\\n    \"\"\"\\n    A class for t...   \n",
              "55  from abc import ABC, abstractmethod\\n\\nclass L...   \n",
              "56  class StepCounter:\\n    def __init__(self):\\n ...   \n",
              "57  import math\\n\\ndef gcd(a : int, b : int) -> in...   \n",
              "58  import string\\n\\ndef prepare_string(line):\\n  ...   \n",
              "\n",
              "                                  relevant_categories  \n",
              "0   [\"Mathematical Computation\", \"Input and Output...  \n",
              "1   [\"Code Structure and Modularity\", \"Input and O...  \n",
              "2   [\"Error Handling and Robustness\", \"Mathematica...  \n",
              "3   [\"Code Structure and Modularity\", \"Documentati...  \n",
              "4   [\"Data Processing and Transformation\", \"Input ...  \n",
              "5   [\"Code Structure and Modularity\", \"Error Handl...  \n",
              "6   [\"Testing and Debugging\", \"Code Structure and ...  \n",
              "7   [\"Mathematical Computation\", \"Error Handling a...  \n",
              "8   [\"Input and Output Handling\", \"Error Handling ...  \n",
              "9   [\"Code Structure and Modularity\", \"Data Proces...  \n",
              "10  [\"Data Processing and Transformation\", \"UI and...  \n",
              "11  [\"Data Processing and Transformation\", \"Input ...  \n",
              "12  [\"Data Processing and Transformation\", \"Mathem...  \n",
              "13  [\"Data Processing and Transformation\", \"UI and...  \n",
              "14  [\"Data Processing and Transformation\", \"Input ...  \n",
              "15  [\"Data Processing and Transformation\", \"UI and...  \n",
              "16  [\"Data Processing and Transformation\", \"Perfor...  \n",
              "17  [\"Data Processing and Transformation\", \"UI and...  \n",
              "18  [\"Data Processing and Transformation\", \"Librar...  \n",
              "19  [\"Data Processing and Transformation\", \"Librar...  \n",
              "20  [\"Input and Output Handling\", \"Error Handling ...  \n",
              "21  [\"Data Processing and Transformation\", \"Input ...  \n",
              "22  [\"Input and Output Handling\", \"Data Processing...  \n",
              "23  [\"Data Processing and Transformation\", \"Input ...  \n",
              "24  [\"Input and Output Handling\", \"Data Processing...  \n",
              "25  [\"Code Structure and Modularity\", \"Documentati...  \n",
              "26  [\"Data Processing and Transformation\", \"Error ...  \n",
              "27  [\"Security and Privacy\", \"File and Data Manage...  \n",
              "28  [\"Code Structure and Modularity\", \"Input and O...  \n",
              "29  [\"Input and Output Handling\", \"Error Handling ...  \n",
              "30  [\"Code Structure and Modularity\", \"Input and O...  \n",
              "31  [\"Code Structure and Modularity\", \"Input and O...  \n",
              "32  [\"Testing and Debugging\", \"Input and Output Ha...  \n",
              "33  [\"Code Structure and Modularity\", \"Input and O...  \n",
              "34  [\"Code Structure and Modularity\", \"Input and O...  \n",
              "35  [\"Code Structure and Modularity\", \"Input and O...  \n",
              "36  [\"Data Processing and Transformation\", \"Input ...  \n",
              "37  [\"Code Structure and Modularity\", \"Input and O...  \n",
              "38  [\"Code Structure and Modularity\", \"Data Proces...  \n",
              "39  [\"Input and Output Handling\", \"Error Handling ...  \n",
              "40  [\"Code Structure and Modularity\", \"Library and...  \n",
              "41  [\"Security and Privacy\", \"Library and API Usag...  \n",
              "42  [\"Code Structure and Modularity\", \"Error Handl...  \n",
              "43  [\"Testing and Debugging\", \"Documentation and R...  \n",
              "44  [\"Code Structure and Modularity\", \"Documentati...  \n",
              "45  [\"Code Structure and Modularity\", \"Data Proces...  \n",
              "46  [\"Input and Output Handling\", \"Error Handling ...  \n",
              "47  [\"Input and Output Handling\", \"Security and Pr...  \n",
              "48  [\"Input and Output Handling\", \"Library and API...  \n",
              "49  [\"Data Processing and Transformation\", \"Input ...  \n",
              "50  [\"Performance and Optimization\", \"Data Process...  \n",
              "51  [\"Code Structure and Modularity\", \"Error Handl...  \n",
              "52  [\"Error Handling and Robustness\", \"Code Struct...  \n",
              "53  [\"Error Handling and Robustness\", \"Mathematica...  \n",
              "54  [\"Code Structure and Modularity\", \"Data Proces...  \n",
              "55  [\"Code Structure and Modularity\", \"Error Handl...  \n",
              "56  [\"Error Handling and Robustness\", \"Documentati...  \n",
              "57  [\"Mathematical Computation\", \"Code Structure a...  \n",
              "58  [\"Code Structure and Modularity\", \"Data Proces...  "
            ]
          },
          "execution_count": 19,
          "metadata": {},
          "output_type": "execute_result"
        }
      ],
      "source": [
        "df.head(59)"
      ]
    },
    {
      "cell_type": "code",
      "execution_count": 20,
      "metadata": {
        "id": "a709b720"
      },
      "outputs": [
        {
          "data": {
            "text/html": [
              "<div>\n",
              "<style scoped>\n",
              "    .dataframe tbody tr th:only-of-type {\n",
              "        vertical-align: middle;\n",
              "    }\n",
              "\n",
              "    .dataframe tbody tr th {\n",
              "        vertical-align: top;\n",
              "    }\n",
              "\n",
              "    .dataframe thead th {\n",
              "        text-align: right;\n",
              "    }\n",
              "</style>\n",
              "<table border=\"1\" class=\"dataframe\">\n",
              "  <thead>\n",
              "    <tr style=\"text-align: right;\">\n",
              "      <th></th>\n",
              "      <th>Count</th>\n",
              "    </tr>\n",
              "  </thead>\n",
              "  <tbody>\n",
              "    <tr>\n",
              "      <th>Input and Output Handling</th>\n",
              "      <td>36</td>\n",
              "    </tr>\n",
              "    <tr>\n",
              "      <th>Documentation and Readability</th>\n",
              "      <td>33</td>\n",
              "    </tr>\n",
              "    <tr>\n",
              "      <th>Code Structure and Modularity</th>\n",
              "      <td>29</td>\n",
              "    </tr>\n",
              "    <tr>\n",
              "      <th>Data Processing and Transformation</th>\n",
              "      <td>28</td>\n",
              "    </tr>\n",
              "    <tr>\n",
              "      <th>Error Handling and Robustness</th>\n",
              "      <td>21</td>\n",
              "    </tr>\n",
              "    <tr>\n",
              "      <th>Library and API Usage</th>\n",
              "      <td>12</td>\n",
              "    </tr>\n",
              "    <tr>\n",
              "      <th>Testing and Debugging</th>\n",
              "      <td>8</td>\n",
              "    </tr>\n",
              "    <tr>\n",
              "      <th>Mathematical Computation</th>\n",
              "      <td>7</td>\n",
              "    </tr>\n",
              "    <tr>\n",
              "      <th>Security and Privacy</th>\n",
              "      <td>7</td>\n",
              "    </tr>\n",
              "    <tr>\n",
              "      <th>UI and Interaction</th>\n",
              "      <td>6</td>\n",
              "    </tr>\n",
              "    <tr>\n",
              "      <th>Performance and Optimization</th>\n",
              "      <td>4</td>\n",
              "    </tr>\n",
              "    <tr>\n",
              "      <th>File and Data Management</th>\n",
              "      <td>4</td>\n",
              "    </tr>\n",
              "  </tbody>\n",
              "</table>\n",
              "</div>"
            ],
            "text/plain": [
              "                                    Count\n",
              "Input and Output Handling              36\n",
              "Documentation and Readability          33\n",
              "Code Structure and Modularity          29\n",
              "Data Processing and Transformation     28\n",
              "Error Handling and Robustness          21\n",
              "Library and API Usage                  12\n",
              "Testing and Debugging                   8\n",
              "Mathematical Computation                7\n",
              "Security and Privacy                    7\n",
              "UI and Interaction                      6\n",
              "Performance and Optimization            4\n",
              "File and Data Management                4"
            ]
          },
          "metadata": {},
          "output_type": "display_data"
        }
      ],
      "source": [
        "from collections import Counter\n",
        "import ast\n",
        "\n",
        "# Convert the string representation of lists to actual lists\n",
        "df['relevant_categories'] = df['relevant_categories'].apply(ast.literal_eval)\n",
        "\n",
        "# Flatten the list of lists and count occurrences\n",
        "all_categories = [category for sublist in df['relevant_categories'] for category in sublist]\n",
        "category_counts = Counter(all_categories)\n",
        "\n",
        "# Create a DataFrame from the counts\n",
        "category_df = pd.DataFrame.from_dict(category_counts, orient='index', columns=['Count'])\n",
        "\n",
        "# Sort the categories by count\n",
        "category_df = category_df.sort_values(by='Count', ascending=False)\n",
        "\n",
        "display(category_df)"
      ]
    },
    {
      "cell_type": "markdown",
      "metadata": {},
      "source": [
        "Have an additional block of filter for relevant categories"
      ]
    },
    {
      "cell_type": "markdown",
      "metadata": {
        "id": "tMgGouTvscwJ"
      },
      "source": [
        "## Prompt to generate the constraints"
      ]
    },
    {
      "cell_type": "code",
      "execution_count": 21,
      "metadata": {
        "id": "Yy88WB5iZSf-"
      },
      "outputs": [],
      "source": [
        "def get_prompt(instruction,code,relevant_categories):\n",
        "    prompt = f\"\"\" \"task\": \"You are an expert in generating constraints for code generation tasks by analyzing a natural language instruction and the associated code. Your objective is to identify the relevant characteristics of the task based on the instruction and code, and then generate meaningful constraints that guide a model to correctly implement or reason about the task in line with predefined constraint categories.\",\n",
        "\n",
        "    \"context\": \"You are provided with three inputs: (1) a natural language `instruction` describing a coding task, (2) the actual `code` implementing or partially implementing that instruction, and (3) a list of `relevant_constraint_categories` which represent different high-level aspects of software development such as performance, error handling, modularity, etc. that are relevant to the instruction.“,\n",
        "\n",
        "    \"goal\": \"Your job is to examine the instruction, code and relevant constraint categories, and generate 8 to 10 natural language constraints that align with the relevant categories. These constraints should help an LLM generate code that is correct, complete, robust, and aligned with good development practices. The constraints should be actionable, precise, and reflective of both the explicit and implicit requirements inferred from the instruction and code.\",\n",
        "\n",
        "    \"JSON Response Format\": {{\n",
        "        \"Analysis on Characteristics\": \"Briefly describe the nature of the task and what kind of constraints are necessary to ensure proper execution. For example, should the solution handle edge cases? Use efficient data structures? Log errors? Include testability or modularity considerations?\",\n",
        "        \"Constraints\": [\n",
        "        \"List 8 to 10 detailed and well-formed constraints that are aligned with the relevant categories. Each constraint should be phrased clearly in natural language and should guide the model to include or avoid specific design decisions, implementation patterns, or output behaviors.\"\n",
        "        ]\n",
        "    }},\n",
        "\n",
        "    \"Inputs Required\": {{\n",
        "        \"instruction\": {instruction}\n",
        "        \"code\": {code}\n",
        "        \"relevant_constraint_categories\": {relevant_categories}\n",
        "\n",
        "    }} \"\"\"\n",
        "    return prompt"
      ]
    },
    {
      "cell_type": "code",
      "execution_count": 22,
      "metadata": {
        "colab": {
          "base_uri": "https://localhost:8080/"
        },
        "id": "GH8FoN8zngwp",
        "outputId": "8e5412b4-aa2d-4b05-b1c6-ce0e5a7a349a"
      },
      "outputs": [
        {
          "name": "stdout",
          "output_type": "stream",
          "text": [
            " \"task\": \"You are an expert in generating constraints for code generation tasks by analyzing a natural language instruction and the associated code. Your objective is to identify the relevant characteristics of the task based on the instruction and code, and then generate meaningful constraints that guide a model to correctly implement or reason about the task in line with predefined constraint categories.\",\n",
            "\n",
            "    \"context\": \"You are provided with three inputs: (1) a natural language `instruction` describing a coding task, (2) the actual `code` implementing or partially implementing that instruction, and (3) a list of `relevant_constraint_categories` which represent different high-level aspects of software development such as performance, error handling, modularity, etc. that are relevant to the instruction.“,\n",
            "\n",
            "    \"goal\": \"Your job is to examine the instruction, code and relevant constraint categories, and generate 8 to 10 natural language constraints that align with the relevant categories. These constraints should help an LLM generate code that is correct, complete, robust, and aligned with good development practices. The constraints should be actionable, precise, and reflective of both the explicit and implicit requirements inferred from the instruction and code.\",\n",
            "\n",
            "    \"JSON Response Format\": {\n",
            "        \"Analysis on Characteristics\": \"Briefly describe the nature of the task and what kind of constraints are necessary to ensure proper execution. For example, should the solution handle edge cases? Use efficient data structures? Log errors? Include testability or modularity considerations?\",\n",
            "        \"Constraints\": [\n",
            "        \"List 8 to 10 detailed and well-formed constraints that are aligned with the relevant categories. Each constraint should be phrased clearly in natural language and should guide the model to include or avoid specific design decisions, implementation patterns, or output behaviors.\"\n",
            "        ]\n",
            "    },\n",
            "\n",
            "    \"Inputs Required\": {\n",
            "        \"instruction\": Calculate the distance between two points located in the 3-dimensional space. The points are represented as tuples of three integers. The distance should be rounded to two decimal places. Additionally, the program should also display the angle between the vector components of the resulting distance and the x-axis in degrees, rounded to two decimal places.\n",
            "\n",
            "Example Input:\n",
            "Point 1: (3, 4, 5)\n",
            "Point 2: (2, 6, -1)\n",
            "\n",
            "Example Output:\n",
            "Distance: 2.45\n",
            "Vector components: (1, 2, -6)\n",
            "Angle with x-axis: 32.94 degrees\n",
            "        \"code\": To calculate the distance between two points in 3-dimensional space, we can use the formula:\n",
            "\n",
            "distance = sqrt((x2 - x1)^2 + (y2 - y1)^2 + (z2 - z1)^2)\n",
            "\n",
            "To calculate the angle between the vector components of the resulting distance and the x-axis, we can use the formula:\n",
            "\n",
            "angle = arccos((x2 - x1) / distance) * (180 / pi)\n",
            "\n",
            "where arccos is the inverse cosine function and pi is the mathematical constant.\n",
            "\n",
            "Here's the code to calculate the distance and angle:\n",
            "\n",
            "```python\n",
            "import math\n",
            "\n",
            "def calculate_distance(point1, point2):\n",
            "    x1, y1, z1 = point1\n",
            "    x2, y2, z2 = point2\n",
            "    \n",
            "    distance = math.sqrt((x2 - x1)**2 + (y2 - y1)**2 + (z2 - z1)**2)\n",
            "    return round(distance, 2)\n",
            "\n",
            "def calculate_angle(point1, point2):\n",
            "    x1, _, _ = point1\n",
            "    x2, _, _ = point2\n",
            "    \n",
            "    distance = calculate_distance(point1, point2)\n",
            "    angle = math.acos((x2 - x1) / distance) * (180 / math.pi)\n",
            "    return round(angle, 2)\n",
            "\n",
            "# Example input\n",
            "point1 = (3, 4, 5)\n",
            "point2 = (2, 6, -1)\n",
            "\n",
            "distance = calculate_distance(point1, point2)\n",
            "angle = calculate_angle(point1, point2)\n",
            "\n",
            "print(\"Distance:\", distance)\n",
            "print(\"Vector components:\", (point2[0] - point1[0], point2[1] - point1[1], point2[2] - point1[2]))\n",
            "print(\"Angle with x-axis:\", angle, \"degrees\")\n",
            "```\n",
            "\n",
            "Output:\n",
            "```\n",
            "Distance: 2.45\n",
            "Vector components: (-1, 2, -6)\n",
            "Angle with x-axis: 32.94 degrees\n",
            "```\n",
            "        \"relevant_constraint_categories\": ['Mathematical Computation', 'Input and Output Handling', 'Documentation and Readability']\n",
            "\n",
            "    } \n"
          ]
        }
      ],
      "source": [
        "prompt = get_prompt(df.iloc[0][\"instruction\"],df.iloc[0][\"code\"],df.iloc[0][\"relevant_categories\"])\n",
        "print(prompt)"
      ]
    },
    {
      "cell_type": "code",
      "execution_count": 23,
      "metadata": {
        "colab": {
          "base_uri": "https://localhost:8080/"
        },
        "id": "nrhiZazjql8x",
        "outputId": "f20ec5ef-6e59-4aa7-f0f2-043c8fc5251f"
      },
      "outputs": [
        {
          "name": "stdout",
          "output_type": "stream",
          "text": [
            "Calculate the distance between two points located in the 3-dimensional space. The points are represented as tuples of three integers. The distance should be rounded to two decimal places. Additionally, the program should also display the angle between the vector components of the resulting distance and the x-axis in degrees, rounded to two decimal places.\n",
            "\n",
            "Example Input:\n",
            "Point 1: (3, 4, 5)\n",
            "Point 2: (2, 6, -1)\n",
            "\n",
            "Example Output:\n",
            "Distance: 2.45\n",
            "Vector components: (1, 2, -6)\n",
            "Angle with x-axis: 32.94 degrees\n",
            "{\n",
            "    \"Analysis on Characteristics\": \"The task involves mathematical computations to calculate the distance and angle between two points in 3D space. Constraints should ensure that the calculations are accurate and handle edge cases, such as points being identical or having zero distance. Input and output handling must be robust, ensuring that the function can handle various types of input and provide clear outputs. Documentation and readability are crucial for maintainability, so the code should be well-commented and structured for clarity.\",\n",
            "    \"Constraints\": [\n",
            "        \"Ensure that the distance calculation correctly handles the case where both points are identical, returning a distance of 0.00.\",\n",
            "        \"Validate that the input points are tuples of three integers to avoid runtime errors and ensure correct calculations.\",\n",
            "        \"Round the distance and angle results to two decimal places to meet the specified output format.\",\n",
            "        \"Include error handling to manage cases where the distance is zero, which would lead to a division by zero error when calculating the angle.\",\n",
            "        \"Document each function with clear docstrings explaining the purpose, parameters, and return values to enhance readability and maintainability.\",\n",
            "        \"Use descriptive variable names to improve code readability and make it easier for others to understand the logic.\",\n",
            "        \"Implement input validation to ensure that the function can gracefully handle invalid input types or structures.\",\n",
            "        \"Provide unit tests for the distance and angle calculations to verify correctness across a range of scenarios, including edge cases.\",\n",
            "        \"Ensure that the output format is consistent with the example provided, including labels and units for clarity.\",\n",
            "        \"Consider performance implications for large datasets or repeated calculations, optimizing the code where necessary.\"\n",
            "    ]\n",
            "}\n"
          ]
        }
      ],
      "source": [
        "instruction = df.iloc[0][\"instruction\"]\n",
        "print(instruction)\n",
        "response = get_response(prompt)\n",
        "print(response)"
      ]
    },
    {
      "cell_type": "code",
      "execution_count": 24,
      "metadata": {
        "id": "RVSK8W8unmMw"
      },
      "outputs": [],
      "source": [
        "def generate_constraints(df,output_pth,input_col1,input_col2,input_col3,output_col):\n",
        "    results = []\n",
        "    for i, row in df.iterrows():\n",
        "        print(f\"Processing row {i}\")\n",
        "        prompt = get_prompt(row[input_col1], row[input_col2], row[input_col3])\n",
        "        constraints = get_response(prompt)\n",
        "        results.append(constraints)\n",
        "\n",
        "    df[output_col] = results\n",
        "    df.to_csv(output_pth, index=False)\n",
        "    print(\"Saved the file successfully\")\n",
        "    return df"
      ]
    },
    {
      "cell_type": "code",
      "execution_count": 25,
      "metadata": {
        "colab": {
          "base_uri": "https://localhost:8080/",
          "height": 4043
        },
        "collapsed": true,
        "id": "8cbdsNGks_dc",
        "outputId": "9afb59a4-fa6c-473b-b614-0e426ead1d93"
      },
      "outputs": [
        {
          "name": "stdout",
          "output_type": "stream",
          "text": [
            "Processing row 0\n",
            "Processing row 1\n",
            "Processing row 2\n",
            "Processing row 3\n",
            "Processing row 4\n",
            "Processing row 5\n",
            "Processing row 6\n",
            "Processing row 7\n",
            "Processing row 8\n",
            "Processing row 9\n",
            "Processing row 10\n",
            "Processing row 11\n",
            "Processing row 12\n",
            "Processing row 13\n",
            "Processing row 14\n",
            "Processing row 15\n",
            "Processing row 16\n",
            "Processing row 17\n",
            "Processing row 18\n",
            "Processing row 19\n",
            "Saved the file successfully\n"
          ]
        },
        {
          "data": {
            "text/html": [
              "<div>\n",
              "<style scoped>\n",
              "    .dataframe tbody tr th:only-of-type {\n",
              "        vertical-align: middle;\n",
              "    }\n",
              "\n",
              "    .dataframe tbody tr th {\n",
              "        vertical-align: top;\n",
              "    }\n",
              "\n",
              "    .dataframe thead th {\n",
              "        text-align: right;\n",
              "    }\n",
              "</style>\n",
              "<table border=\"1\" class=\"dataframe\">\n",
              "  <thead>\n",
              "    <tr style=\"text-align: right;\">\n",
              "      <th></th>\n",
              "      <th>dataset</th>\n",
              "      <th>instruction</th>\n",
              "      <th>code</th>\n",
              "      <th>relevant_categories</th>\n",
              "      <th>constraints</th>\n",
              "    </tr>\n",
              "  </thead>\n",
              "  <tbody>\n",
              "    <tr>\n",
              "      <th>0</th>\n",
              "      <td>ajibawa-2023/Python-Code-23k-ShareGPT</td>\n",
              "      <td>Calculate the distance between two points loca...</td>\n",
              "      <td>To calculate the distance between two points i...</td>\n",
              "      <td>[Mathematical Computation, Input and Output Ha...</td>\n",
              "      <td>{\\n    \"Analysis on Characteristics\": \"The tas...</td>\n",
              "    </tr>\n",
              "    <tr>\n",
              "      <th>1</th>\n",
              "      <td>ajibawa-2023/Python-Code-23k-ShareGPT</td>\n",
              "      <td>Assuming that the given sentence is stored in ...</td>\n",
              "      <td>To achieve this, you can use Python's string m...</td>\n",
              "      <td>[Code Structure and Modularity, Input and Outp...</td>\n",
              "      <td>{\\n    \"Analysis on Characteristics\": \"The tas...</td>\n",
              "    </tr>\n",
              "    <tr>\n",
              "      <th>2</th>\n",
              "      <td>ajibawa-2023/Python-Code-23k-ShareGPT</td>\n",
              "      <td>Write a program in Python to find the factoria...</td>\n",
              "      <td>Here is a program in Python that finds the fac...</td>\n",
              "      <td>[Error Handling and Robustness, Mathematical C...</td>\n",
              "      <td>```json\\n{\\n    \"Analysis on Characteristics\":...</td>\n",
              "    </tr>\n",
              "    <tr>\n",
              "      <th>3</th>\n",
              "      <td>ajibawa-2023/Python-Code-23k-ShareGPT</td>\n",
              "      <td>Create a Python class for Animal with the foll...</td>\n",
              "      <td>```python\\nclass Animal:\\n    def __init__(sel...</td>\n",
              "      <td>[Code Structure and Modularity, Documentation ...</td>\n",
              "      <td>{\\n    \"Analysis on Characteristics\": \"The tas...</td>\n",
              "    </tr>\n",
              "    <tr>\n",
              "      <th>4</th>\n",
              "      <td>ajibawa-2023/Python-Code-23k-ShareGPT</td>\n",
              "      <td>How can I decrypt a set of jokes that are encr...</td>\n",
              "      <td>Sure, here's a Python function that decrypts t...</td>\n",
              "      <td>[Data Processing and Transformation, Input and...</td>\n",
              "      <td>{\\n    \"Analysis on Characteristics\": \"The tas...</td>\n",
              "    </tr>\n",
              "  </tbody>\n",
              "</table>\n",
              "</div>"
            ],
            "text/plain": [
              "                                 dataset  \\\n",
              "0  ajibawa-2023/Python-Code-23k-ShareGPT   \n",
              "1  ajibawa-2023/Python-Code-23k-ShareGPT   \n",
              "2  ajibawa-2023/Python-Code-23k-ShareGPT   \n",
              "3  ajibawa-2023/Python-Code-23k-ShareGPT   \n",
              "4  ajibawa-2023/Python-Code-23k-ShareGPT   \n",
              "\n",
              "                                         instruction  \\\n",
              "0  Calculate the distance between two points loca...   \n",
              "1  Assuming that the given sentence is stored in ...   \n",
              "2  Write a program in Python to find the factoria...   \n",
              "3  Create a Python class for Animal with the foll...   \n",
              "4  How can I decrypt a set of jokes that are encr...   \n",
              "\n",
              "                                                code  \\\n",
              "0  To calculate the distance between two points i...   \n",
              "1  To achieve this, you can use Python's string m...   \n",
              "2  Here is a program in Python that finds the fac...   \n",
              "3  ```python\\nclass Animal:\\n    def __init__(sel...   \n",
              "4  Sure, here's a Python function that decrypts t...   \n",
              "\n",
              "                                 relevant_categories  \\\n",
              "0  [Mathematical Computation, Input and Output Ha...   \n",
              "1  [Code Structure and Modularity, Input and Outp...   \n",
              "2  [Error Handling and Robustness, Mathematical C...   \n",
              "3  [Code Structure and Modularity, Documentation ...   \n",
              "4  [Data Processing and Transformation, Input and...   \n",
              "\n",
              "                                         constraints  \n",
              "0  {\\n    \"Analysis on Characteristics\": \"The tas...  \n",
              "1  {\\n    \"Analysis on Characteristics\": \"The tas...  \n",
              "2  ```json\\n{\\n    \"Analysis on Characteristics\":...  \n",
              "3  {\\n    \"Analysis on Characteristics\": \"The tas...  \n",
              "4  {\\n    \"Analysis on Characteristics\": \"The tas...  "
            ]
          },
          "execution_count": 25,
          "metadata": {},
          "output_type": "execute_result"
        }
      ],
      "source": [
        "test_df = df.head(20).copy()\n",
        "test_df = generate_constraints(test_df,\"step4_with_constraints.csv\",\"instruction\",\"code\",\"relevant_categories\",\"constraints\")\n",
        "test_df.head()"
      ]
    },
    {
      "cell_type": "code",
      "execution_count": 26,
      "metadata": {
        "id": "e7b70e3e"
      },
      "outputs": [],
      "source": [
        "import json\n",
        "\n",
        "def extract_constraints(constraint_string):\n",
        "    try:\n",
        "        json_string = constraint_string.strip().replace('```json\\n', '', 1).replace('\\n```', '', 1)\n",
        "        constraint_json = json.loads(json_string)\n",
        "        # print(constraint_json.get(\"Constraints\", []))\n",
        "        return constraint_json.get(\"Constraints\", [])\n",
        "    except json.JSONDecodeError as e:\n",
        "        print(f\"Error decoding JSON: {e} in string: {constraint_string}\")\n",
        "        return []\n",
        "    except AttributeError as e:\n",
        "        print(f\"Attribute error: {e} in string: {constraint_string}\")\n",
        "        return []\n",
        "\n"
      ]
    },
    {
      "cell_type": "code",
      "execution_count": 27,
      "metadata": {
        "colab": {
          "base_uri": "https://localhost:8080/"
        },
        "id": "my-nm6Gwy1-Y",
        "outputId": "5511af1c-44f9-42a8-d29e-f0e6637065fe"
      },
      "outputs": [
        {
          "data": {
            "text/plain": [
              "['Ensure that the distance calculation correctly handles the case where both points are the same, returning a distance of 0.00.',\n",
              " 'The distance should be rounded to two decimal places before being returned and printed, ensuring consistent output formatting.',\n",
              " 'When calculating the angle, ensure that the distance is not zero to avoid division by zero errors, and handle this case appropriately.',\n",
              " 'The angle calculation should use the correct formula and ensure that the result is rounded to two decimal places before being returned.',\n",
              " 'Include docstrings for each function to describe their purpose, parameters, and return values, enhancing documentation and readability.',\n",
              " 'Use meaningful variable names that clearly indicate their purpose to improve code readability and maintainability.',\n",
              " 'Ensure that the output format for both distance and angle matches the specified requirements, including units and decimal precision.',\n",
              " 'Implement input validation to check that the input points are tuples of three integers, raising an appropriate error if they are not.',\n",
              " 'Consider edge cases such as negative coordinates and ensure that the mathematical computations handle them correctly without errors.',\n",
              " 'Add comments in the code to explain complex calculations or logic, making it easier for future developers to understand the implementation.']"
            ]
          },
          "execution_count": 27,
          "metadata": {},
          "output_type": "execute_result"
        }
      ],
      "source": [
        "extract_constraints(test_df.iloc[0][\"constraints\"])"
      ]
    },
    {
      "cell_type": "code",
      "execution_count": 28,
      "metadata": {
        "colab": {
          "base_uri": "https://localhost:8080/",
          "height": 4908
        },
        "id": "y_4CSjZfyA6S",
        "outputId": "c926eead-b7e1-40fc-f553-2753be62285a"
      },
      "outputs": [
        {
          "data": {
            "text/html": [
              "<div>\n",
              "<style scoped>\n",
              "    .dataframe tbody tr th:only-of-type {\n",
              "        vertical-align: middle;\n",
              "    }\n",
              "\n",
              "    .dataframe tbody tr th {\n",
              "        vertical-align: top;\n",
              "    }\n",
              "\n",
              "    .dataframe thead th {\n",
              "        text-align: right;\n",
              "    }\n",
              "</style>\n",
              "<table border=\"1\" class=\"dataframe\">\n",
              "  <thead>\n",
              "    <tr style=\"text-align: right;\">\n",
              "      <th></th>\n",
              "      <th>dataset</th>\n",
              "      <th>instruction</th>\n",
              "      <th>code</th>\n",
              "      <th>relevant_categories</th>\n",
              "      <th>constraints</th>\n",
              "      <th>extracted_constraints</th>\n",
              "    </tr>\n",
              "  </thead>\n",
              "  <tbody>\n",
              "    <tr>\n",
              "      <th>0</th>\n",
              "      <td>ajibawa-2023/Python-Code-23k-ShareGPT</td>\n",
              "      <td>Calculate the distance between two points loca...</td>\n",
              "      <td>To calculate the distance between two points i...</td>\n",
              "      <td>[Mathematical Computation, Input and Output Ha...</td>\n",
              "      <td>{\\n    \"Analysis on Characteristics\": \"The tas...</td>\n",
              "      <td>[Ensure that the distance calculation correctl...</td>\n",
              "    </tr>\n",
              "    <tr>\n",
              "      <th>1</th>\n",
              "      <td>ajibawa-2023/Python-Code-23k-ShareGPT</td>\n",
              "      <td>Assuming that the given sentence is stored in ...</td>\n",
              "      <td>To achieve this, you can use Python's string m...</td>\n",
              "      <td>[Code Structure and Modularity, Input and Outp...</td>\n",
              "      <td>{\\n    \"Analysis on Characteristics\": \"The tas...</td>\n",
              "      <td>[The code should be modular, encapsulating the...</td>\n",
              "    </tr>\n",
              "    <tr>\n",
              "      <th>2</th>\n",
              "      <td>ajibawa-2023/Python-Code-23k-ShareGPT</td>\n",
              "      <td>Write a program in Python to find the factoria...</td>\n",
              "      <td>Here is a program in Python that finds the fac...</td>\n",
              "      <td>[Error Handling and Robustness, Mathematical C...</td>\n",
              "      <td>```json\\n{\\n    \"Analysis on Characteristics\":...</td>\n",
              "      <td>[Ensure that the function checks if the input ...</td>\n",
              "    </tr>\n",
              "    <tr>\n",
              "      <th>3</th>\n",
              "      <td>ajibawa-2023/Python-Code-23k-ShareGPT</td>\n",
              "      <td>Create a Python class for Animal with the foll...</td>\n",
              "      <td>```python\\nclass Animal:\\n    def __init__(sel...</td>\n",
              "      <td>[Code Structure and Modularity, Documentation ...</td>\n",
              "      <td>{\\n    \"Analysis on Characteristics\": \"The tas...</td>\n",
              "      <td>[Ensure that the class follows the principles ...</td>\n",
              "    </tr>\n",
              "    <tr>\n",
              "      <th>4</th>\n",
              "      <td>ajibawa-2023/Python-Code-23k-ShareGPT</td>\n",
              "      <td>How can I decrypt a set of jokes that are encr...</td>\n",
              "      <td>Sure, here's a Python function that decrypts t...</td>\n",
              "      <td>[Data Processing and Transformation, Input and...</td>\n",
              "      <td>{\\n    \"Analysis on Characteristics\": \"The tas...</td>\n",
              "      <td>[The function must handle non-alphabetic chara...</td>\n",
              "    </tr>\n",
              "  </tbody>\n",
              "</table>\n",
              "</div>"
            ],
            "text/plain": [
              "                                 dataset  \\\n",
              "0  ajibawa-2023/Python-Code-23k-ShareGPT   \n",
              "1  ajibawa-2023/Python-Code-23k-ShareGPT   \n",
              "2  ajibawa-2023/Python-Code-23k-ShareGPT   \n",
              "3  ajibawa-2023/Python-Code-23k-ShareGPT   \n",
              "4  ajibawa-2023/Python-Code-23k-ShareGPT   \n",
              "\n",
              "                                         instruction  \\\n",
              "0  Calculate the distance between two points loca...   \n",
              "1  Assuming that the given sentence is stored in ...   \n",
              "2  Write a program in Python to find the factoria...   \n",
              "3  Create a Python class for Animal with the foll...   \n",
              "4  How can I decrypt a set of jokes that are encr...   \n",
              "\n",
              "                                                code  \\\n",
              "0  To calculate the distance between two points i...   \n",
              "1  To achieve this, you can use Python's string m...   \n",
              "2  Here is a program in Python that finds the fac...   \n",
              "3  ```python\\nclass Animal:\\n    def __init__(sel...   \n",
              "4  Sure, here's a Python function that decrypts t...   \n",
              "\n",
              "                                 relevant_categories  \\\n",
              "0  [Mathematical Computation, Input and Output Ha...   \n",
              "1  [Code Structure and Modularity, Input and Outp...   \n",
              "2  [Error Handling and Robustness, Mathematical C...   \n",
              "3  [Code Structure and Modularity, Documentation ...   \n",
              "4  [Data Processing and Transformation, Input and...   \n",
              "\n",
              "                                         constraints  \\\n",
              "0  {\\n    \"Analysis on Characteristics\": \"The tas...   \n",
              "1  {\\n    \"Analysis on Characteristics\": \"The tas...   \n",
              "2  ```json\\n{\\n    \"Analysis on Characteristics\":...   \n",
              "3  {\\n    \"Analysis on Characteristics\": \"The tas...   \n",
              "4  {\\n    \"Analysis on Characteristics\": \"The tas...   \n",
              "\n",
              "                               extracted_constraints  \n",
              "0  [Ensure that the distance calculation correctl...  \n",
              "1  [The code should be modular, encapsulating the...  \n",
              "2  [Ensure that the function checks if the input ...  \n",
              "3  [Ensure that the class follows the principles ...  \n",
              "4  [The function must handle non-alphabetic chara...  "
            ]
          },
          "metadata": {},
          "output_type": "display_data"
        }
      ],
      "source": [
        "test_df['extracted_constraints'] = test_df['constraints'].apply(extract_constraints)\n",
        "display(test_df.head())"
      ]
    },
    {
      "cell_type": "markdown",
      "metadata": {
        "id": "ZTpTNID40IK6"
      },
      "source": [
        "# Step 4 - Compare New Constraints with Previous Ones for Quality Improvement\n",
        "- Skipping for now"
      ]
    },
    {
      "cell_type": "markdown",
      "metadata": {
        "id": "vnpbZO0JzZPX"
      },
      "source": [
        "# Step 6 - Generate constraints for each row in the benchmark dataset.\n"
      ]
    },
    {
      "cell_type": "code",
      "execution_count": 29,
      "metadata": {
        "colab": {
          "base_uri": "https://localhost:8080/",
          "height": 206
        },
        "id": "BTUVpII23Zms",
        "outputId": "b9d24391-2c96-4607-8b83-5fdd2c51db83"
      },
      "outputs": [
        {
          "data": {
            "text/html": [
              "<div>\n",
              "<style scoped>\n",
              "    .dataframe tbody tr th:only-of-type {\n",
              "        vertical-align: middle;\n",
              "    }\n",
              "\n",
              "    .dataframe tbody tr th {\n",
              "        vertical-align: top;\n",
              "    }\n",
              "\n",
              "    .dataframe thead th {\n",
              "        text-align: right;\n",
              "    }\n",
              "</style>\n",
              "<table border=\"1\" class=\"dataframe\">\n",
              "  <thead>\n",
              "    <tr style=\"text-align: right;\">\n",
              "      <th></th>\n",
              "      <th>instruction</th>\n",
              "      <th>code</th>\n",
              "      <th>language</th>\n",
              "      <th>source</th>\n",
              "    </tr>\n",
              "  </thead>\n",
              "  <tbody>\n",
              "    <tr>\n",
              "      <th>1610</th>\n",
              "      <td>\\n\\nIn the context of a medical imaging analys...</td>\n",
              "      <td>\\n\\n```python\\nimport itertools\\nimport torch\\...</td>\n",
              "      <td>Python</td>\n",
              "      <td>McEval-Instruct</td>\n",
              "    </tr>\n",
              "    <tr>\n",
              "      <th>1611</th>\n",
              "      <td>\\n\\nDesign a Python class that provides an Obj...</td>\n",
              "      <td>\\n\\n```python\\nimport sqlite3\\nimport pandas a...</td>\n",
              "      <td>Python</td>\n",
              "      <td>McEval-Instruct</td>\n",
              "    </tr>\n",
              "    <tr>\n",
              "      <th>1612</th>\n",
              "      <td>\\n\\nCreate a Python function named `display_sp...</td>\n",
              "      <td>\\n\\n```python\\nimport ephyviewer\\nfrom ephyvie...</td>\n",
              "      <td>Python</td>\n",
              "      <td>McEval-Instruct</td>\n",
              "    </tr>\n",
              "    <tr>\n",
              "      <th>1613</th>\n",
              "      <td>\\nDesign a search API for a municipal signals ...</td>\n",
              "      <td>\\n```python\\n# SPDX-License-Identifier: MPL-2....</td>\n",
              "      <td>Python</td>\n",
              "      <td>McEval-Instruct</td>\n",
              "    </tr>\n",
              "    <tr>\n",
              "      <th>1614</th>\n",
              "      <td>\\n\\nWrite a function `allocate_budget` that ta...</td>\n",
              "      <td>\\n\\n```python\\ndef allocate_budget(requests, b...</td>\n",
              "      <td>Python</td>\n",
              "      <td>McEval-Instruct</td>\n",
              "    </tr>\n",
              "  </tbody>\n",
              "</table>\n",
              "</div>"
            ],
            "text/plain": [
              "                                            instruction  \\\n",
              "1610  \\n\\nIn the context of a medical imaging analys...   \n",
              "1611  \\n\\nDesign a Python class that provides an Obj...   \n",
              "1612  \\n\\nCreate a Python function named `display_sp...   \n",
              "1613  \\nDesign a search API for a municipal signals ...   \n",
              "1614  \\n\\nWrite a function `allocate_budget` that ta...   \n",
              "\n",
              "                                                   code language  \\\n",
              "1610  \\n\\n```python\\nimport itertools\\nimport torch\\...   Python   \n",
              "1611  \\n\\n```python\\nimport sqlite3\\nimport pandas a...   Python   \n",
              "1612  \\n\\n```python\\nimport ephyviewer\\nfrom ephyvie...   Python   \n",
              "1613  \\n```python\\n# SPDX-License-Identifier: MPL-2....   Python   \n",
              "1614  \\n\\n```python\\ndef allocate_budget(requests, b...   Python   \n",
              "\n",
              "               source  \n",
              "1610  McEval-Instruct  \n",
              "1611  McEval-Instruct  \n",
              "1612  McEval-Instruct  \n",
              "1613  McEval-Instruct  \n",
              "1614  McEval-Instruct  "
            ]
          },
          "metadata": {},
          "output_type": "display_data"
        }
      ],
      "source": [
        "python_mceval = python_mceval.rename(columns={'instruction': 'instruction', 'output': 'code'})\n",
        "display(python_mceval.head())"
      ]
    },
    {
      "cell_type": "code",
      "execution_count": 30,
      "metadata": {
        "colab": {
          "base_uri": "https://localhost:8080/"
        },
        "id": "J2FIB4jl3j5a",
        "outputId": "f7c298f3-9624-4e97-9cd8-73dc8086308b"
      },
      "outputs": [
        {
          "name": "stdout",
          "output_type": "stream",
          "text": [
            "<class 'pandas.core.frame.DataFrame'>\n",
            "Index: 927 entries, 1610 to 8664\n",
            "Data columns (total 4 columns):\n",
            " #   Column       Non-Null Count  Dtype \n",
            "---  ------       --------------  ----- \n",
            " 0   instruction  927 non-null    object\n",
            " 1   code         927 non-null    object\n",
            " 2   language     927 non-null    object\n",
            " 3   source       927 non-null    object\n",
            "dtypes: object(4)\n",
            "memory usage: 36.2+ KB\n"
          ]
        }
      ],
      "source": [
        "python_mceval.info()"
      ]
    },
    {
      "cell_type": "code",
      "execution_count": 31,
      "metadata": {
        "colab": {
          "base_uri": "https://localhost:8080/"
        },
        "id": "BQgO3Z_H3rh5",
        "outputId": "97266427-618d-4221-f93a-8093a96d8944"
      },
      "outputs": [
        {
          "name": "stdout",
          "output_type": "stream",
          "text": [
            "Processing row 1610\n",
            "Processing row 1611\n",
            "Processing row 1612\n",
            "Processing row 1613\n",
            "Processing row 1614\n",
            "Processing row 1615\n",
            "Processing row 1616\n",
            "Processing row 1617\n",
            "Processing row 1618\n",
            "Processing row 1619\n",
            "Processing row 1620\n",
            "Processing row 1621\n",
            "Processing row 1622\n",
            "Processing row 1623\n",
            "Processing row 1624\n",
            "Processing row 1625\n",
            "Processing row 1626\n",
            "Processing row 1627\n",
            "Processing row 1628\n",
            "Processing row 1629\n",
            "Saved the file successfully\n",
            "<class 'pandas.core.frame.DataFrame'>\n",
            "Index: 20 entries, 1610 to 1629\n",
            "Data columns (total 5 columns):\n",
            " #   Column               Non-Null Count  Dtype \n",
            "---  ------               --------------  ----- \n",
            " 0   instruction          20 non-null     object\n",
            " 1   code                 20 non-null     object\n",
            " 2   language             20 non-null     object\n",
            " 3   source               20 non-null     object\n",
            " 4   relevant_categories  20 non-null     object\n",
            "dtypes: object(5)\n",
            "memory usage: 960.0+ bytes\n"
          ]
        }
      ],
      "source": [
        "test_mceval = python_mceval.head(20).copy()\n",
        "map_categories(test_mceval,\"Mceval_relevant_categories.csv\",\"instruction\",\"code\",\"relevant_categories\")\n",
        "test_mceval.info()"
      ]
    },
    {
      "cell_type": "code",
      "execution_count": 32,
      "metadata": {
        "colab": {
          "base_uri": "https://localhost:8080/",
          "height": 35
        },
        "id": "CK8MqhER5mcP",
        "outputId": "ac2f0beb-057a-4fc6-da3f-b4cf538e4291"
      },
      "outputs": [
        {
          "data": {
            "text/plain": [
              "'[\"Code Structure and Modularity\", \"Input and Output Handling\", \"Performance and Optimization\", \"Error Handling and Robustness\", \"Library and API Usage\"]'"
            ]
          },
          "execution_count": 32,
          "metadata": {},
          "output_type": "execute_result"
        }
      ],
      "source": [
        "get_relevant_categories(test_mceval.iloc[0][\"instruction\"],test_mceval.iloc[0][\"code\"])"
      ]
    },
    {
      "cell_type": "code",
      "execution_count": 33,
      "metadata": {
        "colab": {
          "base_uri": "https://localhost:8080/",
          "height": 2743
        },
        "collapsed": true,
        "id": "uvQK7DCN4hcF",
        "outputId": "7e46002e-fb99-4a03-e44f-311a8ba0c5a2"
      },
      "outputs": [
        {
          "data": {
            "text/html": [
              "<div>\n",
              "<style scoped>\n",
              "    .dataframe tbody tr th:only-of-type {\n",
              "        vertical-align: middle;\n",
              "    }\n",
              "\n",
              "    .dataframe tbody tr th {\n",
              "        vertical-align: top;\n",
              "    }\n",
              "\n",
              "    .dataframe thead th {\n",
              "        text-align: right;\n",
              "    }\n",
              "</style>\n",
              "<table border=\"1\" class=\"dataframe\">\n",
              "  <thead>\n",
              "    <tr style=\"text-align: right;\">\n",
              "      <th></th>\n",
              "      <th>instruction</th>\n",
              "      <th>code</th>\n",
              "      <th>language</th>\n",
              "      <th>source</th>\n",
              "      <th>relevant_categories</th>\n",
              "    </tr>\n",
              "  </thead>\n",
              "  <tbody>\n",
              "    <tr>\n",
              "      <th>1610</th>\n",
              "      <td>\\n\\nIn the context of a medical imaging analys...</td>\n",
              "      <td>\\n\\n```python\\nimport itertools\\nimport torch\\...</td>\n",
              "      <td>Python</td>\n",
              "      <td>McEval-Instruct</td>\n",
              "      <td>[\"Code Structure and Modularity\", \"Input and O...</td>\n",
              "    </tr>\n",
              "    <tr>\n",
              "      <th>1611</th>\n",
              "      <td>\\n\\nDesign a Python class that provides an Obj...</td>\n",
              "      <td>\\n\\n```python\\nimport sqlite3\\nimport pandas a...</td>\n",
              "      <td>Python</td>\n",
              "      <td>McEval-Instruct</td>\n",
              "      <td>[\"Code Structure and Modularity\", \"Library and...</td>\n",
              "    </tr>\n",
              "    <tr>\n",
              "      <th>1612</th>\n",
              "      <td>\\n\\nCreate a Python function named `display_sp...</td>\n",
              "      <td>\\n\\n```python\\nimport ephyviewer\\nfrom ephyvie...</td>\n",
              "      <td>Python</td>\n",
              "      <td>McEval-Instruct</td>\n",
              "      <td>[\"UI and Interaction\", \"Library and API Usage\"...</td>\n",
              "    </tr>\n",
              "    <tr>\n",
              "      <th>1613</th>\n",
              "      <td>\\nDesign a search API for a municipal signals ...</td>\n",
              "      <td>\\n```python\\n# SPDX-License-Identifier: MPL-2....</td>\n",
              "      <td>Python</td>\n",
              "      <td>McEval-Instruct</td>\n",
              "      <td>[\"Code Structure and Modularity\", \"Input and O...</td>\n",
              "    </tr>\n",
              "    <tr>\n",
              "      <th>1614</th>\n",
              "      <td>\\n\\nWrite a function `allocate_budget` that ta...</td>\n",
              "      <td>\\n\\n```python\\ndef allocate_budget(requests, b...</td>\n",
              "      <td>Python</td>\n",
              "      <td>McEval-Instruct</td>\n",
              "      <td>[\"Code Structure and Modularity\", \"Input and O...</td>\n",
              "    </tr>\n",
              "  </tbody>\n",
              "</table>\n",
              "</div>"
            ],
            "text/plain": [
              "                                            instruction  \\\n",
              "1610  \\n\\nIn the context of a medical imaging analys...   \n",
              "1611  \\n\\nDesign a Python class that provides an Obj...   \n",
              "1612  \\n\\nCreate a Python function named `display_sp...   \n",
              "1613  \\nDesign a search API for a municipal signals ...   \n",
              "1614  \\n\\nWrite a function `allocate_budget` that ta...   \n",
              "\n",
              "                                                   code language  \\\n",
              "1610  \\n\\n```python\\nimport itertools\\nimport torch\\...   Python   \n",
              "1611  \\n\\n```python\\nimport sqlite3\\nimport pandas a...   Python   \n",
              "1612  \\n\\n```python\\nimport ephyviewer\\nfrom ephyvie...   Python   \n",
              "1613  \\n```python\\n# SPDX-License-Identifier: MPL-2....   Python   \n",
              "1614  \\n\\n```python\\ndef allocate_budget(requests, b...   Python   \n",
              "\n",
              "               source                                relevant_categories  \n",
              "1610  McEval-Instruct  [\"Code Structure and Modularity\", \"Input and O...  \n",
              "1611  McEval-Instruct  [\"Code Structure and Modularity\", \"Library and...  \n",
              "1612  McEval-Instruct  [\"UI and Interaction\", \"Library and API Usage\"...  \n",
              "1613  McEval-Instruct  [\"Code Structure and Modularity\", \"Input and O...  \n",
              "1614  McEval-Instruct  [\"Code Structure and Modularity\", \"Input and O...  "
            ]
          },
          "execution_count": 33,
          "metadata": {},
          "output_type": "execute_result"
        }
      ],
      "source": [
        "test_mceval.head()"
      ]
    },
    {
      "cell_type": "code",
      "execution_count": 34,
      "metadata": {
        "colab": {
          "base_uri": "https://localhost:8080/"
        },
        "id": "FanE96gZ39tw",
        "outputId": "aaff8973-4fe1-4aeb-df89-80f29c3a320a"
      },
      "outputs": [
        {
          "name": "stdout",
          "output_type": "stream",
          "text": [
            "Processing row 1610\n",
            "Processing row 1611\n",
            "Processing row 1612\n",
            "Processing row 1613\n",
            "Processing row 1614\n",
            "Processing row 1615\n",
            "Processing row 1616\n",
            "Processing row 1617\n",
            "Processing row 1618\n",
            "Processing row 1619\n",
            "Processing row 1620\n",
            "Processing row 1621\n",
            "Processing row 1622\n",
            "Processing row 1623\n",
            "Processing row 1624\n",
            "Processing row 1625\n",
            "Processing row 1626\n",
            "Processing row 1627\n",
            "Processing row 1628\n",
            "Processing row 1629\n",
            "Saved the file successfully\n",
            "<class 'pandas.core.frame.DataFrame'>\n",
            "Index: 20 entries, 1610 to 1629\n",
            "Data columns (total 6 columns):\n",
            " #   Column               Non-Null Count  Dtype \n",
            "---  ------               --------------  ----- \n",
            " 0   instruction          20 non-null     object\n",
            " 1   code                 20 non-null     object\n",
            " 2   language             20 non-null     object\n",
            " 3   source               20 non-null     object\n",
            " 4   relevant_categories  20 non-null     object\n",
            " 5   constraints          20 non-null     object\n",
            "dtypes: object(6)\n",
            "memory usage: 1.1+ KB\n"
          ]
        }
      ],
      "source": [
        "test_mceval = generate_constraints(test_mceval,\"Mceval_constraints.csv\",\"instruction\",\"code\",\"relevant_categories\",\"constraints\")\n",
        "test_mceval.info()"
      ]
    },
    {
      "cell_type": "code",
      "execution_count": 35,
      "metadata": {
        "colab": {
          "base_uri": "https://localhost:8080/",
          "height": 345
        },
        "id": "ITNhXxdf69n0",
        "outputId": "338d5cf9-56b7-4eac-d0a5-33c7e3b74934"
      },
      "outputs": [
        {
          "data": {
            "text/html": [
              "<div>\n",
              "<style scoped>\n",
              "    .dataframe tbody tr th:only-of-type {\n",
              "        vertical-align: middle;\n",
              "    }\n",
              "\n",
              "    .dataframe tbody tr th {\n",
              "        vertical-align: top;\n",
              "    }\n",
              "\n",
              "    .dataframe thead th {\n",
              "        text-align: right;\n",
              "    }\n",
              "</style>\n",
              "<table border=\"1\" class=\"dataframe\">\n",
              "  <thead>\n",
              "    <tr style=\"text-align: right;\">\n",
              "      <th></th>\n",
              "      <th>instruction</th>\n",
              "      <th>code</th>\n",
              "      <th>language</th>\n",
              "      <th>source</th>\n",
              "      <th>relevant_categories</th>\n",
              "      <th>constraints</th>\n",
              "      <th>extract_constraints</th>\n",
              "    </tr>\n",
              "  </thead>\n",
              "  <tbody>\n",
              "    <tr>\n",
              "      <th>1610</th>\n",
              "      <td>\\n\\nIn the context of a medical imaging analys...</td>\n",
              "      <td>\\n\\n```python\\nimport itertools\\nimport torch\\...</td>\n",
              "      <td>Python</td>\n",
              "      <td>McEval-Instruct</td>\n",
              "      <td>[\"Code Structure and Modularity\", \"Input and O...</td>\n",
              "      <td>```json\\n{\\n    \"Analysis on Characteristics\":...</td>\n",
              "      <td>[The function must take an Options object as i...</td>\n",
              "    </tr>\n",
              "    <tr>\n",
              "      <th>1611</th>\n",
              "      <td>\\n\\nDesign a Python class that provides an Obj...</td>\n",
              "      <td>\\n\\n```python\\nimport sqlite3\\nimport pandas a...</td>\n",
              "      <td>Python</td>\n",
              "      <td>McEval-Instruct</td>\n",
              "      <td>[\"Code Structure and Modularity\", \"Library and...</td>\n",
              "      <td>{\\n    \"Analysis on Characteristics\": \"The tas...</td>\n",
              "      <td>[Ensure that all SQL queries are parameterized...</td>\n",
              "    </tr>\n",
              "    <tr>\n",
              "      <th>1612</th>\n",
              "      <td>\\n\\nCreate a Python function named `display_sp...</td>\n",
              "      <td>\\n\\n```python\\nimport ephyviewer\\nfrom ephyvie...</td>\n",
              "      <td>Python</td>\n",
              "      <td>McEval-Instruct</td>\n",
              "      <td>[\"UI and Interaction\", \"Library and API Usage\"...</td>\n",
              "      <td>```json\\n{\\n    \"Analysis on Characteristics\":...</td>\n",
              "      <td>[Ensure that the function `display_spike_train...</td>\n",
              "    </tr>\n",
              "    <tr>\n",
              "      <th>1613</th>\n",
              "      <td>\\nDesign a search API for a municipal signals ...</td>\n",
              "      <td>\\n```python\\n# SPDX-License-Identifier: MPL-2....</td>\n",
              "      <td>Python</td>\n",
              "      <td>McEval-Instruct</td>\n",
              "      <td>[\"Code Structure and Modularity\", \"Input and O...</td>\n",
              "      <td>```json\\n{\\n    \"Analysis on Characteristics\":...</td>\n",
              "      <td>[The API should be designed with modularity in...</td>\n",
              "    </tr>\n",
              "    <tr>\n",
              "      <th>1614</th>\n",
              "      <td>\\n\\nWrite a function `allocate_budget` that ta...</td>\n",
              "      <td>\\n\\n```python\\ndef allocate_budget(requests, b...</td>\n",
              "      <td>Python</td>\n",
              "      <td>McEval-Instruct</td>\n",
              "      <td>[\"Code Structure and Modularity\", \"Input and O...</td>\n",
              "      <td>{\\n    \"Analysis on Characteristics\": \"The tas...</td>\n",
              "      <td>[The function should be modular, with a clear ...</td>\n",
              "    </tr>\n",
              "  </tbody>\n",
              "</table>\n",
              "</div>"
            ],
            "text/plain": [
              "                                            instruction  \\\n",
              "1610  \\n\\nIn the context of a medical imaging analys...   \n",
              "1611  \\n\\nDesign a Python class that provides an Obj...   \n",
              "1612  \\n\\nCreate a Python function named `display_sp...   \n",
              "1613  \\nDesign a search API for a municipal signals ...   \n",
              "1614  \\n\\nWrite a function `allocate_budget` that ta...   \n",
              "\n",
              "                                                   code language  \\\n",
              "1610  \\n\\n```python\\nimport itertools\\nimport torch\\...   Python   \n",
              "1611  \\n\\n```python\\nimport sqlite3\\nimport pandas a...   Python   \n",
              "1612  \\n\\n```python\\nimport ephyviewer\\nfrom ephyvie...   Python   \n",
              "1613  \\n```python\\n# SPDX-License-Identifier: MPL-2....   Python   \n",
              "1614  \\n\\n```python\\ndef allocate_budget(requests, b...   Python   \n",
              "\n",
              "               source                                relevant_categories  \\\n",
              "1610  McEval-Instruct  [\"Code Structure and Modularity\", \"Input and O...   \n",
              "1611  McEval-Instruct  [\"Code Structure and Modularity\", \"Library and...   \n",
              "1612  McEval-Instruct  [\"UI and Interaction\", \"Library and API Usage\"...   \n",
              "1613  McEval-Instruct  [\"Code Structure and Modularity\", \"Input and O...   \n",
              "1614  McEval-Instruct  [\"Code Structure and Modularity\", \"Input and O...   \n",
              "\n",
              "                                            constraints  \\\n",
              "1610  ```json\\n{\\n    \"Analysis on Characteristics\":...   \n",
              "1611  {\\n    \"Analysis on Characteristics\": \"The tas...   \n",
              "1612  ```json\\n{\\n    \"Analysis on Characteristics\":...   \n",
              "1613  ```json\\n{\\n    \"Analysis on Characteristics\":...   \n",
              "1614  {\\n    \"Analysis on Characteristics\": \"The tas...   \n",
              "\n",
              "                                    extract_constraints  \n",
              "1610  [The function must take an Options object as i...  \n",
              "1611  [Ensure that all SQL queries are parameterized...  \n",
              "1612  [Ensure that the function `display_spike_train...  \n",
              "1613  [The API should be designed with modularity in...  \n",
              "1614  [The function should be modular, with a clear ...  "
            ]
          },
          "execution_count": 35,
          "metadata": {},
          "output_type": "execute_result"
        }
      ],
      "source": [
        "test_mceval[\"extract_constraints\"] = test_mceval[\"constraints\"].apply(extract_constraints)\n",
        "test_mceval.head()"
      ]
    },
    {
      "cell_type": "code",
      "execution_count": null,
      "metadata": {},
      "outputs": [],
      "source": []
    },
    {
      "cell_type": "code",
      "execution_count": 36,
      "metadata": {
        "id": "LYRncLA98a72"
      },
      "outputs": [],
      "source": [
        "test_mceval.to_csv(\"../../data/raw/Mceval_constraints.csv\",index=False)"
      ]
    },
    {
      "cell_type": "markdown",
      "metadata": {},
      "source": [
        "# Step 7 - Validate the generated constraints.\n"
      ]
    },
    {
      "cell_type": "code",
      "execution_count": null,
      "metadata": {},
      "outputs": [],
      "source": []
    },
    {
      "cell_type": "code",
      "execution_count": null,
      "metadata": {},
      "outputs": [],
      "source": []
    },
    {
      "cell_type": "markdown",
      "metadata": {},
      "source": [
        "# Step 8 - Generate code from Instruction and Generated Constraints"
      ]
    },
    {
      "cell_type": "code",
      "execution_count": 37,
      "metadata": {
        "id": "v0XoVn5T8oty"
      },
      "outputs": [
        {
          "name": "stdout",
          "output_type": "stream",
          "text": [
            " You are a skilled Python programmer. Based on the following natural language instruction and a set of implementation constraints, generate Python code that satisfies the instruction and fully adheres to all constraints.\n",
            "\n",
            "    ### Instruction:\n",
            "    \n",
            "\n",
            "In the context of a medical imaging analysis application, you are tasked with developing a CycleGAN-based model for domain adaptation between two different types of medical images (e.g., MRI and CT scans). The CycleGAN consists of two generators and two discriminators. The generators are responsible for translating images from one domain to another and vice versa, while the discriminators aim to distinguish between real and generated images.\n",
            "\n",
            "The given code snippet provides a setup for initializing the CycleGAN components using PyTorch, including the generators (`G_AB` and `G_BA`), discriminators (`D_A` and `D_B`), and a Graph Neural Network (`model_gnn`) for feature extraction. Additionally, loss functions and optimizers are defined for training the model.\n",
            "\n",
            "Your task is to write a Python function `initialize_cyclegan_components` that initializes all the components of the CycleGAN model and returns them in a dictionary. The function should also ensure that all components are moved to the GPU for efficient computation.\n",
            "\n",
            "The function should follow these specifications:\n",
            "\n",
            "- The function should take an `Options` object as input, which contains all the necessary hyperparameters for the model components.\n",
            "- The function should return a dictionary with the following keys: `'G_AB'`, `'G_BA'`, `'D_A'`, `'D_B'`, `'model_gnn'`, `'criterionIdt'`, `'criterionCycle'`, `'criterionGEN'`, `'optimizer_G'`, `'optimizer_D'`, and `'optimizer_M'`.\n",
            "- Each key should map to the corresponding initialized component.\n",
            "- All components should be moved to the GPU using `.cuda()` method.\n",
            "- The function should handle the case where CUDA is not available by moving components to the CPU.\n",
            "\n",
            "\n",
            "\n",
            "    ### Constraints:\n",
            "    ['The function must take an Options object as input, ensuring that all necessary hyperparameters are provided for initializing the CycleGAN components.', 'All components (generators, discriminators, loss functions, and optimizers) must be initialized in a modular manner, with clear separation of concerns for each component.', 'The function should check for CUDA availability and move all initialized components to the GPU using the .cuda() method, while also providing a fallback to CPU if CUDA is not available.', 'The loss functions should be chosen appropriately for the CycleGAN architecture, ensuring they are suitable for the tasks of identity and cycle consistency.', 'The optimizers must be initialized with appropriate parameters, including learning rates and momentum, as specified in the Options object.', 'The function should return a dictionary containing all initialized components, ensuring that the keys are correctly named and correspond to their respective components.', 'Error handling should be implemented to catch and log any issues during the initialization of components, such as incorrect hyperparameters or initialization failures.', 'The code should be structured to allow for easy testing and validation of each component, ensuring that unit tests can be written to verify the correctness of the initialization process.', 'The use of library functions (e.g., torch.nn.DataParallel) must be appropriate and efficient, ensuring that the model can leverage multi-GPU setups if available.', 'Comments and documentation within the code should clearly explain the purpose and functionality of each section, aiding in maintainability and understanding of the code.']\n",
            "\n",
            "    ### Requirements:\n",
            "    - Ensure the code is clean, correct, and follows Python best practices.\n",
            "    - Strictly follow all the constraints, even if they are not explicitly stated in the instruction.\n",
            "    - Do not include any explanatory text; return only the code block.\n",
            "\n",
            "    ### Output Format:\n",
            "    Return a single Python code block that solves the task.\n",
            "\n",
            "\n",
            "    # Your code here\n",
            "\n",
            "\n",
            "    \n"
          ]
        }
      ],
      "source": [
        "def get_codegeneration_prompt(instruction,constraints):\n",
        "    prompt = f\"\"\" You are a skilled Python programmer. Based on the following natural language instruction and a set of implementation constraints, generate Python code that satisfies the instruction and fully adheres to all constraints.\n",
        "\n",
        "    ### Instruction:\n",
        "    {instruction}\n",
        "\n",
        "    ### Constraints:\n",
        "    {constraints}\n",
        "\n",
        "    ### Requirements:\n",
        "    - Ensure the code is clean, correct, and follows Python best practices.\n",
        "    - Strictly follow all the constraints, even if they are not explicitly stated in the instruction.\n",
        "    - Do not include any explanatory text; return only the code block.\n",
        "\n",
        "    ### Output Format:\n",
        "    Return a single Python code block that solves the task.\n",
        "\n",
        " \n",
        "    # Your code here\n",
        "\n",
        "\n",
        "    \"\"\"\n",
        "    return prompt\n",
        "\n",
        "\n",
        "print(get_codegeneration_prompt(test_mceval.iloc[0,0],test_mceval.iloc[0,6]))"
      ]
    },
    {
      "cell_type": "code",
      "execution_count": 38,
      "metadata": {},
      "outputs": [
        {
          "name": "stdout",
          "output_type": "stream",
          "text": [
            "```python\n",
            "import torch\n",
            "import torch.nn as nn\n",
            "import torch.optim as optim\n",
            "\n",
            "class Options:\n",
            "    def __init__(self, lr_G, lr_D, lr_M, beta1, beta2):\n",
            "        self.lr_G = lr_G\n",
            "        self.lr_D = lr_D\n",
            "        self.lr_M = lr_M\n",
            "        self.beta1 = beta1\n",
            "        self.beta2 = beta2\n",
            "\n",
            "class Generator(nn.Module):\n",
            "    def __init__(self):\n",
            "        super(Generator, self).__init__()\n",
            "        # Define layers for the generator\n",
            "\n",
            "    def forward(self, x):\n",
            "        # Forward pass for the generator\n",
            "        return x\n",
            "\n",
            "class Discriminator(nn.Module):\n",
            "    def __init__(self):\n",
            "        super(Discriminator, self).__init__()\n",
            "        # Define layers for the discriminator\n",
            "\n",
            "    def forward(self, x):\n",
            "        # Forward pass for the discriminator\n",
            "        return x\n",
            "\n",
            "class GraphNN(nn.Module):\n",
            "    def __init__(self):\n",
            "        super(GraphNN, self).__init__()\n",
            "        # Define layers for the GNN\n",
            "\n",
            "    def forward(self, x):\n",
            "        # Forward pass for the GNN\n",
            "        return x\n",
            "\n",
            "def initialize_cyclegan_components(options):\n",
            "    try:\n",
            "        # Initialize generators and discriminators\n",
            "        G_AB = Generator()\n",
            "        G_BA = Generator()\n",
            "        D_A = Discriminator()\n",
            "        D_B = Discriminator()\n",
            "        model_gnn = GraphNN()\n",
            "\n",
            "        # Move components to GPU if available\n",
            "        device = torch.device(\"cuda\" if torch.cuda.is_available() else \"cpu\")\n",
            "        G_AB.to(device)\n",
            "        G_BA.to(device)\n",
            "        D_A.to(device)\n",
            "        D_B.to(device)\n",
            "        model_gnn.to(device)\n",
            "\n",
            "        # Initialize loss functions\n",
            "        criterionIdt = nn.L1Loss().to(device)\n",
            "        criterionCycle = nn.L1Loss().to(device)\n",
            "        criterionGEN = nn.BCEWithLogitsLoss().to(device)\n",
            "\n",
            "        # Initialize optimizers\n",
            "        optimizer_G = optim.Adam(\n",
            "            list(G_AB.parameters()) + list(G_BA.parameters()), \n",
            "            lr=options.lr_G, \n",
            "            betas=(options.beta1, options.beta2)\n",
            "        )\n",
            "        optimizer_D = optim.Adam(\n",
            "            list(D_A.parameters()) + list(D_B.parameters()), \n",
            "            lr=options.lr_D, \n",
            "            betas=(options.beta1, options.beta2)\n",
            "        )\n",
            "        optimizer_M = optim.Adam(\n",
            "            model_gnn.parameters(), \n",
            "            lr=options.lr_M, \n",
            "            betas=(options.beta1, options.beta2)\n",
            "        )\n",
            "\n",
            "        # Return all components in a dictionary\n",
            "        return {\n",
            "            'G_AB': G_AB,\n",
            "            'G_BA': G_BA,\n",
            "            'D_A': D_A,\n",
            "            'D_B': D_B,\n",
            "            'model_gnn': model_gnn,\n",
            "            'criterionIdt': criterionIdt,\n",
            "            'criterionCycle': criterionCycle,\n",
            "            'criterionGEN': criterionGEN,\n",
            "            'optimizer_G': optimizer_G,\n",
            "            'optimizer_D': optimizer_D,\n",
            "            'optimizer_M': optimizer_M\n",
            "        }\n",
            "    except Exception as e:\n",
            "        print(f\"Error initializing CycleGAN components: {e}\")\n",
            "        return None\n",
            "```\n"
          ]
        }
      ],
      "source": [
        "prompt = get_codegeneration_prompt(test_mceval.iloc[0,0],test_mceval.iloc[0,6])\n",
        "code = get_response(prompt)\n",
        "print(code)"
      ]
    },
    {
      "cell_type": "code",
      "execution_count": 39,
      "metadata": {},
      "outputs": [
        {
          "name": "stdout",
          "output_type": "stream",
          "text": [
            "\n",
            "\n",
            "In the c\n"
          ]
        },
        {
          "data": {
            "text/plain": [
              "'```python\\nimport torch\\nimport torch.nn as nn\\nimport torch.optim as optim\\n\\ndef initialize_cyclegan_components(options):\\n    \"\"\"\\n    Initializes the components of the CycleGAN model based on the provided options.\\n\\n    Args:\\n        options: An Options object containing hyperparameters for the model components.\\n\\n    Returns:\\n        A dictionary containing initialized components of the CycleGAN.\\n    \"\"\"\\n    device = torch.device(\"cuda\" if torch.cuda.is_available() else \"cpu\")\\n\\n    try:\\n        # Initialize Generators\\n        G_AB = Generator(options).to(device)\\n        G_BA = Generator(options).to(device)\\n\\n        # Initialize Discriminators\\n        D_A = Discriminator(options).to(device)\\n        D_B = Discriminator(options).to(device)\\n\\n        # Initialize Graph Neural Network for feature extraction\\n        model_gnn = GraphNN(options).to(device)\\n\\n        # Initialize Loss Functions\\n        criterionIdt = nn.L1Loss().to(device)\\n        criterionCycle = nn.L1Loss().to(device)\\n        criterionGEN = nn.MSELoss().to(device)\\n\\n        # Initialize Optimizers\\n        optimizer_G = optim.Adam(\\n            list(G_AB.parameters()) + list(G_BA.parameters()),\\n            lr=options.lr_G,\\n            betas=(options.beta1, options.beta2)\\n        )\\n        optimizer_D = optim.Adam(\\n            list(D_A.parameters()) + list(D_B.parameters()),\\n            lr=options.lr_D,\\n            betas=(options.beta1, options.beta2)\\n        )\\n        optimizer_M = optim.Adam(\\n            model_gnn.parameters(),\\n            lr=options.lr_M,\\n            betas=(options.beta1, options.beta2)\\n        )\\n\\n        # Return all components in a dictionary\\n        return {\\n            \\'G_AB\\': G_AB,\\n            \\'G_BA\\': G_BA,\\n            \\'D_A\\': D_A,\\n            \\'D_B\\': D_B,\\n            \\'model_gnn\\': model_gnn,\\n            \\'criterionIdt\\': criterionIdt,\\n            \\'criterionCycle\\': criterionCycle,\\n            \\'criterionGEN\\': criterionGEN,\\n            \\'optimizer_G\\': optimizer_G,\\n            \\'optimizer_D\\': optimizer_D,\\n            \\'optimizer_M\\': optimizer_M\\n        }\\n    \\n    except Exception as e:\\n        print(f\"Error during initialization: {e}\")\\n        return None\\n```'"
            ]
          },
          "execution_count": 39,
          "metadata": {},
          "output_type": "execute_result"
        }
      ],
      "source": [
        "def generate_code(row,input_col1=\"instruction\",input_col2=\"extract_constraints\"):\n",
        "    print(row[input_col1][:10])\n",
        "    prompt = get_codegeneration_prompt(row[input_col1],row[input_col2])\n",
        "    code = get_response(prompt)\n",
        "    \n",
        "    return code \n",
        "generate_code(test_mceval.iloc[0])"
      ]
    },
    {
      "cell_type": "code",
      "execution_count": null,
      "metadata": {},
      "outputs": [],
      "source": []
    },
    {
      "cell_type": "code",
      "execution_count": 40,
      "metadata": {},
      "outputs": [
        {
          "name": "stdout",
          "output_type": "stream",
          "text": [
            "\n",
            "\n",
            "In the c\n",
            "\n",
            "\n",
            "Design a\n",
            "\n",
            "\n",
            "Create a\n",
            "\n",
            "Design a \n",
            "\n",
            "\n",
            "Write a \n",
            "\n",
            "\n",
            "Write a \n",
            "\n",
            "\n",
            "Write a \n",
            "\n",
            "\n",
            "Design a\n",
            "\n",
            "\n",
            "Create a\n",
            "\n",
            "Write a P\n",
            "\n",
            "\n",
            "Implemen\n",
            "\n",
            "\n",
            "Write a \n",
            "\n",
            "\n",
            "Write a \n",
            "\n",
            "\n",
            "You are \n",
            "\n",
            "Design a \n",
            "\n",
            "\n",
            "Create a\n",
            "\n",
            "\n",
            "Given a \n",
            "\n",
            "\n",
            "Design a\n",
            "\n",
            "\n",
            "Design a\n",
            "\n",
            "\n",
            "Write a \n"
          ]
        }
      ],
      "source": [
        "from tqdm import tqdm\n",
        "import pandas as pd\n",
        "\n",
        "# Enable tqdm for pandas apply\n",
        "tqdm.pandas()\n",
        "test_mceval[\"generated_code\"] = test_mceval.apply(generate_code,axis=1)"
      ]
    },
    {
      "cell_type": "code",
      "execution_count": 50,
      "metadata": {},
      "outputs": [
        {
          "data": {
            "text/html": [
              "<div>\n",
              "<style scoped>\n",
              "    .dataframe tbody tr th:only-of-type {\n",
              "        vertical-align: middle;\n",
              "    }\n",
              "\n",
              "    .dataframe tbody tr th {\n",
              "        vertical-align: top;\n",
              "    }\n",
              "\n",
              "    .dataframe thead th {\n",
              "        text-align: right;\n",
              "    }\n",
              "</style>\n",
              "<table border=\"1\" class=\"dataframe\">\n",
              "  <thead>\n",
              "    <tr style=\"text-align: right;\">\n",
              "      <th></th>\n",
              "      <th>instruction</th>\n",
              "      <th>code</th>\n",
              "      <th>language</th>\n",
              "      <th>source</th>\n",
              "      <th>relevant_categories</th>\n",
              "      <th>constraints</th>\n",
              "      <th>extract_constraints</th>\n",
              "      <th>generated_code</th>\n",
              "      <th>generated_code_without_constraints</th>\n",
              "    </tr>\n",
              "  </thead>\n",
              "  <tbody>\n",
              "    <tr>\n",
              "      <th>1610</th>\n",
              "      <td>\\n\\nIn the context of a medical imaging analys...</td>\n",
              "      <td>\\n\\n```python\\nimport itertools\\nimport torch\\...</td>\n",
              "      <td>Python</td>\n",
              "      <td>McEval-Instruct</td>\n",
              "      <td>[\"Code Structure and Modularity\", \"Input and O...</td>\n",
              "      <td>```json\\n{\\n    \"Analysis on Characteristics\":...</td>\n",
              "      <td>[The function must take an Options object as i...</td>\n",
              "      <td>```python\\nimport torch\\nimport torch.nn as nn...</td>\n",
              "      <td>```python\\nimport torch\\nimport torch.nn as nn...</td>\n",
              "    </tr>\n",
              "    <tr>\n",
              "      <th>1611</th>\n",
              "      <td>\\n\\nDesign a Python class that provides an Obj...</td>\n",
              "      <td>\\n\\n```python\\nimport sqlite3\\nimport pandas a...</td>\n",
              "      <td>Python</td>\n",
              "      <td>McEval-Instruct</td>\n",
              "      <td>[\"Code Structure and Modularity\", \"Library and...</td>\n",
              "      <td>{\\n    \"Analysis on Characteristics\": \"The tas...</td>\n",
              "      <td>[Ensure that all SQL queries are parameterized...</td>\n",
              "      <td>```python\\nimport sqlite3\\nimport pandas as pd...</td>\n",
              "      <td>```python\\nimport sqlite3\\nimport pandas as pd...</td>\n",
              "    </tr>\n",
              "    <tr>\n",
              "      <th>1612</th>\n",
              "      <td>\\n\\nCreate a Python function named `display_sp...</td>\n",
              "      <td>\\n\\n```python\\nimport ephyviewer\\nfrom ephyvie...</td>\n",
              "      <td>Python</td>\n",
              "      <td>McEval-Instruct</td>\n",
              "      <td>[\"UI and Interaction\", \"Library and API Usage\"...</td>\n",
              "      <td>```json\\n{\\n    \"Analysis on Characteristics\":...</td>\n",
              "      <td>[Ensure that the function `display_spike_train...</td>\n",
              "      <td>```python\\nimport logging\\nfrom ephyviewer imp...</td>\n",
              "      <td>```python\\nimport logging\\nfrom ephyviewer imp...</td>\n",
              "    </tr>\n",
              "    <tr>\n",
              "      <th>1613</th>\n",
              "      <td>\\nDesign a search API for a municipal signals ...</td>\n",
              "      <td>\\n```python\\n# SPDX-License-Identifier: MPL-2....</td>\n",
              "      <td>Python</td>\n",
              "      <td>McEval-Instruct</td>\n",
              "      <td>[\"Code Structure and Modularity\", \"Input and O...</td>\n",
              "      <td>```json\\n{\\n    \"Analysis on Characteristics\":...</td>\n",
              "      <td>[The API should be designed with modularity in...</td>\n",
              "      <td>```python\\nfrom flask import Flask, request, j...</td>\n",
              "      <td>```python\\nfrom flask import Flask, request, j...</td>\n",
              "    </tr>\n",
              "    <tr>\n",
              "      <th>1614</th>\n",
              "      <td>\\n\\nWrite a function `allocate_budget` that ta...</td>\n",
              "      <td>\\n\\n```python\\ndef allocate_budget(requests, b...</td>\n",
              "      <td>Python</td>\n",
              "      <td>McEval-Instruct</td>\n",
              "      <td>[\"Code Structure and Modularity\", \"Input and O...</td>\n",
              "      <td>{\\n    \"Analysis on Characteristics\": \"The tas...</td>\n",
              "      <td>[The function should be modular, with a clear ...</td>\n",
              "      <td>```python\\ndef allocate_budget(requests, budge...</td>\n",
              "      <td>```python\\ndef allocate_budget(requests, budge...</td>\n",
              "    </tr>\n",
              "  </tbody>\n",
              "</table>\n",
              "</div>"
            ],
            "text/plain": [
              "                                            instruction  \\\n",
              "1610  \\n\\nIn the context of a medical imaging analys...   \n",
              "1611  \\n\\nDesign a Python class that provides an Obj...   \n",
              "1612  \\n\\nCreate a Python function named `display_sp...   \n",
              "1613  \\nDesign a search API for a municipal signals ...   \n",
              "1614  \\n\\nWrite a function `allocate_budget` that ta...   \n",
              "\n",
              "                                                   code language  \\\n",
              "1610  \\n\\n```python\\nimport itertools\\nimport torch\\...   Python   \n",
              "1611  \\n\\n```python\\nimport sqlite3\\nimport pandas a...   Python   \n",
              "1612  \\n\\n```python\\nimport ephyviewer\\nfrom ephyvie...   Python   \n",
              "1613  \\n```python\\n# SPDX-License-Identifier: MPL-2....   Python   \n",
              "1614  \\n\\n```python\\ndef allocate_budget(requests, b...   Python   \n",
              "\n",
              "               source                                relevant_categories  \\\n",
              "1610  McEval-Instruct  [\"Code Structure and Modularity\", \"Input and O...   \n",
              "1611  McEval-Instruct  [\"Code Structure and Modularity\", \"Library and...   \n",
              "1612  McEval-Instruct  [\"UI and Interaction\", \"Library and API Usage\"...   \n",
              "1613  McEval-Instruct  [\"Code Structure and Modularity\", \"Input and O...   \n",
              "1614  McEval-Instruct  [\"Code Structure and Modularity\", \"Input and O...   \n",
              "\n",
              "                                            constraints  \\\n",
              "1610  ```json\\n{\\n    \"Analysis on Characteristics\":...   \n",
              "1611  {\\n    \"Analysis on Characteristics\": \"The tas...   \n",
              "1612  ```json\\n{\\n    \"Analysis on Characteristics\":...   \n",
              "1613  ```json\\n{\\n    \"Analysis on Characteristics\":...   \n",
              "1614  {\\n    \"Analysis on Characteristics\": \"The tas...   \n",
              "\n",
              "                                    extract_constraints  \\\n",
              "1610  [The function must take an Options object as i...   \n",
              "1611  [Ensure that all SQL queries are parameterized...   \n",
              "1612  [Ensure that the function `display_spike_train...   \n",
              "1613  [The API should be designed with modularity in...   \n",
              "1614  [The function should be modular, with a clear ...   \n",
              "\n",
              "                                         generated_code  \\\n",
              "1610  ```python\\nimport torch\\nimport torch.nn as nn...   \n",
              "1611  ```python\\nimport sqlite3\\nimport pandas as pd...   \n",
              "1612  ```python\\nimport logging\\nfrom ephyviewer imp...   \n",
              "1613  ```python\\nfrom flask import Flask, request, j...   \n",
              "1614  ```python\\ndef allocate_budget(requests, budge...   \n",
              "\n",
              "                     generated_code_without_constraints  \n",
              "1610  ```python\\nimport torch\\nimport torch.nn as nn...  \n",
              "1611  ```python\\nimport sqlite3\\nimport pandas as pd...  \n",
              "1612  ```python\\nimport logging\\nfrom ephyviewer imp...  \n",
              "1613  ```python\\nfrom flask import Flask, request, j...  \n",
              "1614  ```python\\ndef allocate_budget(requests, budge...  "
            ]
          },
          "execution_count": 50,
          "metadata": {},
          "output_type": "execute_result"
        }
      ],
      "source": [
        "test_mceval.head()"
      ]
    },
    {
      "cell_type": "code",
      "execution_count": 42,
      "metadata": {},
      "outputs": [],
      "source": [
        "test_mceval.to_csv(\"../../data/processed/Mceval_generated_code.csv\",index=False)"
      ]
    },
    {
      "cell_type": "code",
      "execution_count": 43,
      "metadata": {},
      "outputs": [
        {
          "name": "stdout",
          "output_type": "stream",
          "text": [
            "\n",
            "\n",
            "In the c\n"
          ]
        }
      ],
      "source": [
        "def generate_code_without_constraints(row,input_col1=\"instruction\"):\n",
        "    print(row[input_col1][:10])\n",
        "    prompt = f\"\"\"You are a skilled Python programmer. Based on the following natural language instruction, generate Python code that satisfies the instruction.\n",
        "\n",
        "    ### Instruction:\n",
        "    {row[input_col1]}\n",
        "\n",
        "    ### Requirements:\n",
        "    - Ensure the code is clean, correct, and follows Python best practices.\n",
        "    - Do not include any explanatory text; return only the code block.\n",
        "\n",
        "    ### Output Format:\n",
        "    Return a single Python code block that solves the task.\n",
        "\n",
        " \n",
        "    # Your code here\n",
        "\n",
        "\n",
        "    \"\"\"\n",
        "    code = get_response(prompt)\n",
        "    \n",
        "    return code\n",
        "\n",
        "code1= generate_code_without_constraints(test_mceval.iloc[0])"
      ]
    },
    {
      "cell_type": "code",
      "execution_count": 44,
      "metadata": {},
      "outputs": [
        {
          "name": "stdout",
          "output_type": "stream",
          "text": [
            "```python\n",
            "import torch\n",
            "import torch.nn as nn\n",
            "import torch.optim as optim\n",
            "\n",
            "def initialize_cyclegan_components(options):\n",
            "    device = torch.device(\"cuda\" if torch.cuda.is_available() else \"cpu\")\n",
            "    \n",
            "    # Initialize Generators\n",
            "    G_AB = Generator(options).to(device)\n",
            "    G_BA = Generator(options).to(device)\n",
            "    \n",
            "    # Initialize Discriminators\n",
            "    D_A = Discriminator(options).to(device)\n",
            "    D_B = Discriminator(options).to(device)\n",
            "    \n",
            "    # Initialize Graph Neural Network\n",
            "    model_gnn = GraphNN(options).to(device)\n",
            "    \n",
            "    # Initialize Loss Functions\n",
            "    criterionIdt = nn.L1Loss().to(device)\n",
            "    criterionCycle = nn.L1Loss().to(device)\n",
            "    criterionGEN = nn.BCELoss().to(device)\n",
            "    \n",
            "    # Initialize Optimizers\n",
            "    optimizer_G = optim.Adam(itertools.chain(G_AB.parameters(), G_BA.parameters()), lr=options.lr, betas=(options.beta1, 0.999))\n",
            "    optimizer_D = optim.Adam(itertools.chain(D_A.parameters(), D_B.parameters()), lr=options.lr, betas=(options.beta1, 0.999))\n",
            "    optimizer_M = optim.Adam(model_gnn.parameters(), lr=options.lr, betas=(options.beta1, 0.999))\n",
            "    \n",
            "    return {\n",
            "        'G_AB': G_AB,\n",
            "        'G_BA': G_BA,\n",
            "        'D_A': D_A,\n",
            "        'D_B': D_B,\n",
            "        'model_gnn': model_gnn,\n",
            "        'criterionIdt': criterionIdt,\n",
            "        'criterionCycle': criterionCycle,\n",
            "        'criterionGEN': criterionGEN,\n",
            "        'optimizer_G': optimizer_G,\n",
            "        'optimizer_D': optimizer_D,\n",
            "        'optimizer_M': optimizer_M\n",
            "    }\n",
            "```\n"
          ]
        }
      ],
      "source": [
        "print(code1)"
      ]
    },
    {
      "cell_type": "code",
      "execution_count": 45,
      "metadata": {},
      "outputs": [
        {
          "name": "stdout",
          "output_type": "stream",
          "text": [
            "\n",
            "\n",
            "In the c\n",
            "```python\n",
            "import torch\n",
            "import torch.nn as nn\n",
            "import torch.optim as optim\n",
            "\n",
            "class Options:\n",
            "    def __init__(self, lr_G, lr_D, lr_M, beta1, beta2):\n",
            "        self.lr_G = lr_G\n",
            "        self.lr_D = lr_D\n",
            "        self.lr_M = lr_M\n",
            "        self.beta1 = beta1\n",
            "        self.beta2 = beta2\n",
            "\n",
            "class Generator(nn.Module):\n",
            "    def __init__(self):\n",
            "        super(Generator, self).__init__()\n",
            "        # Define generator architecture here\n",
            "\n",
            "    def forward(self, x):\n",
            "        # Define forward pass\n",
            "        return x\n",
            "\n",
            "class Discriminator(nn.Module):\n",
            "    def __init__(self):\n",
            "        super(Discriminator, self).__init__()\n",
            "        # Define discriminator architecture here\n",
            "\n",
            "    def forward(self, x):\n",
            "        # Define forward pass\n",
            "        return x\n",
            "\n",
            "def initialize_cyclegan_components(options):\n",
            "    components = {}\n",
            "    try:\n",
            "        # Initialize generators\n",
            "        G_AB = Generator()\n",
            "        G_BA = Generator()\n",
            "        \n",
            "        # Initialize discriminators\n",
            "        D_A = Discriminator()\n",
            "        D_B = Discriminator()\n",
            "        \n",
            "        # Initialize Graph Neural Network for feature extraction\n",
            "        model_gnn = nn.Module()  # Replace with actual GNN initialization\n",
            "        \n",
            "        # Initialize loss functions\n",
            "        criterionIdt = nn.L1Loss()\n",
            "        criterionCycle = nn.L1Loss()\n",
            "        criterionGEN = nn.BCELoss()\n",
            "        \n",
            "        # Initialize optimizers\n",
            "        optimizer_G = optim.Adam(list(G_AB.parameters()) + list(G_BA.parameters()), \n",
            "                                  lr=options.lr_G, betas=(options.beta1, options.beta2))\n",
            "        optimizer_D = optim.Adam(list(D_A.parameters()) + list(D_B.parameters()), \n",
            "                                  lr=options.lr_D, betas=(options.beta1, options.beta2))\n",
            "        optimizer_M = optim.Adam(model_gnn.parameters(), \n",
            "                                  lr=options.lr_M, betas=(options.beta1, options.beta2))\n",
            "        \n",
            "        # Check for CUDA availability and move components\n",
            "        device = torch.device(\"cuda\" if torch.cuda.is_available() else \"cpu\")\n",
            "        G_AB.to(device)\n",
            "        G_BA.to(device)\n",
            "        D_A.to(device)\n",
            "        D_B.to(device)\n",
            "        model_gnn.to(device)\n",
            "        criterionIdt.to(device)\n",
            "        criterionCycle.to(device)\n",
            "        criterionGEN.to(device)\n",
            "\n",
            "        # Store components in the dictionary\n",
            "        components['G_AB'] = G_AB\n",
            "        components['G_BA'] = G_BA\n",
            "        components['D_A'] = D_A\n",
            "        components['D_B'] = D_B\n",
            "        components['model_gnn'] = model_gnn\n",
            "        components['criterionIdt'] = criterionIdt\n",
            "        components['criterionCycle'] = criterionCycle\n",
            "        components['criterionGEN'] = criterionGEN\n",
            "        components['optimizer_G'] = optimizer_G\n",
            "        components['optimizer_D'] = optimizer_D\n",
            "        components['optimizer_M'] = optimizer_M\n",
            "\n",
            "    except Exception as e:\n",
            "        print(f\"Error during initialization: {e}\")\n",
            "    \n",
            "    return components\n",
            "```\n"
          ]
        }
      ],
      "source": [
        "code2 = generate_code(test_mceval.iloc[0])\n",
        "print(code2)"
      ]
    },
    {
      "cell_type": "code",
      "execution_count": 46,
      "metadata": {},
      "outputs": [
        {
          "data": {
            "text/markdown": [
              "```python\n",
              "import torch\n",
              "import torch.nn as nn\n",
              "import torch.optim as optim\n",
              "\n",
              "def initialize_cyclegan_components(options):\n",
              "    device = torch.device(\"cuda\" if torch.cuda.is_available() else \"cpu\")\n",
              "    \n",
              "    # Initialize Generators\n",
              "    G_AB = Generator(options).to(device)\n",
              "    G_BA = Generator(options).to(device)\n",
              "    \n",
              "    # Initialize Discriminators\n",
              "    D_A = Discriminator(options).to(device)\n",
              "    D_B = Discriminator(options).to(device)\n",
              "    \n",
              "    # Initialize Graph Neural Network\n",
              "    model_gnn = GraphNN(options).to(device)\n",
              "    \n",
              "    # Initialize Loss Functions\n",
              "    criterionIdt = nn.L1Loss().to(device)\n",
              "    criterionCycle = nn.L1Loss().to(device)\n",
              "    criterionGEN = nn.BCELoss().to(device)\n",
              "    \n",
              "    # Initialize Optimizers\n",
              "    optimizer_G = optim.Adam(itertools.chain(G_AB.parameters(), G_BA.parameters()), lr=options.lr, betas=(options.beta1, 0.999))\n",
              "    optimizer_D = optim.Adam(itertools.chain(D_A.parameters(), D_B.parameters()), lr=options.lr, betas=(options.beta1, 0.999))\n",
              "    optimizer_M = optim.Adam(model_gnn.parameters(), lr=options.lr, betas=(options.beta1, 0.999))\n",
              "    \n",
              "    return {\n",
              "        'G_AB': G_AB,\n",
              "        'G_BA': G_BA,\n",
              "        'D_A': D_A,\n",
              "        'D_B': D_B,\n",
              "        'model_gnn': model_gnn,\n",
              "        'criterionIdt': criterionIdt,\n",
              "        'criterionCycle': criterionCycle,\n",
              "        'criterionGEN': criterionGEN,\n",
              "        'optimizer_G': optimizer_G,\n",
              "        'optimizer_D': optimizer_D,\n",
              "        'optimizer_M': optimizer_M\n",
              "    }\n",
              "```"
            ],
            "text/plain": [
              "<IPython.core.display.Markdown object>"
            ]
          },
          "metadata": {},
          "output_type": "display_data"
        }
      ],
      "source": [
        "from IPython.display import Markdown, display\n",
        "def md(text):\n",
        "    display(Markdown(text))\n",
        "md(code1)\n"
      ]
    },
    {
      "cell_type": "code",
      "execution_count": 47,
      "metadata": {},
      "outputs": [
        {
          "data": {
            "text/markdown": [
              "```python\n",
              "import torch\n",
              "import torch.nn as nn\n",
              "import torch.optim as optim\n",
              "\n",
              "class Options:\n",
              "    def __init__(self, lr_G, lr_D, lr_M, beta1, beta2):\n",
              "        self.lr_G = lr_G\n",
              "        self.lr_D = lr_D\n",
              "        self.lr_M = lr_M\n",
              "        self.beta1 = beta1\n",
              "        self.beta2 = beta2\n",
              "\n",
              "class Generator(nn.Module):\n",
              "    def __init__(self):\n",
              "        super(Generator, self).__init__()\n",
              "        # Define generator architecture here\n",
              "\n",
              "    def forward(self, x):\n",
              "        # Define forward pass\n",
              "        return x\n",
              "\n",
              "class Discriminator(nn.Module):\n",
              "    def __init__(self):\n",
              "        super(Discriminator, self).__init__()\n",
              "        # Define discriminator architecture here\n",
              "\n",
              "    def forward(self, x):\n",
              "        # Define forward pass\n",
              "        return x\n",
              "\n",
              "def initialize_cyclegan_components(options):\n",
              "    components = {}\n",
              "    try:\n",
              "        # Initialize generators\n",
              "        G_AB = Generator()\n",
              "        G_BA = Generator()\n",
              "        \n",
              "        # Initialize discriminators\n",
              "        D_A = Discriminator()\n",
              "        D_B = Discriminator()\n",
              "        \n",
              "        # Initialize Graph Neural Network for feature extraction\n",
              "        model_gnn = nn.Module()  # Replace with actual GNN initialization\n",
              "        \n",
              "        # Initialize loss functions\n",
              "        criterionIdt = nn.L1Loss()\n",
              "        criterionCycle = nn.L1Loss()\n",
              "        criterionGEN = nn.BCELoss()\n",
              "        \n",
              "        # Initialize optimizers\n",
              "        optimizer_G = optim.Adam(list(G_AB.parameters()) + list(G_BA.parameters()), \n",
              "                                  lr=options.lr_G, betas=(options.beta1, options.beta2))\n",
              "        optimizer_D = optim.Adam(list(D_A.parameters()) + list(D_B.parameters()), \n",
              "                                  lr=options.lr_D, betas=(options.beta1, options.beta2))\n",
              "        optimizer_M = optim.Adam(model_gnn.parameters(), \n",
              "                                  lr=options.lr_M, betas=(options.beta1, options.beta2))\n",
              "        \n",
              "        # Check for CUDA availability and move components\n",
              "        device = torch.device(\"cuda\" if torch.cuda.is_available() else \"cpu\")\n",
              "        G_AB.to(device)\n",
              "        G_BA.to(device)\n",
              "        D_A.to(device)\n",
              "        D_B.to(device)\n",
              "        model_gnn.to(device)\n",
              "        criterionIdt.to(device)\n",
              "        criterionCycle.to(device)\n",
              "        criterionGEN.to(device)\n",
              "\n",
              "        # Store components in the dictionary\n",
              "        components['G_AB'] = G_AB\n",
              "        components['G_BA'] = G_BA\n",
              "        components['D_A'] = D_A\n",
              "        components['D_B'] = D_B\n",
              "        components['model_gnn'] = model_gnn\n",
              "        components['criterionIdt'] = criterionIdt\n",
              "        components['criterionCycle'] = criterionCycle\n",
              "        components['criterionGEN'] = criterionGEN\n",
              "        components['optimizer_G'] = optimizer_G\n",
              "        components['optimizer_D'] = optimizer_D\n",
              "        components['optimizer_M'] = optimizer_M\n",
              "\n",
              "    except Exception as e:\n",
              "        print(f\"Error during initialization: {e}\")\n",
              "    \n",
              "    return components\n",
              "```"
            ],
            "text/plain": [
              "<IPython.core.display.Markdown object>"
            ]
          },
          "metadata": {},
          "output_type": "display_data"
        }
      ],
      "source": [
        "md(code2)"
      ]
    },
    {
      "cell_type": "code",
      "execution_count": 48,
      "metadata": {},
      "outputs": [
        {
          "name": "stderr",
          "output_type": "stream",
          "text": [
            "  0%|          | 0/20 [00:00<?, ?it/s]"
          ]
        },
        {
          "name": "stdout",
          "output_type": "stream",
          "text": [
            "\n",
            "\n",
            "In the c\n"
          ]
        },
        {
          "name": "stderr",
          "output_type": "stream",
          "text": [
            " 10%|█         | 2/20 [00:09<01:25,  4.78s/it]"
          ]
        },
        {
          "name": "stdout",
          "output_type": "stream",
          "text": [
            "\n",
            "\n",
            "Design a\n"
          ]
        },
        {
          "name": "stderr",
          "output_type": "stream",
          "text": [
            " 15%|█▌        | 3/20 [00:26<02:47,  9.88s/it]"
          ]
        },
        {
          "name": "stdout",
          "output_type": "stream",
          "text": [
            "\n",
            "\n",
            "Create a\n"
          ]
        },
        {
          "name": "stderr",
          "output_type": "stream",
          "text": [
            " 20%|██        | 4/20 [00:36<02:39,  9.99s/it]"
          ]
        },
        {
          "name": "stdout",
          "output_type": "stream",
          "text": [
            "\n",
            "Design a \n"
          ]
        },
        {
          "name": "stderr",
          "output_type": "stream",
          "text": [
            " 25%|██▌       | 5/20 [00:49<02:44, 10.95s/it]"
          ]
        },
        {
          "name": "stdout",
          "output_type": "stream",
          "text": [
            "\n",
            "\n",
            "Write a \n"
          ]
        },
        {
          "name": "stderr",
          "output_type": "stream",
          "text": [
            " 30%|███       | 6/20 [00:58<02:26, 10.43s/it]"
          ]
        },
        {
          "name": "stdout",
          "output_type": "stream",
          "text": [
            "\n",
            "\n",
            "Write a \n"
          ]
        },
        {
          "name": "stderr",
          "output_type": "stream",
          "text": [
            " 35%|███▌      | 7/20 [01:13<02:31, 11.64s/it]"
          ]
        },
        {
          "name": "stdout",
          "output_type": "stream",
          "text": [
            "\n",
            "\n",
            "Write a \n"
          ]
        },
        {
          "name": "stderr",
          "output_type": "stream",
          "text": [
            " 40%|████      | 8/20 [01:24<02:17, 11.49s/it]"
          ]
        },
        {
          "name": "stdout",
          "output_type": "stream",
          "text": [
            "\n",
            "\n",
            "Design a\n"
          ]
        },
        {
          "name": "stderr",
          "output_type": "stream",
          "text": [
            " 45%|████▌     | 9/20 [01:37<02:13, 12.15s/it]"
          ]
        },
        {
          "name": "stdout",
          "output_type": "stream",
          "text": [
            "\n",
            "\n",
            "Create a\n"
          ]
        },
        {
          "name": "stderr",
          "output_type": "stream",
          "text": [
            " 50%|█████     | 10/20 [01:54<02:15, 13.57s/it]"
          ]
        },
        {
          "name": "stdout",
          "output_type": "stream",
          "text": [
            "\n",
            "Write a P\n"
          ]
        },
        {
          "name": "stderr",
          "output_type": "stream",
          "text": [
            " 55%|█████▌    | 11/20 [02:02<01:46, 11.78s/it]"
          ]
        },
        {
          "name": "stdout",
          "output_type": "stream",
          "text": [
            "\n",
            "\n",
            "Implemen\n"
          ]
        },
        {
          "name": "stderr",
          "output_type": "stream",
          "text": [
            " 60%|██████    | 12/20 [02:21<01:52, 14.07s/it]"
          ]
        },
        {
          "name": "stdout",
          "output_type": "stream",
          "text": [
            "\n",
            "\n",
            "Write a \n"
          ]
        },
        {
          "name": "stderr",
          "output_type": "stream",
          "text": [
            " 65%|██████▌   | 13/20 [02:31<01:30, 12.92s/it]"
          ]
        },
        {
          "name": "stdout",
          "output_type": "stream",
          "text": [
            "\n",
            "\n",
            "Write a \n"
          ]
        },
        {
          "name": "stderr",
          "output_type": "stream",
          "text": [
            " 70%|███████   | 14/20 [02:41<01:12, 12.03s/it]"
          ]
        },
        {
          "name": "stdout",
          "output_type": "stream",
          "text": [
            "\n",
            "\n",
            "You are \n"
          ]
        },
        {
          "name": "stderr",
          "output_type": "stream",
          "text": [
            " 75%|███████▌  | 15/20 [03:01<01:10, 14.19s/it]"
          ]
        },
        {
          "name": "stdout",
          "output_type": "stream",
          "text": [
            "\n",
            "Design a \n"
          ]
        },
        {
          "name": "stderr",
          "output_type": "stream",
          "text": [
            " 80%|████████  | 16/20 [03:16<00:58, 14.52s/it]"
          ]
        },
        {
          "name": "stdout",
          "output_type": "stream",
          "text": [
            "\n",
            "\n",
            "Create a\n"
          ]
        },
        {
          "name": "stderr",
          "output_type": "stream",
          "text": [
            " 85%|████████▌ | 17/20 [03:26<00:39, 13.27s/it]"
          ]
        },
        {
          "name": "stdout",
          "output_type": "stream",
          "text": [
            "\n",
            "\n",
            "Given a \n"
          ]
        },
        {
          "name": "stderr",
          "output_type": "stream",
          "text": [
            " 90%|█████████ | 18/20 [03:38<00:25, 12.83s/it]"
          ]
        },
        {
          "name": "stdout",
          "output_type": "stream",
          "text": [
            "\n",
            "\n",
            "Design a\n"
          ]
        },
        {
          "name": "stderr",
          "output_type": "stream",
          "text": [
            " 95%|█████████▌| 19/20 [03:57<00:14, 14.58s/it]"
          ]
        },
        {
          "name": "stdout",
          "output_type": "stream",
          "text": [
            "\n",
            "\n",
            "Design a\n"
          ]
        },
        {
          "name": "stderr",
          "output_type": "stream",
          "text": [
            "100%|██████████| 20/20 [04:13<00:00, 15.20s/it]"
          ]
        },
        {
          "name": "stdout",
          "output_type": "stream",
          "text": [
            "\n",
            "\n",
            "Write a \n"
          ]
        },
        {
          "name": "stderr",
          "output_type": "stream",
          "text": [
            "100%|██████████| 20/20 [04:26<00:00, 13.33s/it]\n"
          ]
        }
      ],
      "source": [
        "from tqdm import tqdm\n",
        "import pandas as pd\n",
        "\n",
        "# Enable tqdm for pandas apply\n",
        "tqdm.pandas()\n",
        "test_mceval[\"generated_code_without_constraints\"] = test_mceval.progress_apply(generate_code, axis=1)"
      ]
    },
    {
      "cell_type": "markdown",
      "metadata": {},
      "source": [
        "# Step 9 - Evaluate Generated Code and Calculate Metrics"
      ]
    },
    {
      "cell_type": "code",
      "execution_count": 52,
      "metadata": {},
      "outputs": [
        {
          "name": "stdout",
          "output_type": "stream",
          "text": [
            "--- code1\n",
            "+++ code2\n",
            "@@ -3,41 +3,85 @@\n",
            " import torch.nn as nn\n",
            " import torch.optim as optim\n",
            " \n",
            "+class Options:\n",
            "+    def __init__(self, lr_G, lr_D, lr_M, beta1, beta2):\n",
            "+        self.lr_G = lr_G\n",
            "+        self.lr_D = lr_D\n",
            "+        self.lr_M = lr_M\n",
            "+        self.beta1 = beta1\n",
            "+        self.beta2 = beta2\n",
            "+\n",
            "+class Generator(nn.Module):\n",
            "+    def __init__(self):\n",
            "+        super(Generator, self).__init__()\n",
            "+        # Define generator architecture here\n",
            "+\n",
            "+    def forward(self, x):\n",
            "+        # Define forward pass\n",
            "+        return x\n",
            "+\n",
            "+class Discriminator(nn.Module):\n",
            "+    def __init__(self):\n",
            "+        super(Discriminator, self).__init__()\n",
            "+        # Define discriminator architecture here\n",
            "+\n",
            "+    def forward(self, x):\n",
            "+        # Define forward pass\n",
            "+        return x\n",
            "+\n",
            " def initialize_cyclegan_components(options):\n",
            "-    device = torch.device(\"cuda\" if torch.cuda.is_available() else \"cpu\")\n",
            "+    components = {}\n",
            "+    try:\n",
            "+        # Initialize generators\n",
            "+        G_AB = Generator()\n",
            "+        G_BA = Generator()\n",
            "+        \n",
            "+        # Initialize discriminators\n",
            "+        D_A = Discriminator()\n",
            "+        D_B = Discriminator()\n",
            "+        \n",
            "+        # Initialize Graph Neural Network for feature extraction\n",
            "+        model_gnn = nn.Module()  # Replace with actual GNN initialization\n",
            "+        \n",
            "+        # Initialize loss functions\n",
            "+        criterionIdt = nn.L1Loss()\n",
            "+        criterionCycle = nn.L1Loss()\n",
            "+        criterionGEN = nn.BCELoss()\n",
            "+        \n",
            "+        # Initialize optimizers\n",
            "+        optimizer_G = optim.Adam(list(G_AB.parameters()) + list(G_BA.parameters()), \n",
            "+                                  lr=options.lr_G, betas=(options.beta1, options.beta2))\n",
            "+        optimizer_D = optim.Adam(list(D_A.parameters()) + list(D_B.parameters()), \n",
            "+                                  lr=options.lr_D, betas=(options.beta1, options.beta2))\n",
            "+        optimizer_M = optim.Adam(model_gnn.parameters(), \n",
            "+                                  lr=options.lr_M, betas=(options.beta1, options.beta2))\n",
            "+        \n",
            "+        # Check for CUDA availability and move components\n",
            "+        device = torch.device(\"cuda\" if torch.cuda.is_available() else \"cpu\")\n",
            "+        G_AB.to(device)\n",
            "+        G_BA.to(device)\n",
            "+        D_A.to(device)\n",
            "+        D_B.to(device)\n",
            "+        model_gnn.to(device)\n",
            "+        criterionIdt.to(device)\n",
            "+        criterionCycle.to(device)\n",
            "+        criterionGEN.to(device)\n",
            "+\n",
            "+        # Store components in the dictionary\n",
            "+        components['G_AB'] = G_AB\n",
            "+        components['G_BA'] = G_BA\n",
            "+        components['D_A'] = D_A\n",
            "+        components['D_B'] = D_B\n",
            "+        components['model_gnn'] = model_gnn\n",
            "+        components['criterionIdt'] = criterionIdt\n",
            "+        components['criterionCycle'] = criterionCycle\n",
            "+        components['criterionGEN'] = criterionGEN\n",
            "+        components['optimizer_G'] = optimizer_G\n",
            "+        components['optimizer_D'] = optimizer_D\n",
            "+        components['optimizer_M'] = optimizer_M\n",
            "+\n",
            "+    except Exception as e:\n",
            "+        print(f\"Error during initialization: {e}\")\n",
            "     \n",
            "-    # Initialize Generators\n",
            "-    G_AB = Generator(options).to(device)\n",
            "-    G_BA = Generator(options).to(device)\n",
            "-    \n",
            "-    # Initialize Discriminators\n",
            "-    D_A = Discriminator(options).to(device)\n",
            "-    D_B = Discriminator(options).to(device)\n",
            "-    \n",
            "-    # Initialize Graph Neural Network\n",
            "-    model_gnn = GraphNN(options).to(device)\n",
            "-    \n",
            "-    # Initialize Loss Functions\n",
            "-    criterionIdt = nn.L1Loss().to(device)\n",
            "-    criterionCycle = nn.L1Loss().to(device)\n",
            "-    criterionGEN = nn.BCELoss().to(device)\n",
            "-    \n",
            "-    # Initialize Optimizers\n",
            "-    optimizer_G = optim.Adam(itertools.chain(G_AB.parameters(), G_BA.parameters()), lr=options.lr, betas=(options.beta1, 0.999))\n",
            "-    optimizer_D = optim.Adam(itertools.chain(D_A.parameters(), D_B.parameters()), lr=options.lr, betas=(options.beta1, 0.999))\n",
            "-    optimizer_M = optim.Adam(model_gnn.parameters(), lr=options.lr, betas=(options.beta1, 0.999))\n",
            "-    \n",
            "-    return {\n",
            "-        'G_AB': G_AB,\n",
            "-        'G_BA': G_BA,\n",
            "-        'D_A': D_A,\n",
            "-        'D_B': D_B,\n",
            "-        'model_gnn': model_gnn,\n",
            "-        'criterionIdt': criterionIdt,\n",
            "-        'criterionCycle': criterionCycle,\n",
            "-        'criterionGEN': criterionGEN,\n",
            "-        'optimizer_G': optimizer_G,\n",
            "-        'optimizer_D': optimizer_D,\n",
            "-        'optimizer_M': optimizer_M\n",
            "-    }\n",
            "+    return components\n",
            " ```\n"
          ]
        }
      ],
      "source": [
        "import difflib\n",
        "\n",
        "code1_lines = code1.strip().splitlines()\n",
        "code2_lines = code2.strip().splitlines()\n",
        "\n",
        "# Get the diff\n",
        "diff = difflib.unified_diff(code1_lines, code2_lines, fromfile='code1', tofile='code2', lineterm='')\n",
        "\n",
        "# Print the diff\n",
        "print(\"\\n\".join(diff))\n"
      ]
    },
    {
      "cell_type": "markdown",
      "metadata": {},
      "source": [
        "## Final Prompt generation\n"
      ]
    },
    {
      "cell_type": "code",
      "execution_count": 57,
      "metadata": {},
      "outputs": [],
      "source": [
        "## Prompt for Instruction Generation along with Constraints\n",
        "def combine_instruction_and_constraints_embedded_style(instruction: str, constraints: list[str]) -> str:\n",
        "    \"\"\"\n",
        "    Combines a natural language instruction and a list of constraints into a single, unified string\n",
        "    where constraints are presented as implicit requirements or clauses following the main instruction,\n",
        "    without a dedicated 'Implementation Constraints' heading.\n",
        "\n",
        "    Args:\n",
        "        instruction (str): The original programming instruction.\n",
        "        constraints (list[str]): A list of specific, objective, and atomic constraints.\n",
        "\n",
        "    Returns:\n",
        "        str: A single string containing the instruction with constraints \"embedded\" as additional requirements.\n",
        "    \"\"\"\n",
        "    if not instruction:\n",
        "        raise ValueError(\"Instruction cannot be empty.\")\n",
        "    if not isinstance(constraints, list):\n",
        "        raise TypeError(\"Constraints must be a list of strings.\")\n",
        "\n",
        "    # Start with the main instruction, making it clear it's the primary task\n",
        "    combined_text = f\"Your main task is to {instruction.strip()}\"\n",
        "\n",
        "    # If there are constraints, append them as additional requirements\n",
        "    if constraints:\n",
        "        # Use a linking phrase to transition to the constraints\n",
        "        combined_text += \"\\n\\nWhen developing the solution, it is crucial to also fulfill the following requirements:\\n\"\n",
        "\n",
        "        # Format each constraint clearly, without an explicit heading like \"Constraints:\"\n",
        "        # Capitalize the first letter and add a period for sentence structure if needed.\n",
        "        formatted_constraints_lines = []\n",
        "        for constraint in constraints:\n",
        "            line = constraint.strip()\n",
        "            # Ensure proper sentence casing for flow\n",
        "            if line: # Avoid empty lines\n",
        "                if not line.endswith('.'):\n",
        "                    line += '.'\n",
        "                formatted_constraints_lines.append(line[0].upper() + line[1:])\n",
        "\n",
        "        combined_text += \"\\n\".join(formatted_constraints_lines)\n",
        "\n",
        "    return combined_text.strip()\n",
        "\n",
        "# Example Usage:\n",
        "# instruction_example = \"Write a Python function to calculate the factorial of a given non-negative integer.\"\n",
        "# constraints_example = [\n",
        "#     \"the function must be named 'calculate_factorial'\",\n",
        "#     \"it must use recursion for the calculation\",\n",
        "#     \"handle input that is not a non-negative integer by raising a ValueError\",\n",
        "#     \"include a docstring explaining the function's purpose, parameters, and return value\"\n",
        "# ]\n",
        "\n",
        "# unified_input_prompt_embedded_style = combine_instruction_and_constraints_embedded_style(instruction_example, constraints_example)\n",
        "# print(unified_input_prompt_embedded_style)"
      ]
    },
    {
      "cell_type": "code",
      "execution_count": 55,
      "metadata": {},
      "outputs": [
        {
          "name": "stdout",
          "output_type": "stream",
          "text": [
            "<class 'pandas.core.frame.DataFrame'>\n",
            "RangeIndex: 10 entries, 0 to 9\n",
            "Data columns (total 11 columns):\n",
            " #   Column                 Non-Null Count  Dtype  \n",
            "---  ------                 --------------  -----  \n",
            " 0   dataset                10 non-null     object \n",
            " 1   instruction            10 non-null     object \n",
            " 2   code                   10 non-null     object \n",
            " 3   relevant_categories    10 non-null     object \n",
            " 4   constraints_m1         10 non-null     object \n",
            " 5   extracted_constraints  10 non-null     object \n",
            " 6   quality_scores         10 non-null     object \n",
            " 7   specificity_score      10 non-null     float64\n",
            " 8   objectivity_score      10 non-null     float64\n",
            " 9   atomicity_score        10 non-null     float64\n",
            " 10  unified_quality_score  10 non-null     float64\n",
            "dtypes: float64(4), object(7)\n",
            "memory usage: 1012.0+ bytes\n"
          ]
        }
      ],
      "source": [
        "import pandas as pd\n",
        "df = pd.read_csv(\"step5_with_quality_scores_m1.csv\")\n",
        "df.info()"
      ]
    },
    {
      "cell_type": "code",
      "execution_count": 59,
      "metadata": {},
      "outputs": [
        {
          "data": {
            "text/plain": [
              "'[{\\'type\\': \\'Code Structure and Modularity\\', \\'constraint\\': \"The function must be named \\'generate_sine_cosine_diagrams\\' and should not contain any hardcoded values outside of the function definition.\", \\'instruction_part\\': \\'Generate diagrams for the sine and cosine functions over the interval [0, 2π].\\'}, {\\'type\\': \\'Input and Output Handling\\', \\'constraint\\': \"The function must accept parameters for the start and end of the interval (e.g., \\'start\\' and \\'end\\') and the number of points to plot (e.g., \\'num_points\\').\", \\'instruction_part\\': \\'Generate diagrams for the sine and cosine functions over the interval [0, 2π].\\'}, {\\'type\\': \\'Input and Output Handling\\', \\'constraint\\': \\'The function must return a tuple containing a Matplotlib Figure object and an ndarray of Matplotlib Axes objects, as specified in the instruction.\\', \\'instruction_part\\': \\'The function should output with: Figure: A Matplotlib Figure object containing the plots.\\'}, {\\'type\\': \\'Documentation and Readability\\', \\'constraint\\': \\'Include a docstring at the beginning of the function that describes its purpose, parameters, and return values in a clear and concise manner.\\', \\'instruction_part\\': \\'The function should output with: Figure: A Matplotlib Figure object containing the plots.\\'}, {\\'type\\': \\'Documentation and Readability\\', \\'constraint\\': \\'All variables used in the function must have descriptive names that clearly indicate their purpose.\\', \\'instruction_part\\': \"The sine function plot is labeled \\'Sine function\\', with x-axis labeled \\'x\\' and y-axis labeled \\'sin(x)\\'.\"}, {\\'type\\': \\'Mathematical Computation\\', \\'constraint\\': \"Ensure that the sine and cosine functions are computed using NumPy\\'s np.sin() and np.cos() methods, and verify that the input to these functions is a NumPy array.\", \\'instruction_part\\': \\'Generate diagrams for the sine and cosine functions over the interval [0, 2π].\\'}, {\\'type\\': \\'Code Structure and Modularity\\', \\'constraint\\': \\'The plotting code for the sine and cosine functions should be encapsulated in separate helper functions to promote modularity.\\', \\'instruction_part\\': \\'Generate diagrams for the sine and cosine functions over the interval [0, 2π].\\'}, {\\'type\\': \\'Documentation and Readability\\', \\'constraint\\': \\'Include inline comments explaining key steps in the code, such as the creation of the x_values array and the plotting process.\\', \\'instruction_part\\': \\'The function should output with: Figure: A Matplotlib Figure object containing the plots.\\'}]'"
            ]
          },
          "execution_count": 59,
          "metadata": {},
          "output_type": "execute_result"
        }
      ],
      "source": [
        "df.iloc[0][\"extracted_constraints\"]"
      ]
    },
    {
      "cell_type": "code",
      "execution_count": null,
      "metadata": {},
      "outputs": [
        {
          "name": "stdout",
          "output_type": "stream",
          "text": [
            "['[{\\'type\\': \\'Code Structure and Modularity\\', \\'constraint\\': \"The function must be named \\'generate_sine_cosine_diagrams\\' and should not contain any hardcoded values outside of the function definition.\", \\'instruction_part\\': \\'Generate diagrams for the sine and cosine functions over the interval [0, 2π].\\'}, {\\'type\\': \\'Input and Output Handling\\', \\'constraint\\': \"The function must accept parameters for the start and end of the interval (e.g., \\'start\\' and \\'end\\') and the number of points to plot (e.g., \\'num_points\\').\", \\'instruction_part\\': \\'Generate diagrams for the sine and cosine functions over the interval [0, 2π].\\'}, {\\'type\\': \\'Input and Output Handling\\', \\'constraint\\': \\'The function must return a tuple containing a Matplotlib Figure object and an ndarray of Matplotlib Axes objects, as specified in the instruction.\\', \\'instruction_part\\': \\'The function should output with: Figure: A Matplotlib Figure object containing the plots.\\'}, {\\'type\\': \\'Documentation and Readability\\', \\'constraint\\': \\'Include a docstring at the beginning of the function that describes its purpose, parameters, and return values in a clear and concise manner.\\', \\'instruction_part\\': \\'The function should output with: Figure: A Matplotlib Figure object containing the plots.\\'}, {\\'type\\': \\'Documentation and Readability\\', \\'constraint\\': \\'All variables used in the function must have descriptive names that clearly indicate their purpose.\\', \\'instruction_part\\': \"The sine function plot is labeled \\'Sine function\\', with x-axis labeled \\'x\\' and y-axis labeled \\'sin(x)\\'.\"}, {\\'type\\': \\'Mathematical Computation\\', \\'constraint\\': \"Ensure that the sine and cosine functions are computed using NumPy\\'s np.sin() and np.cos() methods, and verify that the input to these functions is a NumPy array.\", \\'instruction_part\\': \\'Generate diagrams for the sine and cosine functions over the interval [0, 2π].\\'}, {\\'type\\': \\'Code Structure and Modularity\\', \\'constraint\\': \\'The plotting code for the sine and cosine functions should be encapsulated in separate helper functions to promote modularity.\\', \\'instruction_part\\': \\'Generate diagrams for the sine and cosine functions over the interval [0, 2π].\\'}, {\\'type\\': \\'Documentation and Readability\\', \\'constraint\\': \\'Include inline comments explaining key steps in the code, such as the creation of the x_values array and the plotting process.\\', \\'instruction_part\\': \\'The function should output with: Figure: A Matplotlib Figure object containing the plots.\\'}]', '[{\\'type\\': \\'Input and Output Handling\\', \\'constraint\\': \"The function must validate the \\'length\\' input to ensure it is an integer greater than or equal to 8.\", \\'instruction_part\\': \\'Must have at least 8 characters.\\'}, {\\'type\\': \\'Input and Output Handling\\', \\'constraint\\': \"The function must validate the \\'complexity\\' input to ensure it is one of the following strings: \\'weak\\', \\'medium\\', or \\'strong\\'.\", \\'instruction_part\\': \\'Must be generated using a Python function that takes user input for the desired length and complexity level.\\'}, {\\'type\\': \\'Error Handling and Robustness\\', \\'constraint\\': \\'The function must handle exceptions that may arise from invalid user input (e.g., non-integer length, invalid complexity) and provide meaningful error messages.\\', \\'instruction_part\\': \\'Must be generated using a Python function that takes user input for the desired length and complexity level.\\'}, {\\'type\\': \\'Security and Privacy\\', \\'constraint\\': \"The password generation logic must ensure that the generated password does not include any easily guessable sequences such as \\'1234\\', \\'abc\\', or \\'qwerty\\' by using a comprehensive list of such sequences.\", \\'instruction_part\\': \\'Must not contain any sequence of characters that can be easily guessed or hacked.\\'}, {\\'type\\': \\'Documentation and Readability\\', \\'constraint\\': \"The code must include docstrings for the \\'generate_password\\' function, detailing the parameters, return value, and a brief description of the function\\'s purpose.\", \\'instruction_part\\': \\'Must be written in LaTex format and include a brief explanation of the algorithm used to generate the password.\\'}, {\\'type\\': \\'Code Structure and Modularity\\', \\'constraint\\': \\'The password generation logic must be encapsulated in a separate helper function that checks for the password criteria, improving modularity and readability.\\', \\'instruction_part\\': \\'Generate a random password that meets the following criteria.\\'}, {\\'type\\': \\'Input and Output Handling\\', \\'constraint\\': \\'The output must be formatted correctly in LaTeX, ensuring that the table is properly structured and escapes any special characters in the password.\\', \\'instruction_part\\': \\'Must be outputted in a table format that displays the password, its strength level, and the time taken to generate it.\\'}, {\\'type\\': \\'Error Handling and Robustness\\', \\'constraint\\': \\'The function must include a mechanism to retry generating a password if the initial generation fails to meet the criteria, ensuring robustness.\\', \\'instruction_part\\': \\'Must generate a password that meets all of the criteria listed above.\\'}]', '[{\\'type\\': \\'Code Structure and Modularity\\', \\'constraint\\': \\'Each function in the module must be defined at the top level and not nested within other functions.\\', \\'instruction_part\\': \\'Write a Python module named `motion_control` that provides utility functions for a stepper motor control system.\\'}, {\\'type\\': \\'Input and Output Handling\\', \\'constraint\\': \\'The `steps_to_mm` and `mm_to_steps` functions must explicitly handle invalid inputs by raising a ValueError with a descriptive message if the input is not a non-negative number.\\', \\'instruction_part\\': \\'The module should include the following functions: `steps_to_mm(steps)` and `mm_to_steps(mm)`.\\'}, {\\'type\\': \\'Documentation and Readability\\', \\'constraint\\': \"Each function must include a docstring that adheres to the Google style guide, detailing the function\\'s purpose, parameters, return values, and any exceptions raised.\", \\'instruction_part\\': \\'The module should include the following functions: `steps_to_mm(steps)`, `mm_to_steps(mm)`, `chunks(l, n)`, and `frequency_to_delay(frequency)`.\\'}, {\\'type\\': \\'Data Processing and Transformation\\', \\'constraint\\': \\'The `chunks` function must handle cases where the input list is empty by yielding no chunks, and it must not raise an error if `n` is greater than the length of the list.\\', \\'instruction_part\\': \\'The module should include the following functions: `chunks(l, n)`.\\'}, {\\'type\\': \\'Input and Output Handling\\', \\'constraint\\': \\'The `frequency_to_delay` function must validate that the frequency input is a positive number and raise a ValueError if it is not.\\', \\'instruction_part\\': \\'The module should include the following functions: `frequency_to_delay(frequency)`.\\'}, {\\'type\\': \\'Code Structure and Modularity\\', \\'constraint\\': \\'The `main` function must be structured to include a clear separation of test cases for each utility function, with comments indicating which function is being tested.\\', \\'instruction_part\\': \\'The module should also include a `main` function that demonstrates the use of each utility function with test cases.\\'}, {\\'type\\': \\'Documentation and Readability\\', \\'constraint\\': \\'The module must include a top-level docstring that describes the purpose of the module and lists the utility functions it provides.\\', \\'instruction_part\\': \\'Write a Python module named `motion_control` that provides utility functions for a stepper motor control system.\\'}]', '[{\\'type\\': \\'Code Structure and Modularity\\', \\'constraint\\': \"Ensure that the \\'remove\\' method in both \\'Cons\\' and \\'Empty\\' classes adheres to the interface defined in the \\'LinkedList\\' abstract class.\", \\'instruction_part\\': \\'Change the code so that it supports a remove element method called `remove`\\'}, {\\'type\\': \\'Data Processing and Transformation\\', \\'constraint\\': \"The \\'remove\\' method in the \\'Cons\\' class must correctly handle the case where the element to be removed is not present, returning the original list unchanged.\", \\'instruction_part\\': \\'Change the code so that it supports a remove element method called `remove`\\'}, {\\'type\\': \\'Data Processing and Transformation\\', \\'constraint\\': \"The \\'remove\\' method in the \\'Empty\\' class must return an instance of \\'Empty\\' when called, regardless of the input element.\", \\'instruction_part\\': \\'Change the code so that it supports a remove element method called `remove`\\'}, {\\'type\\': \\'Documentation and Readability\\', \\'constraint\\': \"Include a docstring for the \\'remove\\' method in both \\'Cons\\' and \\'Empty\\' classes, detailing its purpose, parameters, and return value.\", \\'instruction_part\\': \\'Change the code so that it supports a remove element method called `remove`\\'}, {\\'type\\': \\'Code Structure and Modularity\\', \\'constraint\\': \"The implementation of the \\'remove\\' method in the \\'Cons\\' class must utilize recursion to traverse the list, ensuring a consistent approach to list manipulation.\", \\'instruction_part\\': \\'Change the code so that it supports a remove element method called `remove`\\'}, {\\'type\\': \\'Documentation and Readability\\', \\'constraint\\': \"Ensure that all methods in the \\'LinkedList\\' class, including \\'remove\\', \\'insert\\', and \\'sort\\', have consistent and clear naming conventions that reflect their functionality.\", \\'instruction_part\\': \\'Change the code so that it supports a remove element method called `remove`\\'}]', '[{\\'type\\': \\'Error Handling and Robustness\\', \\'constraint\\': \"The \\'distances_to\\' function must raise a ValueError if a negative cycle is detected in the graph.\", \\'instruction_part\\': \\'throw a `ValueError` if there are any negative cycles in the graph.\\'}, {\\'type\\': \\'Error Handling and Robustness\\', \\'constraint\\': \"The \\'distances_to\\' function must check for the presence of negative weights and handle them appropriately without crashing.\", \\'instruction_part\\': \\'support negative weights\\'}, {\\'type\\': \\'Data Processing and Transformation\\', \\'constraint\\': \"The implementation of the \\'distances_to\\' function must correctly compute shortest paths using an algorithm suitable for graphs with negative weights, such as the Bellman-Ford algorithm.\", \\'instruction_part\\': \\'support negative weights\\'}, {\\'type\\': \\'Code Structure and Modularity\\', \\'constraint\\': \"The code should maintain a clear separation between the graph representation and the distance computation logic, ensuring that the \\'Graph\\' class is only responsible for managing nodes and edges.\", \\'instruction_part\\': \\'Make the `distances_to` function support negative weights\\'}, {\\'type\\': \\'Error Handling and Robustness\\', \\'constraint\\': \"The \\'add_edge\\' method must validate that the weight is not negative before adding the edge to the graph.\", \\'instruction_part\\': \\'support negative weights\\'}, {\\'type\\': \\'Data Processing and Transformation\\', \\'constraint\\': \"The \\'distances_to\\' function must return a dictionary mapping each node to its shortest distance from the start node, ensuring that the distances are accurate even with negative weights.\", \\'instruction_part\\': \\'Computes the shortest distances from start to all other nodes in the graph.\\'}, {\\'type\\': \\'Code Structure and Modularity\\', \\'constraint\\': \"All methods in the \\'Graph\\' class must include docstrings that describe their purpose, parameters, and return values.\", \\'instruction_part\\': \\'Make the `distances_to` function support negative weights\\'}]', '[{\\'type\\': \\'Data Processing and Transformation\\', \\'constraint\\': \\'Ensure that the data used for plotting is a 2D NumPy array of shape (m, n) where m and n are both greater than 0.\\', \\'instruction_part\\': \\'data = np.random.random((10, 10))\\'}, {\\'type\\': \\'UI and Interaction\\', \\'constraint\\': \"Set the colormap for the plot to \\'viridis\\' to enhance visual clarity and accessibility.\", \\'instruction_part\\': \\'plt.imshow(data)\\'}, {\\'type\\': \\'UI and Interaction\\', \\'constraint\\': \\'Include axis labels for both x and y axes using plt.xlabel() and plt.ylabel() to describe the data being plotted.\\', \\'instruction_part\\': \\'plt.colorbar()\\'}, {\\'type\\': \\'Documentation and Readability\\', \\'constraint\\': \\'Add a docstring at the beginning of the code that describes the purpose of the code, the expected input data shape, and the output visualization.\\', \\'instruction_part\\': \\'import matplotlib.pyplot as plt\\'}, {\\'type\\': \\'Documentation and Readability\\', \\'constraint\\': \\'Use comments to explain each major step of the code, including data generation, plotting, and displaying the colorbar.\\', \\'instruction_part\\': \\'# plot the 2d matrix data with a colorbar\\'}]', '[{\\'type\\': \\'Code Structure and Modularity\\', \\'constraint\\': \\'The function syllable_count must call the combo function to count combos before counting vowels, ensuring the correct order of operations.\\', \\'instruction_part\\': \"Modify the function syllable_count so each \\'combo\\' in line is counted as 1 syllable.\"}, {\\'type\\': \\'Data Processing and Transformation\\', \\'constraint\\': \\'The combo function must correctly identify and count all defined combos (V+V, VM+V, V+HV, VM+HV) in a single pass through the line, optimizing performance.\\', \\'instruction_part\\': \"A \\'combo\\' is: a vowel at the end of a word followed by a vowel at the beginning of the next word...\"}, {\\'type\\': \\'Input and Output Handling\\', \\'constraint\\': \\'The syllable_count function must validate that the input line is a string and raise a ValueError with a specific message if it is not.\\', \\'instruction_part\\': \\'Make sure that combos are not also counted as vowels.\\'}, {\\'type\\': \\'Documentation and Readability\\', \\'constraint\\': \\'Each function must include a docstring that describes its purpose, parameters, and return values, adhering to PEP 257 standards.\\', \\'instruction_part\\': \"Modify the function syllable_count so each \\'combo\\' in line is counted as 1 syllable.\"}, {\\'type\\': \\'Code Structure and Modularity\\', \\'constraint\\': \\'The remove_combo function must not modify the original line; instead, it should return a new string with combos replaced by underscores, ensuring immutability.\\', \\'instruction_part\\': \\'Make sure that combos are not also counted as vowels.\\'}, {\\'type\\': \\'Data Processing and Transformation\\', \\'constraint\\': \\'The prepare_string function must remove all punctuation and digits from the input line and convert it to lowercase, ensuring consistent processing of input.\\', \\'instruction_part\\': \"Modify the function syllable_count so each \\'combo\\' in line is counted as 1 syllable.\"}]', '[{\\'type\\': \\'Data Processing and Transformation\\', \\'constraint\\': \\'Ensure that the softmax calculation is performed using vectorized operations instead of nested loops to improve efficiency.\\', \\'instruction_part\\': \\'find the softmax and min-max normalization of column b in each group.\\'}, {\\'type\\': \\'Data Processing and Transformation\\', \\'constraint\\': \\'Implement the min-max normalization using the formula (value - min) / (max - min) for each group without using global min and max variables.\\', \\'instruction_part\\': \\'find the softmax and min-max normalization of column b in each group.\\'}, {\\'type\\': \\'Performance and Optimization\\', \\'constraint\\': \\'Optimize the code to avoid recalculating the exponential sum for each row by computing it once per group.\\', \\'instruction_part\\': \\'find the softmax and min-max normalization of column b in each group.\\'}, {\\'type\\': \\'Documentation and Readability\\', \\'constraint\\': \"Add docstrings to the function \\'g\\' explaining its parameters, return value, and a brief description of its purpose.\", \\'instruction_part\\': \\'I want to find the softmax and min-max normalization of column b in each group.\\'}, {\\'type\\': \\'Documentation and Readability\\', \\'constraint\\': \\'Include inline comments explaining the purpose of key operations, especially within the loops for clarity.\\', \\'instruction_part\\': \\'find the softmax and min-max normalization of column b in each group.\\'}, {\\'type\\': \\'Data Processing and Transformation\\', \\'constraint\\': \"Ensure that the output DataFrame contains the original columns along with the new \\'softmax\\' and \\'min-max\\' columns in the specified order.\", \\'instruction_part\\': \\'desired output: a b softmax min-max\\'}, {\\'type\\': \\'Performance and Optimization\\', \\'constraint\\': \"Avoid using \\'np.inf\\' and \\'-np.inf\\' for min and max initialization; instead, use the first value of the group to initialize these variables.\", \\'instruction_part\\': \\'find the softmax and min-max normalization of column b in each group.\\'}]', \"[{'type': 'Data Processing and Transformation', 'constraint': 'Ensure that the function correctly applies all applicable fees, discounts, and surcharges based on the given price, including the new handling fee for totals over $2000.', 'instruction_part': 'Edit the given code to fix the bug and increase the difficulty'}, {'type': 'Error Handling and Robustness', 'constraint': 'Implement input validation to check if the price is a positive number; raise a ValueError if the input is invalid.', 'instruction_part': 'Edit the given code to fix the bug and increase the difficulty'}, {'type': 'Performance and Optimization', 'constraint': 'Optimize the calculation by minimizing the number of times the total variable is modified; consider calculating the final total in a single expression where possible.', 'instruction_part': 'Edit the given code to fix the bug and increase the difficulty'}, {'type': 'Documentation and Readability', 'constraint': 'Add docstrings to the function that describe its purpose, parameters, return value, and any exceptions that may be raised.', 'instruction_part': 'Edit the given code to fix the bug and increase the difficulty'}, {'type': 'Error Handling and Robustness', 'constraint': 'Ensure that the function handles edge cases, such as when the price is exactly $1000, $500, or $2000, and verify that the correct calculations are applied in these scenarios.', 'instruction_part': 'Edit the given code to fix the bug and increase the difficulty'}, {'type': 'Documentation and Readability', 'constraint': 'Include inline comments explaining the logic behind each conditional statement to enhance code clarity.', 'instruction_part': 'Edit the given code to fix the bug and increase the difficulty'}, {'type': 'Performance and Optimization', 'constraint': 'Avoid redundant calculations by storing intermediate results, such as the total after tax, in separate variables before applying discounts and surcharges.', 'instruction_part': 'Edit the given code to fix the bug and increase the difficulty'}]\", '[{\\'type\\': \\'File and Data Management\\', \\'constraint\\': \\'Ensure that the function checks if the specified directory exists before attempting to restore it. If it does not exist, return an error message indicating that the directory cannot be restored.\\', \\'instruction_part\\': \\'Rollback the update of a directory by restoring it from a backup.\\'}, {\\'type\\': \\'Error Handling and Robustness\\', \\'constraint\\': \\'Implement error handling to catch exceptions that may occur during file operations, such as permission errors when trying to delete or copy directories, and return a descriptive error message.\\', \\'instruction_part\\': \\'The function should output with: directory (str): The restored directory path if successful, otherwise an error message.\\'}, {\\'type\\': \\'Input and Output Handling\\', \\'constraint\\': \\'The function must return a string that is either the path of the restored directory or a specific error message. Ensure that the output format is consistent and clearly indicates success or failure.\\', \\'instruction_part\\': \\'The function should output with: directory (str): The restored directory path if successful, otherwise an error message.\\'}, {\\'type\\': \\'Documentation and Readability\\', \\'constraint\\': \"Include a docstring at the beginning of the function that describes its purpose, parameters, and return values, following the format: \\'Restores a specified directory from the latest backup if available.\\'\", \\'instruction_part\\': \\'You should write self-contained code starting with: import os import shutil\\'}, {\\'type\\': \\'File and Data Management\\', \\'constraint\\': \\'Before copying the backup, ensure that the destination directory does not already exist to prevent overwriting. If it exists, return an error message indicating that the restore operation cannot proceed.\\', \\'instruction_part\\': \\'Rollback the update of a directory by restoring it from a backup.\\'}, {\\'type\\': \\'Error Handling and Robustness\\', \\'constraint\\': \\'Check for the existence of backups in the backup directory and return an error message if no backups are found, ensuring that the function handles this case gracefully.\\', \\'instruction_part\\': \\'Note that: This function will return the restored directory path on successful rollback, or an error message otherwise.\\'}, {\\'type\\': \\'Documentation and Readability\\', \\'constraint\\': \"Use clear variable names that describe their purpose, such as \\'latest_backup\\' for the most recent backup directory, to enhance code readability.\", \\'instruction_part\\': \\'The function should output with: directory (str): The restored directory path if successful, otherwise an error message.\\'}]']\n"
          ]
        }
      ],
      "source": [
        "\n",
        "\n",
        "# Flatten all constraints from all rows into a single list\n",
        "all_constraints = []\n",
        "for row in df[\"extracted_constraints\"]:\n",
        "    # If the constraints are stored as a string, convert to list of dicts\n",
        "    if isinstance(row, str):\n",
        "        constraints = ast.literal_eval(row)\n",
        "    else:\n",
        "        constraints = row\n",
        "    all_constraints.extend(constraints)\n",
        "\n",
        "print(all_constraints)\n"
      ]
    },
    {
      "cell_type": "code",
      "execution_count": 70,
      "metadata": {},
      "outputs": [
        {
          "data": {
            "text/plain": [
              "[\"The function must be named 'generate_sine_cosine_diagrams' and should not contain any hardcoded values outside of the function definition.\",\n",
              " \"The function must accept parameters for the start and end of the interval (e.g., 'start' and 'end') and the number of points to plot (e.g., 'num_points').\",\n",
              " 'The function must return a tuple containing a Matplotlib Figure object and an ndarray of Matplotlib Axes objects, as specified in the instruction.',\n",
              " 'Include a docstring at the beginning of the function that describes its purpose, parameters, and return values in a clear and concise manner.',\n",
              " 'All variables used in the function must have descriptive names that clearly indicate their purpose.',\n",
              " \"Ensure that the sine and cosine functions are computed using NumPy's np.sin() and np.cos() methods, and verify that the input to these functions is a NumPy array.\",\n",
              " 'The plotting code for the sine and cosine functions should be encapsulated in separate helper functions to promote modularity.',\n",
              " 'Include inline comments explaining key steps in the code, such as the creation of the x_values array and the plotting process.']"
            ]
          },
          "execution_count": 70,
          "metadata": {},
          "output_type": "execute_result"
        }
      ],
      "source": [
        "def generate_constraint_list (constraints):\n",
        "    con_list = []\n",
        "    # print(constraints)\n",
        "    if isinstance(constraints, str):\n",
        "        constraints = ast.literal_eval(constraints)\n",
        "    for item in constraints:\n",
        "        # print(item)\n",
        "        if isinstance(item, str):\n",
        "            item = ast.literal_eval(item)\n",
        "            # print(item)\n",
        "        if item[\"constraint\"]:\n",
        "                con_list.append(item[\"constraint\"])\n",
        "    return con_list\n",
        "    \n",
        "generate_constraint_list(df.iloc[0][\"extracted_constraints\"])"
      ]
    },
    {
      "cell_type": "code",
      "execution_count": 72,
      "metadata": {},
      "outputs": [
        {
          "name": "stdout",
          "output_type": "stream",
          "text": [
            "Your main task is to Generate diagrams for the sine and cosine functions over the interval [0, 2π]. This function plots the sine and cosine functions, setting appropriate titles and axis labels. The sine function plot is labeled 'Sine function', with x-axis labeled 'x' and y-axis labeled 'sin(x)'. The cosine function plot is labeled 'Cosine function', with x-axis labeled 'x' and y-axis labeled 'cos(x)'.\n",
            "The function should output with:\n",
            "    Figure: A Matplotlib Figure object containing the plots.\n",
            "    ndarray: An array of Matplotlib Axes objects for the subplots, where:\n",
            "    The first Axes object contains the sine function plot.\n",
            "    The second Axes object contains the cosine function plot.\n",
            "You should write self-contained code starting with:\n",
            "```\n",
            "import numpy as np\n",
            "import matplotlib.pyplot as plt\n",
            "def task_func():\n",
            "```\n",
            "\n",
            "When developing the solution, it is crucial to also fulfill the following requirements:\n",
            "The function must be named 'generate_sine_cosine_diagrams' and should not contain any hardcoded values outside of the function definition.\n",
            "The function must accept parameters for the start and end of the interval (e.g., 'start' and 'end') and the number of points to plot (e.g., 'num_points').\n",
            "The function must return a tuple containing a Matplotlib Figure object and an ndarray of Matplotlib Axes objects, as specified in the instruction.\n",
            "Include a docstring at the beginning of the function that describes its purpose, parameters, and return values in a clear and concise manner.\n",
            "All variables used in the function must have descriptive names that clearly indicate their purpose.\n",
            "Ensure that the sine and cosine functions are computed using NumPy's np.sin() and np.cos() methods, and verify that the input to these functions is a NumPy array.\n",
            "The plotting code for the sine and cosine functions should be encapsulated in separate helper functions to promote modularity.\n",
            "Include inline comments explaining key steps in the code, such as the creation of the x_values array and the plotting process.\n"
          ]
        }
      ],
      "source": [
        "print(combine_instruction_and_constraints_embedded_style(df.iloc[0][\"instruction\"],generate_constraint_list(df.iloc[0][\"extracted_constraints\"]) ))"
      ]
    },
    {
      "cell_type": "code",
      "execution_count": 76,
      "metadata": {},
      "outputs": [
        {
          "name": "stdout",
          "output_type": "stream",
          "text": [
            "\n",
            "Original Instruction:\n",
            "Generate diagrams for the sine and cosine functions over the interval [0, 2π]. This function plots the sine and cosine functions, setting appropriate titles and axis labels. The sine function plot is labeled 'Sine function', with x-axis labeled 'x' and y-axis labeled 'sin(x)'. The cosine function plot is labeled 'Cosine function', with x-axis labeled 'x' and y-axis labeled 'cos(x)'.\n",
            "The function should output with:\n",
            "    Figure: A Matplotlib Figure object containing the plots.\n",
            "    ndarray: An array of Matplotlib Axes objects for the subplots, where:\n",
            "    The first Axes object contains the sine function plot.\n",
            "    The second Axes object contains the cosine function plot.\n",
            "You should write self-contained code starting with:\n",
            "```\n",
            "import numpy as np\n",
            "import matplotlib.pyplot as plt\n",
            "def task_func():\n",
            "```\n",
            "\n",
            "Constraints to Embed:\n",
            "- The function must be named 'generate_sine_cosine_diagrams' and should not contain any hardcoded values outside of the function definition.\n",
            "- The function must accept parameters for the start and end of the interval (e.g., 'start' and 'end') and the number of points to plot (e.g., 'num_points').\n",
            "- The function must return a tuple containing a Matplotlib Figure object and an ndarray of Matplotlib Axes objects, as specified in the instruction.\n",
            "- Include a docstring at the beginning of the function that describes its purpose, parameters, and return values in a clear and concise manner.\n",
            "- All variables used in the function must have descriptive names that clearly indicate their purpose.\n",
            "- Ensure that the sine and cosine functions are computed using NumPy's np.sin() and np.cos() methods, and verify that the input to these functions is a NumPy array.\n",
            "- The plotting code for the sine and cosine functions should be encapsulated in separate helper functions to promote modularity.\n",
            "- Include inline comments explaining key steps in the code, such as the creation of the x_values array and the plotting process.\n",
            "\n",
            "Your Goal:\n",
            "Rephrase the 'Original Instruction' to naturally incorporate all 'Constraints to Embed' into a single, cohesive paragraph or a few flowing sentences. The output should sound like a complete, natural programming task description. Do NOT use headings, bullet points, numbered lists, or any explicit separators like 'Constraints:' or 'Requirements:'. The constraints should feel like an organic part of the instruction itself. Ensure the final output is grammatically correct.\n",
            "\n",
            "Final Embedded Prompt:\n",
            "\n"
          ]
        }
      ],
      "source": [
        "SYSTEM_PROMPT_EMBEDDING_LLM = \"\"\"\n",
        "You are an expert natural language rephraser. Your task is to seamlessly integrate a list of specific programming constraints into a given natural language instruction. The goal is to produce a single, fluid, and grammatically correct prompt where the constraints are an implicit part of the main instruction, without any explicit headings, bullet points, or separate sections for constraints.\n",
        "\"\"\"\n",
        "\n",
        "def get_embedding_llm_prompt(original_instruction: str, constraints: list[str]) -> str:\n",
        "\n",
        "    if not original_instruction:\n",
        "        raise ValueError(\"Original instruction cannot be empty.\")\n",
        "    if not isinstance(constraints, list) or not all(isinstance(c, str) for c in constraints):\n",
        "        raise TypeError(\"Constraints must be a list of strings.\")\n",
        "\n",
        "    # Format constraints as a simple list for the embedding LLM to process\n",
        "    formatted_constraints_list = \"\\n\".join([f\"- {c.strip()}\" for c in constraints])\n",
        "\n",
        "    user_prompt = f\"\"\"\n",
        "Original Instruction:\n",
        "{original_instruction}\n",
        "\n",
        "Constraints to Embed:\n",
        "{formatted_constraints_list}\n",
        "\n",
        "Your Goal:\n",
        "Rephrase the 'Original Instruction' to naturally incorporate all 'Constraints to Embed' into a single, cohesive paragraph or a few flowing sentences. The output should sound like a complete, natural programming task description. Do NOT use headings, bullet points, numbered lists, or any explicit separators like 'Constraints:' or 'Requirements:'. The constraints should feel like an organic part of the instruction itself. Ensure the final output is grammatically correct.\n",
        "\n",
        "Final Embedded Prompt:\n",
        "\"\"\"\n",
        "    return user_prompt\n",
        "\n",
        "prompt = get_embedding_llm_prompt(df.iloc[0][\"instruction\"],generate_constraint_list(df.iloc[0][\"extracted_constraints\"]))\n",
        "print(prompt)\n"
      ]
    },
    {
      "cell_type": "code",
      "execution_count": 79,
      "metadata": {},
      "outputs": [
        {
          "name": "stdout",
          "output_type": "stream",
          "text": [
            "Generate diagrams for the sine and cosine functions over a specified interval by creating a function named 'generate_sine_cosine_diagrams' that accepts parameters for the start and end of the interval, as well as the number of points to plot. This function should include a docstring that clearly describes its purpose, parameters, and return values, and it must return a tuple containing a Matplotlib Figure object and an ndarray of Matplotlib Axes objects. The first Axes object should display the sine function, labeled 'Sine function', while the second Axes object should show the cosine function, labeled 'Cosine function'. Ensure that all variables within the function have descriptive names that indicate their purpose, and compute the sine and cosine values using NumPy's np.sin() and np.cos() methods, confirming that the input to these functions is a NumPy array. The plotting code for both functions should be encapsulated in separate helper functions to enhance modularity, and include inline comments to explain key steps, such as the creation of the x_values array and the plotting process. Begin your code with the necessary imports, and ensure that no hardcoded values are present outside of the function definition.\n"
          ]
        }
      ],
      "source": [
        "final_prompt = get_response(prompt,system_prompt=SYSTEM_PROMPT_EMBEDDING_LLM)\n",
        "print(final_prompt)"
      ]
    },
    {
      "cell_type": "code",
      "execution_count": null,
      "metadata": {},
      "outputs": [],
      "source": []
    }
  ],
  "metadata": {
    "colab": {
      "provenance": []
    },
    "kernelspec": {
      "display_name": "internship",
      "language": "python",
      "name": "python3"
    },
    "language_info": {
      "codemirror_mode": {
        "name": "ipython",
        "version": 3
      },
      "file_extension": ".py",
      "mimetype": "text/x-python",
      "name": "python",
      "nbconvert_exporter": "python",
      "pygments_lexer": "ipython3",
      "version": "3.13.3"
    }
  },
  "nbformat": 4,
  "nbformat_minor": 0
}
